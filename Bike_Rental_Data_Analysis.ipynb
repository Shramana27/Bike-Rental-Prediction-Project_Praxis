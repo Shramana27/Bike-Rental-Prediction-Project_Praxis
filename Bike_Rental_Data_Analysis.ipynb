{
  "cells": [
    {
      "cell_type": "markdown",
      "source": [
        "# OBJECTIVE:"
      ],
      "metadata": {
        "id": "AJkTXnKlBeNy"
      },
      "id": "AJkTXnKlBeNy"
    },
    {
      "cell_type": "markdown",
      "source": [
        "The dataset has been taken from Kaggle and there are 17379 rows and 16 columns.\n",
        "\n",
        "The goal is to predict the count of the bikes rented with the help of the attributes such as temperature, windspeed, humidity, etc.\n",
        "\n",
        "The dataset is of Laboratory of Artificial Intelligence and Decision Support (LIAAD), University of Porto, Portugal. \n",
        "\n",
        "Bike sharing systems are new generation of traditional bike rentals where whole process from membership, rental and return \n",
        "back has become automatic.\n",
        "\n",
        "Currently, there are about over 500 bike-sharing programs around the world which is composed of \n",
        "over 500 thousands bicycles. \n",
        "\n",
        "There exists great interest in these systems due to their important role in traffic, environmental and health issues. All the data are recorded regarding this bike rental service and thus this feature turns bike sharing system into a virtual sensor network that can be used for sensing mobility in the city. Hence, it is expected that most of important\n",
        "events in the city could be detected via monitoring these data."
      ],
      "metadata": {
        "id": "aMiZF2lmBhTx"
      },
      "id": "aMiZF2lmBhTx"
    },
    {
      "cell_type": "markdown",
      "source": [
        "Steps used:\n",
        "1. Missing Value Detection, Outlier Removal\n",
        "\n",
        "2. EDA\n",
        "\n",
        "3. Correlation heatmap\n",
        "\n",
        "4. Feature Engineering, One-hot encoding and multivariate regression\n"
      ],
      "metadata": {
        "id": "3VC-e7cYehCx"
      },
      "id": "3VC-e7cYehCx"
    },
    {
      "cell_type": "code",
      "source": [
        "#importing google colab drive\n",
        "from google.colab import drive\n",
        "drive.mount('/content/drive')"
      ],
      "metadata": {
        "colab": {
          "base_uri": "https://localhost:8080/"
        },
        "id": "Ijux4KPgt_of",
        "outputId": "f74d21cd-0797-4464-d3f5-6df178362cec"
      },
      "id": "Ijux4KPgt_of",
      "execution_count": null,
      "outputs": [
        {
          "output_type": "stream",
          "name": "stdout",
          "text": [
            "Drive already mounted at /content/drive; to attempt to forcibly remount, call drive.mount(\"/content/drive\", force_remount=True).\n"
          ]
        }
      ]
    },
    {
      "cell_type": "code",
      "execution_count": null,
      "id": "c10a994f",
      "metadata": {
        "id": "c10a994f"
      },
      "outputs": [],
      "source": [
        "# importing all libraries\n",
        "\n",
        "import pandas as pd\n",
        "import matplotlib.pyplot as plt\n",
        "import seaborn as sns\n",
        "from scipy import stats\n",
        "from sklearn.linear_model import LinearRegression\n",
        "import numpy as np\n",
        "import statsmodels.api as sm\n",
        "from statsmodels.stats.proportion import proportions_ztest\n",
        "import scipy.stats as stats\n",
        "from sklearn.metrics import mean_squared_error"
      ]
    },
    {
      "cell_type": "code",
      "source": [
        "#data is stored in df_hour\n",
        "df_hour=pd.read_csv(\"/content/drive/MyDrive/hour.csv\",parse_dates=['dteday'])\n",
        "df_hour.set_index('instant',inplace=True)"
      ],
      "metadata": {
        "id": "PnX65FyWvDNf"
      },
      "id": "PnX65FyWvDNf",
      "execution_count": null,
      "outputs": []
    },
    {
      "cell_type": "code",
      "execution_count": null,
      "id": "910f1700",
      "metadata": {
        "colab": {
          "base_uri": "https://localhost:8080/",
          "height": 237
        },
        "id": "910f1700",
        "outputId": "86b67208-a4c8-46e9-861a-023d3e374140"
      },
      "outputs": [
        {
          "output_type": "execute_result",
          "data": {
            "text/plain": [
              "            dteday  season  yr  mnth  hr  holiday  weekday  workingday  \\\n",
              "instant                                                                  \n",
              "1       2011-01-01       1   0     1   0        0        6           0   \n",
              "2       2011-01-01       1   0     1   1        0        6           0   \n",
              "3       2011-01-01       1   0     1   2        0        6           0   \n",
              "4       2011-01-01       1   0     1   3        0        6           0   \n",
              "5       2011-01-01       1   0     1   4        0        6           0   \n",
              "\n",
              "         weathersit  temp   atemp   hum  windspeed  casual  registered  cnt  \n",
              "instant                                                                      \n",
              "1                 1  0.24  0.2879  0.81        0.0       3          13   16  \n",
              "2                 1  0.22  0.2727  0.80        0.0       8          32   40  \n",
              "3                 1  0.22  0.2727  0.80        0.0       5          27   32  \n",
              "4                 1  0.24  0.2879  0.75        0.0       3          10   13  \n",
              "5                 1  0.24  0.2879  0.75        0.0       0           1    1  "
            ],
            "text/html": [
              "\n",
              "  <div id=\"df-a04cd79a-ac78-485a-815c-929cdfea88b3\">\n",
              "    <div class=\"colab-df-container\">\n",
              "      <div>\n",
              "<style scoped>\n",
              "    .dataframe tbody tr th:only-of-type {\n",
              "        vertical-align: middle;\n",
              "    }\n",
              "\n",
              "    .dataframe tbody tr th {\n",
              "        vertical-align: top;\n",
              "    }\n",
              "\n",
              "    .dataframe thead th {\n",
              "        text-align: right;\n",
              "    }\n",
              "</style>\n",
              "<table border=\"1\" class=\"dataframe\">\n",
              "  <thead>\n",
              "    <tr style=\"text-align: right;\">\n",
              "      <th></th>\n",
              "      <th>dteday</th>\n",
              "      <th>season</th>\n",
              "      <th>yr</th>\n",
              "      <th>mnth</th>\n",
              "      <th>hr</th>\n",
              "      <th>holiday</th>\n",
              "      <th>weekday</th>\n",
              "      <th>workingday</th>\n",
              "      <th>weathersit</th>\n",
              "      <th>temp</th>\n",
              "      <th>atemp</th>\n",
              "      <th>hum</th>\n",
              "      <th>windspeed</th>\n",
              "      <th>casual</th>\n",
              "      <th>registered</th>\n",
              "      <th>cnt</th>\n",
              "    </tr>\n",
              "    <tr>\n",
              "      <th>instant</th>\n",
              "      <th></th>\n",
              "      <th></th>\n",
              "      <th></th>\n",
              "      <th></th>\n",
              "      <th></th>\n",
              "      <th></th>\n",
              "      <th></th>\n",
              "      <th></th>\n",
              "      <th></th>\n",
              "      <th></th>\n",
              "      <th></th>\n",
              "      <th></th>\n",
              "      <th></th>\n",
              "      <th></th>\n",
              "      <th></th>\n",
              "      <th></th>\n",
              "    </tr>\n",
              "  </thead>\n",
              "  <tbody>\n",
              "    <tr>\n",
              "      <th>1</th>\n",
              "      <td>2011-01-01</td>\n",
              "      <td>1</td>\n",
              "      <td>0</td>\n",
              "      <td>1</td>\n",
              "      <td>0</td>\n",
              "      <td>0</td>\n",
              "      <td>6</td>\n",
              "      <td>0</td>\n",
              "      <td>1</td>\n",
              "      <td>0.24</td>\n",
              "      <td>0.2879</td>\n",
              "      <td>0.81</td>\n",
              "      <td>0.0</td>\n",
              "      <td>3</td>\n",
              "      <td>13</td>\n",
              "      <td>16</td>\n",
              "    </tr>\n",
              "    <tr>\n",
              "      <th>2</th>\n",
              "      <td>2011-01-01</td>\n",
              "      <td>1</td>\n",
              "      <td>0</td>\n",
              "      <td>1</td>\n",
              "      <td>1</td>\n",
              "      <td>0</td>\n",
              "      <td>6</td>\n",
              "      <td>0</td>\n",
              "      <td>1</td>\n",
              "      <td>0.22</td>\n",
              "      <td>0.2727</td>\n",
              "      <td>0.80</td>\n",
              "      <td>0.0</td>\n",
              "      <td>8</td>\n",
              "      <td>32</td>\n",
              "      <td>40</td>\n",
              "    </tr>\n",
              "    <tr>\n",
              "      <th>3</th>\n",
              "      <td>2011-01-01</td>\n",
              "      <td>1</td>\n",
              "      <td>0</td>\n",
              "      <td>1</td>\n",
              "      <td>2</td>\n",
              "      <td>0</td>\n",
              "      <td>6</td>\n",
              "      <td>0</td>\n",
              "      <td>1</td>\n",
              "      <td>0.22</td>\n",
              "      <td>0.2727</td>\n",
              "      <td>0.80</td>\n",
              "      <td>0.0</td>\n",
              "      <td>5</td>\n",
              "      <td>27</td>\n",
              "      <td>32</td>\n",
              "    </tr>\n",
              "    <tr>\n",
              "      <th>4</th>\n",
              "      <td>2011-01-01</td>\n",
              "      <td>1</td>\n",
              "      <td>0</td>\n",
              "      <td>1</td>\n",
              "      <td>3</td>\n",
              "      <td>0</td>\n",
              "      <td>6</td>\n",
              "      <td>0</td>\n",
              "      <td>1</td>\n",
              "      <td>0.24</td>\n",
              "      <td>0.2879</td>\n",
              "      <td>0.75</td>\n",
              "      <td>0.0</td>\n",
              "      <td>3</td>\n",
              "      <td>10</td>\n",
              "      <td>13</td>\n",
              "    </tr>\n",
              "    <tr>\n",
              "      <th>5</th>\n",
              "      <td>2011-01-01</td>\n",
              "      <td>1</td>\n",
              "      <td>0</td>\n",
              "      <td>1</td>\n",
              "      <td>4</td>\n",
              "      <td>0</td>\n",
              "      <td>6</td>\n",
              "      <td>0</td>\n",
              "      <td>1</td>\n",
              "      <td>0.24</td>\n",
              "      <td>0.2879</td>\n",
              "      <td>0.75</td>\n",
              "      <td>0.0</td>\n",
              "      <td>0</td>\n",
              "      <td>1</td>\n",
              "      <td>1</td>\n",
              "    </tr>\n",
              "  </tbody>\n",
              "</table>\n",
              "</div>\n",
              "      <button class=\"colab-df-convert\" onclick=\"convertToInteractive('df-a04cd79a-ac78-485a-815c-929cdfea88b3')\"\n",
              "              title=\"Convert this dataframe to an interactive table.\"\n",
              "              style=\"display:none;\">\n",
              "        \n",
              "  <svg xmlns=\"http://www.w3.org/2000/svg\" height=\"24px\"viewBox=\"0 0 24 24\"\n",
              "       width=\"24px\">\n",
              "    <path d=\"M0 0h24v24H0V0z\" fill=\"none\"/>\n",
              "    <path d=\"M18.56 5.44l.94 2.06.94-2.06 2.06-.94-2.06-.94-.94-2.06-.94 2.06-2.06.94zm-11 1L8.5 8.5l.94-2.06 2.06-.94-2.06-.94L8.5 2.5l-.94 2.06-2.06.94zm10 10l.94 2.06.94-2.06 2.06-.94-2.06-.94-.94-2.06-.94 2.06-2.06.94z\"/><path d=\"M17.41 7.96l-1.37-1.37c-.4-.4-.92-.59-1.43-.59-.52 0-1.04.2-1.43.59L10.3 9.45l-7.72 7.72c-.78.78-.78 2.05 0 2.83L4 21.41c.39.39.9.59 1.41.59.51 0 1.02-.2 1.41-.59l7.78-7.78 2.81-2.81c.8-.78.8-2.07 0-2.86zM5.41 20L4 18.59l7.72-7.72 1.47 1.35L5.41 20z\"/>\n",
              "  </svg>\n",
              "      </button>\n",
              "      \n",
              "  <style>\n",
              "    .colab-df-container {\n",
              "      display:flex;\n",
              "      flex-wrap:wrap;\n",
              "      gap: 12px;\n",
              "    }\n",
              "\n",
              "    .colab-df-convert {\n",
              "      background-color: #E8F0FE;\n",
              "      border: none;\n",
              "      border-radius: 50%;\n",
              "      cursor: pointer;\n",
              "      display: none;\n",
              "      fill: #1967D2;\n",
              "      height: 32px;\n",
              "      padding: 0 0 0 0;\n",
              "      width: 32px;\n",
              "    }\n",
              "\n",
              "    .colab-df-convert:hover {\n",
              "      background-color: #E2EBFA;\n",
              "      box-shadow: 0px 1px 2px rgba(60, 64, 67, 0.3), 0px 1px 3px 1px rgba(60, 64, 67, 0.15);\n",
              "      fill: #174EA6;\n",
              "    }\n",
              "\n",
              "    [theme=dark] .colab-df-convert {\n",
              "      background-color: #3B4455;\n",
              "      fill: #D2E3FC;\n",
              "    }\n",
              "\n",
              "    [theme=dark] .colab-df-convert:hover {\n",
              "      background-color: #434B5C;\n",
              "      box-shadow: 0px 1px 3px 1px rgba(0, 0, 0, 0.15);\n",
              "      filter: drop-shadow(0px 1px 2px rgba(0, 0, 0, 0.3));\n",
              "      fill: #FFFFFF;\n",
              "    }\n",
              "  </style>\n",
              "\n",
              "      <script>\n",
              "        const buttonEl =\n",
              "          document.querySelector('#df-a04cd79a-ac78-485a-815c-929cdfea88b3 button.colab-df-convert');\n",
              "        buttonEl.style.display =\n",
              "          google.colab.kernel.accessAllowed ? 'block' : 'none';\n",
              "\n",
              "        async function convertToInteractive(key) {\n",
              "          const element = document.querySelector('#df-a04cd79a-ac78-485a-815c-929cdfea88b3');\n",
              "          const dataTable =\n",
              "            await google.colab.kernel.invokeFunction('convertToInteractive',\n",
              "                                                     [key], {});\n",
              "          if (!dataTable) return;\n",
              "\n",
              "          const docLinkHtml = 'Like what you see? Visit the ' +\n",
              "            '<a target=\"_blank\" href=https://colab.research.google.com/notebooks/data_table.ipynb>data table notebook</a>'\n",
              "            + ' to learn more about interactive tables.';\n",
              "          element.innerHTML = '';\n",
              "          dataTable['output_type'] = 'display_data';\n",
              "          await google.colab.output.renderOutput(dataTable, element);\n",
              "          const docLink = document.createElement('div');\n",
              "          docLink.innerHTML = docLinkHtml;\n",
              "          element.appendChild(docLink);\n",
              "        }\n",
              "      </script>\n",
              "    </div>\n",
              "  </div>\n",
              "  "
            ]
          },
          "metadata": {},
          "execution_count": 30
        }
      ],
      "source": [
        "#\".head()\" method will show the first 5 rows of the dataframe\n",
        "df_hour.head()"
      ]
    },
    {
      "cell_type": "code",
      "execution_count": null,
      "id": "fe072d4e",
      "metadata": {
        "colab": {
          "base_uri": "https://localhost:8080/",
          "height": 364
        },
        "id": "fe072d4e",
        "outputId": "526e075d-acce-4fc8-d3ba-20cdbbb03724"
      },
      "outputs": [
        {
          "output_type": "execute_result",
          "data": {
            "text/plain": [
              "             season            yr          mnth            hr       holiday  \\\n",
              "count  17379.000000  17379.000000  17379.000000  17379.000000  17379.000000   \n",
              "mean       2.501640      0.502561      6.537775     11.546752      0.028770   \n",
              "std        1.106918      0.500008      3.438776      6.914405      0.167165   \n",
              "min        1.000000      0.000000      1.000000      0.000000      0.000000   \n",
              "25%        2.000000      0.000000      4.000000      6.000000      0.000000   \n",
              "50%        3.000000      1.000000      7.000000     12.000000      0.000000   \n",
              "75%        3.000000      1.000000     10.000000     18.000000      0.000000   \n",
              "max        4.000000      1.000000     12.000000     23.000000      1.000000   \n",
              "\n",
              "            weekday    workingday    weathersit          temp         atemp  \\\n",
              "count  17379.000000  17379.000000  17379.000000  17379.000000  17379.000000   \n",
              "mean       3.003683      0.682721      1.425283      0.496987      0.475775   \n",
              "std        2.005771      0.465431      0.639357      0.192556      0.171850   \n",
              "min        0.000000      0.000000      1.000000      0.020000      0.000000   \n",
              "25%        1.000000      0.000000      1.000000      0.340000      0.333300   \n",
              "50%        3.000000      1.000000      1.000000      0.500000      0.484800   \n",
              "75%        5.000000      1.000000      2.000000      0.660000      0.621200   \n",
              "max        6.000000      1.000000      4.000000      1.000000      1.000000   \n",
              "\n",
              "                hum     windspeed        casual    registered           cnt  \n",
              "count  17379.000000  17379.000000  17379.000000  17379.000000  17379.000000  \n",
              "mean       0.627229      0.190098     35.676218    153.786869    189.463088  \n",
              "std        0.192930      0.122340     49.305030    151.357286    181.387599  \n",
              "min        0.000000      0.000000      0.000000      0.000000      1.000000  \n",
              "25%        0.480000      0.104500      4.000000     34.000000     40.000000  \n",
              "50%        0.630000      0.194000     17.000000    115.000000    142.000000  \n",
              "75%        0.780000      0.253700     48.000000    220.000000    281.000000  \n",
              "max        1.000000      0.850700    367.000000    886.000000    977.000000  "
            ],
            "text/html": [
              "\n",
              "  <div id=\"df-b5094383-8ea9-45e3-ac09-9558786b0a43\">\n",
              "    <div class=\"colab-df-container\">\n",
              "      <div>\n",
              "<style scoped>\n",
              "    .dataframe tbody tr th:only-of-type {\n",
              "        vertical-align: middle;\n",
              "    }\n",
              "\n",
              "    .dataframe tbody tr th {\n",
              "        vertical-align: top;\n",
              "    }\n",
              "\n",
              "    .dataframe thead th {\n",
              "        text-align: right;\n",
              "    }\n",
              "</style>\n",
              "<table border=\"1\" class=\"dataframe\">\n",
              "  <thead>\n",
              "    <tr style=\"text-align: right;\">\n",
              "      <th></th>\n",
              "      <th>season</th>\n",
              "      <th>yr</th>\n",
              "      <th>mnth</th>\n",
              "      <th>hr</th>\n",
              "      <th>holiday</th>\n",
              "      <th>weekday</th>\n",
              "      <th>workingday</th>\n",
              "      <th>weathersit</th>\n",
              "      <th>temp</th>\n",
              "      <th>atemp</th>\n",
              "      <th>hum</th>\n",
              "      <th>windspeed</th>\n",
              "      <th>casual</th>\n",
              "      <th>registered</th>\n",
              "      <th>cnt</th>\n",
              "    </tr>\n",
              "  </thead>\n",
              "  <tbody>\n",
              "    <tr>\n",
              "      <th>count</th>\n",
              "      <td>17379.000000</td>\n",
              "      <td>17379.000000</td>\n",
              "      <td>17379.000000</td>\n",
              "      <td>17379.000000</td>\n",
              "      <td>17379.000000</td>\n",
              "      <td>17379.000000</td>\n",
              "      <td>17379.000000</td>\n",
              "      <td>17379.000000</td>\n",
              "      <td>17379.000000</td>\n",
              "      <td>17379.000000</td>\n",
              "      <td>17379.000000</td>\n",
              "      <td>17379.000000</td>\n",
              "      <td>17379.000000</td>\n",
              "      <td>17379.000000</td>\n",
              "      <td>17379.000000</td>\n",
              "    </tr>\n",
              "    <tr>\n",
              "      <th>mean</th>\n",
              "      <td>2.501640</td>\n",
              "      <td>0.502561</td>\n",
              "      <td>6.537775</td>\n",
              "      <td>11.546752</td>\n",
              "      <td>0.028770</td>\n",
              "      <td>3.003683</td>\n",
              "      <td>0.682721</td>\n",
              "      <td>1.425283</td>\n",
              "      <td>0.496987</td>\n",
              "      <td>0.475775</td>\n",
              "      <td>0.627229</td>\n",
              "      <td>0.190098</td>\n",
              "      <td>35.676218</td>\n",
              "      <td>153.786869</td>\n",
              "      <td>189.463088</td>\n",
              "    </tr>\n",
              "    <tr>\n",
              "      <th>std</th>\n",
              "      <td>1.106918</td>\n",
              "      <td>0.500008</td>\n",
              "      <td>3.438776</td>\n",
              "      <td>6.914405</td>\n",
              "      <td>0.167165</td>\n",
              "      <td>2.005771</td>\n",
              "      <td>0.465431</td>\n",
              "      <td>0.639357</td>\n",
              "      <td>0.192556</td>\n",
              "      <td>0.171850</td>\n",
              "      <td>0.192930</td>\n",
              "      <td>0.122340</td>\n",
              "      <td>49.305030</td>\n",
              "      <td>151.357286</td>\n",
              "      <td>181.387599</td>\n",
              "    </tr>\n",
              "    <tr>\n",
              "      <th>min</th>\n",
              "      <td>1.000000</td>\n",
              "      <td>0.000000</td>\n",
              "      <td>1.000000</td>\n",
              "      <td>0.000000</td>\n",
              "      <td>0.000000</td>\n",
              "      <td>0.000000</td>\n",
              "      <td>0.000000</td>\n",
              "      <td>1.000000</td>\n",
              "      <td>0.020000</td>\n",
              "      <td>0.000000</td>\n",
              "      <td>0.000000</td>\n",
              "      <td>0.000000</td>\n",
              "      <td>0.000000</td>\n",
              "      <td>0.000000</td>\n",
              "      <td>1.000000</td>\n",
              "    </tr>\n",
              "    <tr>\n",
              "      <th>25%</th>\n",
              "      <td>2.000000</td>\n",
              "      <td>0.000000</td>\n",
              "      <td>4.000000</td>\n",
              "      <td>6.000000</td>\n",
              "      <td>0.000000</td>\n",
              "      <td>1.000000</td>\n",
              "      <td>0.000000</td>\n",
              "      <td>1.000000</td>\n",
              "      <td>0.340000</td>\n",
              "      <td>0.333300</td>\n",
              "      <td>0.480000</td>\n",
              "      <td>0.104500</td>\n",
              "      <td>4.000000</td>\n",
              "      <td>34.000000</td>\n",
              "      <td>40.000000</td>\n",
              "    </tr>\n",
              "    <tr>\n",
              "      <th>50%</th>\n",
              "      <td>3.000000</td>\n",
              "      <td>1.000000</td>\n",
              "      <td>7.000000</td>\n",
              "      <td>12.000000</td>\n",
              "      <td>0.000000</td>\n",
              "      <td>3.000000</td>\n",
              "      <td>1.000000</td>\n",
              "      <td>1.000000</td>\n",
              "      <td>0.500000</td>\n",
              "      <td>0.484800</td>\n",
              "      <td>0.630000</td>\n",
              "      <td>0.194000</td>\n",
              "      <td>17.000000</td>\n",
              "      <td>115.000000</td>\n",
              "      <td>142.000000</td>\n",
              "    </tr>\n",
              "    <tr>\n",
              "      <th>75%</th>\n",
              "      <td>3.000000</td>\n",
              "      <td>1.000000</td>\n",
              "      <td>10.000000</td>\n",
              "      <td>18.000000</td>\n",
              "      <td>0.000000</td>\n",
              "      <td>5.000000</td>\n",
              "      <td>1.000000</td>\n",
              "      <td>2.000000</td>\n",
              "      <td>0.660000</td>\n",
              "      <td>0.621200</td>\n",
              "      <td>0.780000</td>\n",
              "      <td>0.253700</td>\n",
              "      <td>48.000000</td>\n",
              "      <td>220.000000</td>\n",
              "      <td>281.000000</td>\n",
              "    </tr>\n",
              "    <tr>\n",
              "      <th>max</th>\n",
              "      <td>4.000000</td>\n",
              "      <td>1.000000</td>\n",
              "      <td>12.000000</td>\n",
              "      <td>23.000000</td>\n",
              "      <td>1.000000</td>\n",
              "      <td>6.000000</td>\n",
              "      <td>1.000000</td>\n",
              "      <td>4.000000</td>\n",
              "      <td>1.000000</td>\n",
              "      <td>1.000000</td>\n",
              "      <td>1.000000</td>\n",
              "      <td>0.850700</td>\n",
              "      <td>367.000000</td>\n",
              "      <td>886.000000</td>\n",
              "      <td>977.000000</td>\n",
              "    </tr>\n",
              "  </tbody>\n",
              "</table>\n",
              "</div>\n",
              "      <button class=\"colab-df-convert\" onclick=\"convertToInteractive('df-b5094383-8ea9-45e3-ac09-9558786b0a43')\"\n",
              "              title=\"Convert this dataframe to an interactive table.\"\n",
              "              style=\"display:none;\">\n",
              "        \n",
              "  <svg xmlns=\"http://www.w3.org/2000/svg\" height=\"24px\"viewBox=\"0 0 24 24\"\n",
              "       width=\"24px\">\n",
              "    <path d=\"M0 0h24v24H0V0z\" fill=\"none\"/>\n",
              "    <path d=\"M18.56 5.44l.94 2.06.94-2.06 2.06-.94-2.06-.94-.94-2.06-.94 2.06-2.06.94zm-11 1L8.5 8.5l.94-2.06 2.06-.94-2.06-.94L8.5 2.5l-.94 2.06-2.06.94zm10 10l.94 2.06.94-2.06 2.06-.94-2.06-.94-.94-2.06-.94 2.06-2.06.94z\"/><path d=\"M17.41 7.96l-1.37-1.37c-.4-.4-.92-.59-1.43-.59-.52 0-1.04.2-1.43.59L10.3 9.45l-7.72 7.72c-.78.78-.78 2.05 0 2.83L4 21.41c.39.39.9.59 1.41.59.51 0 1.02-.2 1.41-.59l7.78-7.78 2.81-2.81c.8-.78.8-2.07 0-2.86zM5.41 20L4 18.59l7.72-7.72 1.47 1.35L5.41 20z\"/>\n",
              "  </svg>\n",
              "      </button>\n",
              "      \n",
              "  <style>\n",
              "    .colab-df-container {\n",
              "      display:flex;\n",
              "      flex-wrap:wrap;\n",
              "      gap: 12px;\n",
              "    }\n",
              "\n",
              "    .colab-df-convert {\n",
              "      background-color: #E8F0FE;\n",
              "      border: none;\n",
              "      border-radius: 50%;\n",
              "      cursor: pointer;\n",
              "      display: none;\n",
              "      fill: #1967D2;\n",
              "      height: 32px;\n",
              "      padding: 0 0 0 0;\n",
              "      width: 32px;\n",
              "    }\n",
              "\n",
              "    .colab-df-convert:hover {\n",
              "      background-color: #E2EBFA;\n",
              "      box-shadow: 0px 1px 2px rgba(60, 64, 67, 0.3), 0px 1px 3px 1px rgba(60, 64, 67, 0.15);\n",
              "      fill: #174EA6;\n",
              "    }\n",
              "\n",
              "    [theme=dark] .colab-df-convert {\n",
              "      background-color: #3B4455;\n",
              "      fill: #D2E3FC;\n",
              "    }\n",
              "\n",
              "    [theme=dark] .colab-df-convert:hover {\n",
              "      background-color: #434B5C;\n",
              "      box-shadow: 0px 1px 3px 1px rgba(0, 0, 0, 0.15);\n",
              "      filter: drop-shadow(0px 1px 2px rgba(0, 0, 0, 0.3));\n",
              "      fill: #FFFFFF;\n",
              "    }\n",
              "  </style>\n",
              "\n",
              "      <script>\n",
              "        const buttonEl =\n",
              "          document.querySelector('#df-b5094383-8ea9-45e3-ac09-9558786b0a43 button.colab-df-convert');\n",
              "        buttonEl.style.display =\n",
              "          google.colab.kernel.accessAllowed ? 'block' : 'none';\n",
              "\n",
              "        async function convertToInteractive(key) {\n",
              "          const element = document.querySelector('#df-b5094383-8ea9-45e3-ac09-9558786b0a43');\n",
              "          const dataTable =\n",
              "            await google.colab.kernel.invokeFunction('convertToInteractive',\n",
              "                                                     [key], {});\n",
              "          if (!dataTable) return;\n",
              "\n",
              "          const docLinkHtml = 'Like what you see? Visit the ' +\n",
              "            '<a target=\"_blank\" href=https://colab.research.google.com/notebooks/data_table.ipynb>data table notebook</a>'\n",
              "            + ' to learn more about interactive tables.';\n",
              "          element.innerHTML = '';\n",
              "          dataTable['output_type'] = 'display_data';\n",
              "          await google.colab.output.renderOutput(dataTable, element);\n",
              "          const docLink = document.createElement('div');\n",
              "          docLink.innerHTML = docLinkHtml;\n",
              "          element.appendChild(docLink);\n",
              "        }\n",
              "      </script>\n",
              "    </div>\n",
              "  </div>\n",
              "  "
            ]
          },
          "metadata": {},
          "execution_count": 31
        }
      ],
      "source": [
        "#summary of the data\n",
        "df_hour.describe()"
      ]
    },
    {
      "cell_type": "code",
      "execution_count": null,
      "id": "a4b2a905",
      "metadata": {
        "colab": {
          "base_uri": "https://localhost:8080/"
        },
        "id": "a4b2a905",
        "outputId": "c9f03f7d-eb27-4cd5-8d39-c9705c7210e5"
      },
      "outputs": [
        {
          "output_type": "execute_result",
          "data": {
            "text/plain": [
              "(17379, 16)"
            ]
          },
          "metadata": {},
          "execution_count": 32
        }
      ],
      "source": [
        "#The \".shape\" attribute returns the overall shape of the data \n",
        "df_hour.shape"
      ]
    },
    {
      "cell_type": "code",
      "source": [
        "#checking the datatypes of columns\n",
        "df_hour.info()"
      ],
      "metadata": {
        "colab": {
          "base_uri": "https://localhost:8080/"
        },
        "id": "czhFr65H20u5",
        "outputId": "5554c0dc-02bd-4a9e-a433-66adb418873e"
      },
      "id": "czhFr65H20u5",
      "execution_count": null,
      "outputs": [
        {
          "output_type": "stream",
          "name": "stdout",
          "text": [
            "<class 'pandas.core.frame.DataFrame'>\n",
            "Int64Index: 17379 entries, 1 to 17379\n",
            "Data columns (total 16 columns):\n",
            " #   Column      Non-Null Count  Dtype         \n",
            "---  ------      --------------  -----         \n",
            " 0   dteday      17379 non-null  datetime64[ns]\n",
            " 1   season      17379 non-null  int64         \n",
            " 2   yr          17379 non-null  int64         \n",
            " 3   mnth        17379 non-null  int64         \n",
            " 4   hr          17379 non-null  int64         \n",
            " 5   holiday     17379 non-null  int64         \n",
            " 6   weekday     17379 non-null  int64         \n",
            " 7   workingday  17379 non-null  int64         \n",
            " 8   weathersit  17379 non-null  int64         \n",
            " 9   temp        17379 non-null  float64       \n",
            " 10  atemp       17379 non-null  float64       \n",
            " 11  hum         17379 non-null  float64       \n",
            " 12  windspeed   17379 non-null  float64       \n",
            " 13  casual      17379 non-null  int64         \n",
            " 14  registered  17379 non-null  int64         \n",
            " 15  cnt         17379 non-null  int64         \n",
            "dtypes: datetime64[ns](1), float64(4), int64(11)\n",
            "memory usage: 2.3 MB\n"
          ]
        }
      ]
    },
    {
      "cell_type": "markdown",
      "id": "1c90ac16",
      "metadata": {
        "id": "1c90ac16"
      },
      "source": [
        "# Exploring the data using Visualizations "
      ]
    },
    {
      "cell_type": "code",
      "execution_count": null,
      "id": "078f1ef4",
      "metadata": {
        "colab": {
          "base_uri": "https://localhost:8080/",
          "height": 404
        },
        "id": "078f1ef4",
        "outputId": "9cd1ac90-d6cb-4f5f-8c77-0992aebb81fd"
      },
      "outputs": [
        {
          "output_type": "execute_result",
          "data": {
            "text/plain": [
              "{'boxes': [<matplotlib.lines.Line2D at 0x7f1df2c01990>],\n",
              " 'caps': [<matplotlib.lines.Line2D at 0x7f1df2c06a90>,\n",
              "  <matplotlib.lines.Line2D at 0x7f1df2c06fd0>],\n",
              " 'fliers': [<matplotlib.lines.Line2D at 0x7f1df2c0cad0>],\n",
              " 'means': [],\n",
              " 'medians': [<matplotlib.lines.Line2D at 0x7f1df2c0c590>],\n",
              " 'whiskers': [<matplotlib.lines.Line2D at 0x7f1df2c01fd0>,\n",
              "  <matplotlib.lines.Line2D at 0x7f1df2c06550>]}"
            ]
          },
          "metadata": {},
          "execution_count": 34
        },
        {
          "output_type": "display_data",
          "data": {
            "text/plain": [
              "<Figure size 432x288 with 1 Axes>"
            ],
            "image/png": "[encoded data removed]"
          },
          "metadata": {
            "needs_background": "light"
          }
        }
      ],
      "source": [
        "plt.boxplot(df_hour.cnt,vert=False) #boxplot of the data"
      ]
    },
    {
      "cell_type": "markdown",
      "source": [
        "The distribution of the count variable is positively skewed with many outliers."
      ],
      "metadata": {
        "id": "8s-J6JWJ0S5z"
      },
      "id": "8s-J6JWJ0S5z"
    },
    {
      "cell_type": "markdown",
      "source": [
        "OUTLIER REMOVAL"
      ],
      "metadata": {
        "id": "B93p0aZ5HTIM"
      },
      "id": "B93p0aZ5HTIM"
    },
    {
      "cell_type": "code",
      "source": [
        "#function to remove outliers\n",
        "def outlier_removal(dataframe, dataframe2, limit = 1.5):\n",
        "        \n",
        "    for col in dataframe2:           # This is for the variables to be treated from upper right whisker\n",
        "        rw = limit*(dataframe[col].quantile(0.75) - dataframe[col].quantile(0.25)) + dataframe[col].quantile(0.75)\n",
        "        lw = dataframe[col].quantile(0.25)-(limit*(dataframe[col].quantile(0.75) - dataframe[col].quantile(0.25)))\n",
        "        dataframe = dataframe[~(dataframe[col]>rw)]\n",
        "        dataframe = dataframe[~(dataframe[col]<lw)]\n",
        "        dataframe = dataframe   \n",
        "    \n",
        "    return dataframe"
      ],
      "metadata": {
        "id": "sEN-o0OMHViJ"
      },
      "id": "sEN-o0OMHViJ",
      "execution_count": null,
      "outputs": []
    },
    {
      "cell_type": "code",
      "source": [
        "col=['cnt']\n",
        "df_hour= outlier_removal(df_hour,df_hour[col], limit = 1.5) #calling the function"
      ],
      "metadata": {
        "id": "rbcGiV_cHcu7"
      },
      "id": "rbcGiV_cHcu7",
      "execution_count": null,
      "outputs": []
    },
    {
      "cell_type": "code",
      "source": [
        "df_hour.shape"
      ],
      "metadata": {
        "colab": {
          "base_uri": "https://localhost:8080/"
        },
        "id": "oIeJNQkaHmon",
        "outputId": "35dff43d-04fd-403a-a3d2-6e7cc9f91439"
      },
      "id": "oIeJNQkaHmon",
      "execution_count": null,
      "outputs": [
        {
          "output_type": "execute_result",
          "data": {
            "text/plain": [
              "(16874, 16)"
            ]
          },
          "metadata": {},
          "execution_count": 37
        }
      ]
    },
    {
      "cell_type": "code",
      "source": [
        "plt.boxplot(df_hour.cnt,vert=False) #boxplot of the data"
      ],
      "metadata": {
        "colab": {
          "base_uri": "https://localhost:8080/",
          "height": 404
        },
        "id": "ovYqXLKEH4y4",
        "outputId": "e60a21a6-1fac-42eb-adc0-16bb59a7092b"
      },
      "id": "ovYqXLKEH4y4",
      "execution_count": null,
      "outputs": [
        {
          "output_type": "execute_result",
          "data": {
            "text/plain": [
              "{'boxes': [<matplotlib.lines.Line2D at 0x7f1df2bead90>],\n",
              " 'caps': [<matplotlib.lines.Line2D at 0x7f1df2b71e10>,\n",
              "  <matplotlib.lines.Line2D at 0x7f1df2b78390>],\n",
              " 'fliers': [<matplotlib.lines.Line2D at 0x7f1df2b78e50>],\n",
              " 'means': [],\n",
              " 'medians': [<matplotlib.lines.Line2D at 0x7f1df2b78910>],\n",
              " 'whiskers': [<matplotlib.lines.Line2D at 0x7f1df2b71390>,\n",
              "  <matplotlib.lines.Line2D at 0x7f1df2b718d0>]}"
            ]
          },
          "metadata": {},
          "execution_count": 38
        },
        {
          "output_type": "display_data",
          "data": {
            "text/plain": [
              "<Figure size 432x288 with 1 Axes>"
            ],
            "image/png": "[encoded data removed]"
          },
          "metadata": {
            "needs_background": "light"
          }
        }
      ]
    },
    {
      "cell_type": "markdown",
      "source": [
        "NOTE: Outliers got removed."
      ],
      "metadata": {
        "id": "SaT7WbJxH9g-"
      },
      "id": "SaT7WbJxH9g-"
    },
    {
      "cell_type": "code",
      "source": [
        "#The season numbers are replaced by their respective names and stored in another column\n",
        "df_hour['season_name']=df_hour['season'].replace([1,2,3,4],['Spring','Summer','Fall','Winter'])\n",
        "df_hour.drop('season',axis=1,inplace=True)"
      ],
      "metadata": {
        "id": "5Onn58eG3bcK"
      },
      "id": "5Onn58eG3bcK",
      "execution_count": null,
      "outputs": []
    },
    {
      "cell_type": "code",
      "execution_count": null,
      "id": "9eccd57c",
      "metadata": {
        "colab": {
          "base_uri": "https://localhost:8080/",
          "height": 206
        },
        "id": "9eccd57c",
        "outputId": "5e134a15-134b-4adf-9843-0e1d924ef9fe"
      },
      "outputs": [
        {
          "output_type": "execute_result",
          "data": {
            "text/plain": [
              "              count        mean         std  min   25%    50%     75%    max\n",
              "season_name                                                                 \n",
              "Fall         4298.0  211.527687  164.155127  1.0  60.0  188.0  321.00  641.0\n",
              "Spring       4223.0  108.410609  112.405701  1.0  23.0   75.0  157.00  623.0\n",
              "Summer       4253.0  189.459440  162.905098  1.0  42.0  156.0  291.00  642.0\n",
              "Winter       4100.0  180.872195  154.705937  1.0  44.0  149.5  274.25  642.0"
            ],
            "text/html": [
              "\n",
              "  <div id=\"df-81ab1fd4-7060-4f62-80e8-eefc8fcd1d5b\">\n",
              "    <div class=\"colab-df-container\">\n",
              "      <div>\n",
              "<style scoped>\n",
              "    .dataframe tbody tr th:only-of-type {\n",
              "        vertical-align: middle;\n",
              "    }\n",
              "\n",
              "    .dataframe tbody tr th {\n",
              "        vertical-align: top;\n",
              "    }\n",
              "\n",
              "    .dataframe thead th {\n",
              "        text-align: right;\n",
              "    }\n",
              "</style>\n",
              "<table border=\"1\" class=\"dataframe\">\n",
              "  <thead>\n",
              "    <tr style=\"text-align: right;\">\n",
              "      <th></th>\n",
              "      <th>count</th>\n",
              "      <th>mean</th>\n",
              "      <th>std</th>\n",
              "      <th>min</th>\n",
              "      <th>25%</th>\n",
              "      <th>50%</th>\n",
              "      <th>75%</th>\n",
              "      <th>max</th>\n",
              "    </tr>\n",
              "    <tr>\n",
              "      <th>season_name</th>\n",
              "      <th></th>\n",
              "      <th></th>\n",
              "      <th></th>\n",
              "      <th></th>\n",
              "      <th></th>\n",
              "      <th></th>\n",
              "      <th></th>\n",
              "      <th></th>\n",
              "    </tr>\n",
              "  </thead>\n",
              "  <tbody>\n",
              "    <tr>\n",
              "      <th>Fall</th>\n",
              "      <td>4298.0</td>\n",
              "      <td>211.527687</td>\n",
              "      <td>164.155127</td>\n",
              "      <td>1.0</td>\n",
              "      <td>60.0</td>\n",
              "      <td>188.0</td>\n",
              "      <td>321.00</td>\n",
              "      <td>641.0</td>\n",
              "    </tr>\n",
              "    <tr>\n",
              "      <th>Spring</th>\n",
              "      <td>4223.0</td>\n",
              "      <td>108.410609</td>\n",
              "      <td>112.405701</td>\n",
              "      <td>1.0</td>\n",
              "      <td>23.0</td>\n",
              "      <td>75.0</td>\n",
              "      <td>157.00</td>\n",
              "      <td>623.0</td>\n",
              "    </tr>\n",
              "    <tr>\n",
              "      <th>Summer</th>\n",
              "      <td>4253.0</td>\n",
              "      <td>189.459440</td>\n",
              "      <td>162.905098</td>\n",
              "      <td>1.0</td>\n",
              "      <td>42.0</td>\n",
              "      <td>156.0</td>\n",
              "      <td>291.00</td>\n",
              "      <td>642.0</td>\n",
              "    </tr>\n",
              "    <tr>\n",
              "      <th>Winter</th>\n",
              "      <td>4100.0</td>\n",
              "      <td>180.872195</td>\n",
              "      <td>154.705937</td>\n",
              "      <td>1.0</td>\n",
              "      <td>44.0</td>\n",
              "      <td>149.5</td>\n",
              "      <td>274.25</td>\n",
              "      <td>642.0</td>\n",
              "    </tr>\n",
              "  </tbody>\n",
              "</table>\n",
              "</div>\n",
              "      <button class=\"colab-df-convert\" onclick=\"convertToInteractive('df-81ab1fd4-7060-4f62-80e8-eefc8fcd1d5b')\"\n",
              "              title=\"Convert this dataframe to an interactive table.\"\n",
              "              style=\"display:none;\">\n",
              "        \n",
              "  <svg xmlns=\"http://www.w3.org/2000/svg\" height=\"24px\"viewBox=\"0 0 24 24\"\n",
              "       width=\"24px\">\n",
              "    <path d=\"M0 0h24v24H0V0z\" fill=\"none\"/>\n",
              "    <path d=\"M18.56 5.44l.94 2.06.94-2.06 2.06-.94-2.06-.94-.94-2.06-.94 2.06-2.06.94zm-11 1L8.5 8.5l.94-2.06 2.06-.94-2.06-.94L8.5 2.5l-.94 2.06-2.06.94zm10 10l.94 2.06.94-2.06 2.06-.94-2.06-.94-.94-2.06-.94 2.06-2.06.94z\"/><path d=\"M17.41 7.96l-1.37-1.37c-.4-.4-.92-.59-1.43-.59-.52 0-1.04.2-1.43.59L10.3 9.45l-7.72 7.72c-.78.78-.78 2.05 0 2.83L4 21.41c.39.39.9.59 1.41.59.51 0 1.02-.2 1.41-.59l7.78-7.78 2.81-2.81c.8-.78.8-2.07 0-2.86zM5.41 20L4 18.59l7.72-7.72 1.47 1.35L5.41 20z\"/>\n",
              "  </svg>\n",
              "      </button>\n",
              "      \n",
              "  <style>\n",
              "    .colab-df-container {\n",
              "      display:flex;\n",
              "      flex-wrap:wrap;\n",
              "      gap: 12px;\n",
              "    }\n",
              "\n",
              "    .colab-df-convert {\n",
              "      background-color: #E8F0FE;\n",
              "      border: none;\n",
              "      border-radius: 50%;\n",
              "      cursor: pointer;\n",
              "      display: none;\n",
              "      fill: #1967D2;\n",
              "      height: 32px;\n",
              "      padding: 0 0 0 0;\n",
              "      width: 32px;\n",
              "    }\n",
              "\n",
              "    .colab-df-convert:hover {\n",
              "      background-color: #E2EBFA;\n",
              "      box-shadow: 0px 1px 2px rgba(60, 64, 67, 0.3), 0px 1px 3px 1px rgba(60, 64, 67, 0.15);\n",
              "      fill: #174EA6;\n",
              "    }\n",
              "\n",
              "    [theme=dark] .colab-df-convert {\n",
              "      background-color: #3B4455;\n",
              "      fill: #D2E3FC;\n",
              "    }\n",
              "\n",
              "    [theme=dark] .colab-df-convert:hover {\n",
              "      background-color: #434B5C;\n",
              "      box-shadow: 0px 1px 3px 1px rgba(0, 0, 0, 0.15);\n",
              "      filter: drop-shadow(0px 1px 2px rgba(0, 0, 0, 0.3));\n",
              "      fill: #FFFFFF;\n",
              "    }\n",
              "  </style>\n",
              "\n",
              "      <script>\n",
              "        const buttonEl =\n",
              "          document.querySelector('#df-81ab1fd4-7060-4f62-80e8-eefc8fcd1d5b button.colab-df-convert');\n",
              "        buttonEl.style.display =\n",
              "          google.colab.kernel.accessAllowed ? 'block' : 'none';\n",
              "\n",
              "        async function convertToInteractive(key) {\n",
              "          const element = document.querySelector('#df-81ab1fd4-7060-4f62-80e8-eefc8fcd1d5b');\n",
              "          const dataTable =\n",
              "            await google.colab.kernel.invokeFunction('convertToInteractive',\n",
              "                                                     [key], {});\n",
              "          if (!dataTable) return;\n",
              "\n",
              "          const docLinkHtml = 'Like what you see? Visit the ' +\n",
              "            '<a target=\"_blank\" href=https://colab.research.google.com/notebooks/data_table.ipynb>data table notebook</a>'\n",
              "            + ' to learn more about interactive tables.';\n",
              "          element.innerHTML = '';\n",
              "          dataTable['output_type'] = 'display_data';\n",
              "          await google.colab.output.renderOutput(dataTable, element);\n",
              "          const docLink = document.createElement('div');\n",
              "          docLink.innerHTML = docLinkHtml;\n",
              "          element.appendChild(docLink);\n",
              "        }\n",
              "      </script>\n",
              "    </div>\n",
              "  </div>\n",
              "  "
            ]
          },
          "metadata": {},
          "execution_count": 41
        }
      ],
      "source": [
        "#summary of the count of bikes rented grouped across seasons\n",
        "df_hour.groupby('season_name')['cnt'].describe()"
      ]
    },
    {
      "cell_type": "markdown",
      "source": [
        "NOTE: The mean number of bikes are maximum for the Fall season."
      ],
      "metadata": {
        "id": "ujfE-BTb1tMX"
      },
      "id": "ujfE-BTb1tMX"
    },
    {
      "cell_type": "markdown",
      "source": [
        "# MISSING VALUES DETECTION"
      ],
      "metadata": {
        "id": "ZQxJo5Wt2C-K"
      },
      "id": "ZQxJo5Wt2C-K"
    },
    {
      "cell_type": "code",
      "source": [
        "df_hour.isnull().sum()"
      ],
      "metadata": {
        "colab": {
          "base_uri": "https://localhost:8080/"
        },
        "id": "Ifxv-Pw62Fvj",
        "outputId": "bf3103d7-1fcc-4aaf-b710-c257f9e8d912"
      },
      "id": "Ifxv-Pw62Fvj",
      "execution_count": null,
      "outputs": [
        {
          "output_type": "execute_result",
          "data": {
            "text/plain": [
              "dteday         0\n",
              "yr             0\n",
              "mnth           0\n",
              "hr             0\n",
              "holiday        0\n",
              "weekday        0\n",
              "workingday     0\n",
              "weathersit     0\n",
              "temp           0\n",
              "atemp          0\n",
              "hum            0\n",
              "windspeed      0\n",
              "casual         0\n",
              "registered     0\n",
              "cnt            0\n",
              "season_name    0\n",
              "dtype: int64"
            ]
          },
          "metadata": {},
          "execution_count": 42
        }
      ]
    },
    {
      "cell_type": "markdown",
      "id": "0745efbf",
      "metadata": {
        "id": "0745efbf"
      },
      "source": [
        "There are no missing values in the columns. "
      ]
    },
    {
      "cell_type": "code",
      "execution_count": null,
      "id": "7bbcd8b7",
      "metadata": {
        "colab": {
          "base_uri": "https://localhost:8080/"
        },
        "id": "7bbcd8b7",
        "outputId": "42ada4be-3975-471a-fd2c-4e542922ecc5"
      },
      "outputs": [
        {
          "output_type": "execute_result",
          "data": {
            "text/plain": [
              "yr\n",
              "0    143.735770\n",
              "1    203.142041\n",
              "Name: cnt, dtype: float64"
            ]
          },
          "metadata": {},
          "execution_count": 43
        }
      ],
      "source": [
        "# 0: 2011, 1: 2012\n",
        "df_hour.groupby('yr')['cnt'].mean()"
      ]
    },
    {
      "cell_type": "markdown",
      "source": [
        "NOTE: The mean bikes rented for the year 2012 is much higher than the previous year."
      ],
      "metadata": {
        "id": "LoROBs7H2WP6"
      },
      "id": "LoROBs7H2WP6"
    },
    {
      "cell_type": "code",
      "execution_count": null,
      "id": "4c1fe128",
      "metadata": {
        "colab": {
          "base_uri": "https://localhost:8080/",
          "height": 282
        },
        "id": "4c1fe128",
        "outputId": "d7dacd40-ba87-4774-bb0d-05c63eab2d3c"
      },
      "outputs": [
        {
          "output_type": "execute_result",
          "data": {
            "text/plain": [
              "<BarContainer object of 4 artists>"
            ]
          },
          "metadata": {},
          "execution_count": 47
        },
        {
          "output_type": "display_data",
          "data": {
            "text/plain": [
              "<Figure size 432x288 with 1 Axes>"
            ],
            "image/png": "[encoded data removed]"
          },
          "metadata": {
            "needs_background": "light"
          }
        }
      ],
      "source": [
        "#There are many outliers in the data, hence median values are considered\n",
        "s2=df_hour.groupby('season_name')['cnt'].median().sort_values()\n",
        "plt.barh(s2.index,s2)"
      ]
    },
    {
      "cell_type": "markdown",
      "source": [
        "NOTE: The Fall season has maximum number of bikes rented in terms of median values."
      ],
      "metadata": {
        "id": "L_lttG2R39TX"
      },
      "id": "L_lttG2R39TX"
    },
    {
      "cell_type": "code",
      "execution_count": null,
      "id": "180d0398",
      "metadata": {
        "id": "180d0398",
        "outputId": "ab2f337e-cd5b-45b9-d172-0c3f128122fe",
        "colab": {
          "base_uri": "https://localhost:8080/",
          "height": 300
        }
      },
      "outputs": [
        {
          "output_type": "execute_result",
          "data": {
            "text/plain": [
              "<matplotlib.axes._subplots.AxesSubplot at 0x7f1df28b0c50>"
            ]
          },
          "metadata": {},
          "execution_count": 48
        },
        {
          "output_type": "display_data",
          "data": {
            "text/plain": [
              "<Figure size 432x288 with 1 Axes>"
            ],
            "image/png": "[encoded data removed]"
          },
          "metadata": {
            "needs_background": "light"
          }
        }
      ],
      "source": [
        "#Plot of count vs months\n",
        "df_hour.groupby('mnth')['cnt'].median().plot()"
      ]
    },
    {
      "cell_type": "markdown",
      "source": [
        "NOTE: The maximum bikes were rented in the months of May-October."
      ],
      "metadata": {
        "id": "8LZqeIph4MG0"
      },
      "id": "8LZqeIph4MG0"
    },
    {
      "cell_type": "code",
      "execution_count": null,
      "id": "24d6a16b",
      "metadata": {
        "colab": {
          "base_uri": "https://localhost:8080/",
          "height": 504
        },
        "id": "24d6a16b",
        "outputId": "0c2cb8f0-4c06-4029-d10a-a57f32937dd0"
      },
      "outputs": [
        {
          "output_type": "execute_result",
          "data": {
            "text/plain": [
              "<matplotlib.axes._subplots.AxesSubplot at 0x7f1df28a7e10>"
            ]
          },
          "metadata": {},
          "execution_count": 49
        },
        {
          "output_type": "display_data",
          "data": {
            "text/plain": [
              "<Figure size 720x576 with 2 Axes>"
            ],
            "image/png": "[encoded data removed]"
          },
          "metadata": {
            "needs_background": "light"
          }
        }
      ],
      "source": [
        "#Correlation of the variables are plotted in form of a heatmap\n",
        "plt.subplots(figsize=(10,8))\n",
        "sns.heatmap(df_hour[['temp','hr','atemp','hum','windspeed','casual','registered','cnt']].corr(),annot=True)"
      ]
    },
    {
      "cell_type": "markdown",
      "id": "2f4fe355",
      "metadata": {
        "id": "2f4fe355"
      },
      "source": [
        "NOTES:\n",
        "\n",
        "1. temp and atemp are very highly correlated (significant p value) and hence one of them should be dropped to prevent the multicollinearity. We will drop atemp which is the feel temperature and keep temp in our dataset.\n",
        "\n",
        "2. temp and cnt have correlation of 0.4 (significant p value) and since here, our objective is to predict the count of bike rents, temp can be considered as an important predictor variable.\n",
        "\n",
        "3. Humidity is very weakly correlated with the other variables and hence, we can keep it. It is also negatively correlated with cnt. It might not be a very good predictor in bivariate regression to predict cnt.\n",
        "\n",
        "4. Similarly windspeed is weakly associated with cnt and may not be that good a predictor but still slightly better than humidity.\n",
        "\n",
        "5. Registered and casual bike rents are added to get the cnt column and they are showing more or less similar behavior with the other features and are highly correlated with cnt. Hence, we will drop casual and registered and work with only cnt.\n",
        "\n",
        "6. Moderate Positive association between hour and count.\n"
      ]
    },
    {
      "cell_type": "markdown",
      "id": "c76742b5",
      "metadata": {
        "id": "c76742b5"
      },
      "source": [
        "We perform a hypothesis test of the “significance of the correlation coefficient” to decide whether the linear relationship in the sample data is strong enough to use to model the relationship in the population.\n",
        "\n",
        "If p value<0.05 -> There is a significant linear relationship between x and y."
      ]
    },
    {
      "cell_type": "code",
      "execution_count": null,
      "id": "e8ee9b30",
      "metadata": {
        "colab": {
          "base_uri": "https://localhost:8080/"
        },
        "id": "e8ee9b30",
        "outputId": "a4dc14a8-a5c3-4e4d-824a-9e3ed1012e52"
      },
      "outputs": [
        {
          "output_type": "stream",
          "name": "stdout",
          "text": [
            "0.4015785818911404 0.0\n"
          ]
        }
      ],
      "source": [
        "#To check the p values of the correlation\n",
        "r,p=stats.pearsonr(df_hour['temp'],df_hour['cnt'])\n",
        "print(r,p)"
      ]
    },
    {
      "cell_type": "code",
      "execution_count": null,
      "id": "234687be",
      "metadata": {
        "colab": {
          "base_uri": "https://localhost:8080/"
        },
        "id": "234687be",
        "outputId": "ba2d0c9a-f410-461f-bebe-85785b70c47d"
      },
      "outputs": [
        {
          "output_type": "stream",
          "name": "stdout",
          "text": [
            "-0.3269726285500816 0.0\n"
          ]
        }
      ],
      "source": [
        "r,p=stats.pearsonr(df_hour['hum'],df_hour['cnt'])\n",
        "print(r,p)\n"
      ]
    },
    {
      "cell_type": "code",
      "execution_count": null,
      "id": "204ff863",
      "metadata": {
        "colab": {
          "base_uri": "https://localhost:8080/"
        },
        "id": "204ff863",
        "outputId": "22450891-3510-4914-db73-c2fa5ad480e0"
      },
      "outputs": [
        {
          "output_type": "stream",
          "name": "stdout",
          "text": [
            "0.09780063465147744 3.832438608054255e-37\n"
          ]
        }
      ],
      "source": [
        "r,p=stats.pearsonr(df_hour['windspeed'],df_hour['cnt'])\n",
        "print(r,p)"
      ]
    },
    {
      "cell_type": "code",
      "execution_count": null,
      "id": "e79bf070",
      "metadata": {
        "colab": {
          "base_uri": "https://localhost:8080/"
        },
        "id": "e79bf070",
        "outputId": "5e0fca66-cec6-44c6-b451-a7977d80ada7"
      },
      "outputs": [
        {
          "output_type": "stream",
          "name": "stdout",
          "text": [
            "0.9882761993584442 0.0\n"
          ]
        }
      ],
      "source": [
        "r,p=stats.pearsonr(df_hour['temp'],df_hour['atemp'])\n",
        "print(r,p)"
      ]
    },
    {
      "cell_type": "code",
      "execution_count": null,
      "id": "e8972814",
      "metadata": {
        "colab": {
          "base_uri": "https://localhost:8080/"
        },
        "id": "e8972814",
        "outputId": "245ea7bb-fe3e-43fe-a42d-4badf68d11bf"
      },
      "outputs": [
        {
          "output_type": "stream",
          "name": "stdout",
          "text": [
            "-0.2888883586607845 1.126e-321\n"
          ]
        }
      ],
      "source": [
        "r,p=stats.pearsonr(df_hour['hum'],df_hour['windspeed'])\n",
        "print(r,p)"
      ]
    },
    {
      "cell_type": "code",
      "execution_count": null,
      "id": "e681361b",
      "metadata": {
        "colab": {
          "base_uri": "https://localhost:8080/",
          "height": 296
        },
        "id": "e681361b",
        "outputId": "520de2ae-ed21-4340-8d6d-ca0cd7b04fad"
      },
      "outputs": [
        {
          "output_type": "execute_result",
          "data": {
            "text/plain": [
              "<matplotlib.axes._subplots.AxesSubplot at 0x7f1df275d850>"
            ]
          },
          "metadata": {},
          "execution_count": 55
        },
        {
          "output_type": "display_data",
          "data": {
            "text/plain": [
              "<Figure size 432x288 with 1 Axes>"
            ],
            "image/png": "[encoded data removed]"
          },
          "metadata": {
            "needs_background": "light"
          }
        }
      ],
      "source": [
        "df_hour.groupby('hr')['cnt'].median().plot()"
      ]
    },
    {
      "cell_type": "markdown",
      "source": [
        "NOTE: Maximum number of bikes are rented during the morning and afternoon hours."
      ],
      "metadata": {
        "id": "gpQ9Nr906nr8"
      },
      "id": "gpQ9Nr906nr8"
    },
    {
      "cell_type": "code",
      "execution_count": null,
      "id": "4c6dcd84",
      "metadata": {
        "id": "4c6dcd84"
      },
      "outputs": [],
      "source": [
        "# converting the weathersit column to their corresponding labels\n",
        "df_hour['WC'] = df_hour['weathersit'].replace([1,2,3,4],['Clear','Mist','Light Snow','Heavy Rain'])"
      ]
    },
    {
      "cell_type": "code",
      "execution_count": null,
      "id": "8774b1d0",
      "metadata": {
        "colab": {
          "base_uri": "https://localhost:8080/"
        },
        "id": "8774b1d0",
        "outputId": "5e22b831-a02a-4864-ae44-2de37648d749"
      },
      "outputs": [
        {
          "output_type": "execute_result",
          "data": {
            "text/plain": [
              "WC\n",
              "Clear         152.0\n",
              "Mist          128.0\n",
              "Light Snow     62.0\n",
              "Heavy Rain     36.0\n",
              "Name: cnt, dtype: float64"
            ]
          },
          "metadata": {},
          "execution_count": 57
        }
      ],
      "source": [
        "df_hour.groupby('WC')['cnt'].median().sort_values(ascending=False)"
      ]
    },
    {
      "cell_type": "markdown",
      "source": [
        "NOTE: Maximum bikes are rented during clear weather."
      ],
      "metadata": {
        "id": "Iel_OZUG7SQP"
      },
      "id": "Iel_OZUG7SQP"
    },
    {
      "cell_type": "markdown",
      "id": "8e7a2281",
      "metadata": {
        "id": "8e7a2281"
      },
      "source": [
        "# Feature Engineering"
      ]
    },
    {
      "cell_type": "code",
      "execution_count": null,
      "id": "d081f343",
      "metadata": {
        "id": "d081f343"
      },
      "outputs": [],
      "source": [
        "#function to check the day of the week\n",
        "def dayofweek(day):\n",
        "    if day==0:\n",
        "        return \"Sunday\"\n",
        "    elif day==1:\n",
        "        return \"Monday\"\n",
        "    elif day==2:\n",
        "        return \"Tuesday\"\n",
        "    elif day==3:\n",
        "        return \"Wednesday\"\n",
        "    elif day==4:\n",
        "        return \"Thursday\"\n",
        "    elif day==5:\n",
        "        return \"Friday\"\n",
        "    elif day==6:\n",
        "        return \"Saturday\""
      ]
    },
    {
      "cell_type": "code",
      "execution_count": null,
      "id": "db665b3a",
      "metadata": {
        "id": "db665b3a"
      },
      "outputs": [],
      "source": [
        "#defining a new variable which shows the day of the week along with whether it's a workday, holiday or weekend\n",
        "def day_type(df):\n",
        "    df['day_type']=0\n",
        "    for i in range(df.shape[0]):\n",
        "        if (df.holiday.iloc[i]==0) &(df.workingday.iloc[i]==0):\n",
        "            day=dayofweek(df.weekday.iloc[i])\n",
        "            df['day_type'].iloc[i]='Weekend-'+day\n",
        "        elif (df.holiday.iloc[i]==1) &(df.workingday.iloc[i]==0):\n",
        "            day=dayofweek(df.weekday.iloc[i])\n",
        "            df['day_type'].iloc[i]='Holiday-'+day\n",
        "        elif (df.holiday.iloc[i]==0) &(df.workingday.iloc[i]==1):\n",
        "            day=dayofweek(df.weekday.iloc[i])\n",
        "            df['day_type'].iloc[i]='Work-'+day \n",
        "    return df"
      ]
    },
    {
      "cell_type": "code",
      "execution_count": null,
      "id": "22f9e4a0",
      "metadata": {
        "colab": {
          "base_uri": "https://localhost:8080/"
        },
        "id": "22f9e4a0",
        "outputId": "436f9fa0-2ec6-438f-bc4d-33c82ce322dc"
      },
      "outputs": [
        {
          "output_type": "stream",
          "name": "stderr",
          "text": [
            "/usr/local/lib/python3.7/dist-packages/pandas/core/indexing.py:1732: SettingWithCopyWarning: \n",
            "A value is trying to be set on a copy of a slice from a DataFrame\n",
            "\n",
            "See the caveats in the documentation: https://pandas.pydata.org/pandas-docs/stable/user_guide/indexing.html#returning-a-view-versus-a-copy\n",
            "  self._setitem_single_block(indexer, value, name)\n"
          ]
        }
      ],
      "source": [
        "df_hour=day_type(df_hour) #calling the above function "
      ]
    },
    {
      "cell_type": "code",
      "execution_count": null,
      "id": "569ae811",
      "metadata": {
        "colab": {
          "base_uri": "https://localhost:8080/",
          "height": 143
        },
        "id": "569ae811",
        "outputId": "d8398ccc-2d30-4df0-abd1-5ac33e9a535f"
      },
      "outputs": [
        {
          "output_type": "execute_result",
          "data": {
            "text/plain": [
              "            dteday  yr  mnth  hr  holiday  workingday  temp   atemp   hum  \\\n",
              "instant                                                                     \n",
              "1       2011-01-01   0     1   0        0           0  0.24  0.2879  0.81   \n",
              "2       2011-01-01   0     1   1        0           0  0.22  0.2727  0.80   \n",
              "\n",
              "         windspeed  cnt season_name     WC          day_type  \n",
              "instant                                                       \n",
              "1              0.0   16      Spring  Clear  Weekend-Saturday  \n",
              "2              0.0   40      Spring  Clear  Weekend-Saturday  "
            ],
            "text/html": [
              "\n",
              "  <div id=\"df-25470636-0b28-4078-a606-8b76ca97ac63\">\n",
              "    <div class=\"colab-df-container\">\n",
              "      <div>\n",
              "<style scoped>\n",
              "    .dataframe tbody tr th:only-of-type {\n",
              "        vertical-align: middle;\n",
              "    }\n",
              "\n",
              "    .dataframe tbody tr th {\n",
              "        vertical-align: top;\n",
              "    }\n",
              "\n",
              "    .dataframe thead th {\n",
              "        text-align: right;\n",
              "    }\n",
              "</style>\n",
              "<table border=\"1\" class=\"dataframe\">\n",
              "  <thead>\n",
              "    <tr style=\"text-align: right;\">\n",
              "      <th></th>\n",
              "      <th>dteday</th>\n",
              "      <th>yr</th>\n",
              "      <th>mnth</th>\n",
              "      <th>hr</th>\n",
              "      <th>holiday</th>\n",
              "      <th>workingday</th>\n",
              "      <th>temp</th>\n",
              "      <th>atemp</th>\n",
              "      <th>hum</th>\n",
              "      <th>windspeed</th>\n",
              "      <th>cnt</th>\n",
              "      <th>season_name</th>\n",
              "      <th>WC</th>\n",
              "      <th>day_type</th>\n",
              "    </tr>\n",
              "    <tr>\n",
              "      <th>instant</th>\n",
              "      <th></th>\n",
              "      <th></th>\n",
              "      <th></th>\n",
              "      <th></th>\n",
              "      <th></th>\n",
              "      <th></th>\n",
              "      <th></th>\n",
              "      <th></th>\n",
              "      <th></th>\n",
              "      <th></th>\n",
              "      <th></th>\n",
              "      <th></th>\n",
              "      <th></th>\n",
              "      <th></th>\n",
              "    </tr>\n",
              "  </thead>\n",
              "  <tbody>\n",
              "    <tr>\n",
              "      <th>1</th>\n",
              "      <td>2011-01-01</td>\n",
              "      <td>0</td>\n",
              "      <td>1</td>\n",
              "      <td>0</td>\n",
              "      <td>0</td>\n",
              "      <td>0</td>\n",
              "      <td>0.24</td>\n",
              "      <td>0.2879</td>\n",
              "      <td>0.81</td>\n",
              "      <td>0.0</td>\n",
              "      <td>16</td>\n",
              "      <td>Spring</td>\n",
              "      <td>Clear</td>\n",
              "      <td>Weekend-Saturday</td>\n",
              "    </tr>\n",
              "    <tr>\n",
              "      <th>2</th>\n",
              "      <td>2011-01-01</td>\n",
              "      <td>0</td>\n",
              "      <td>1</td>\n",
              "      <td>1</td>\n",
              "      <td>0</td>\n",
              "      <td>0</td>\n",
              "      <td>0.22</td>\n",
              "      <td>0.2727</td>\n",
              "      <td>0.80</td>\n",
              "      <td>0.0</td>\n",
              "      <td>40</td>\n",
              "      <td>Spring</td>\n",
              "      <td>Clear</td>\n",
              "      <td>Weekend-Saturday</td>\n",
              "    </tr>\n",
              "  </tbody>\n",
              "</table>\n",
              "</div>\n",
              "      <button class=\"colab-df-convert\" onclick=\"convertToInteractive('df-25470636-0b28-4078-a606-8b76ca97ac63')\"\n",
              "              title=\"Convert this dataframe to an interactive table.\"\n",
              "              style=\"display:none;\">\n",
              "        \n",
              "  <svg xmlns=\"http://www.w3.org/2000/svg\" height=\"24px\"viewBox=\"0 0 24 24\"\n",
              "       width=\"24px\">\n",
              "    <path d=\"M0 0h24v24H0V0z\" fill=\"none\"/>\n",
              "    <path d=\"M18.56 5.44l.94 2.06.94-2.06 2.06-.94-2.06-.94-.94-2.06-.94 2.06-2.06.94zm-11 1L8.5 8.5l.94-2.06 2.06-.94-2.06-.94L8.5 2.5l-.94 2.06-2.06.94zm10 10l.94 2.06.94-2.06 2.06-.94-2.06-.94-.94-2.06-.94 2.06-2.06.94z\"/><path d=\"M17.41 7.96l-1.37-1.37c-.4-.4-.92-.59-1.43-.59-.52 0-1.04.2-1.43.59L10.3 9.45l-7.72 7.72c-.78.78-.78 2.05 0 2.83L4 21.41c.39.39.9.59 1.41.59.51 0 1.02-.2 1.41-.59l7.78-7.78 2.81-2.81c.8-.78.8-2.07 0-2.86zM5.41 20L4 18.59l7.72-7.72 1.47 1.35L5.41 20z\"/>\n",
              "  </svg>\n",
              "      </button>\n",
              "      \n",
              "  <style>\n",
              "    .colab-df-container {\n",
              "      display:flex;\n",
              "      flex-wrap:wrap;\n",
              "      gap: 12px;\n",
              "    }\n",
              "\n",
              "    .colab-df-convert {\n",
              "      background-color: #E8F0FE;\n",
              "      border: none;\n",
              "      border-radius: 50%;\n",
              "      cursor: pointer;\n",
              "      display: none;\n",
              "      fill: #1967D2;\n",
              "      height: 32px;\n",
              "      padding: 0 0 0 0;\n",
              "      width: 32px;\n",
              "    }\n",
              "\n",
              "    .colab-df-convert:hover {\n",
              "      background-color: #E2EBFA;\n",
              "      box-shadow: 0px 1px 2px rgba(60, 64, 67, 0.3), 0px 1px 3px 1px rgba(60, 64, 67, 0.15);\n",
              "      fill: #174EA6;\n",
              "    }\n",
              "\n",
              "    [theme=dark] .colab-df-convert {\n",
              "      background-color: #3B4455;\n",
              "      fill: #D2E3FC;\n",
              "    }\n",
              "\n",
              "    [theme=dark] .colab-df-convert:hover {\n",
              "      background-color: #434B5C;\n",
              "      box-shadow: 0px 1px 3px 1px rgba(0, 0, 0, 0.15);\n",
              "      filter: drop-shadow(0px 1px 2px rgba(0, 0, 0, 0.3));\n",
              "      fill: #FFFFFF;\n",
              "    }\n",
              "  </style>\n",
              "\n",
              "      <script>\n",
              "        const buttonEl =\n",
              "          document.querySelector('#df-25470636-0b28-4078-a606-8b76ca97ac63 button.colab-df-convert');\n",
              "        buttonEl.style.display =\n",
              "          google.colab.kernel.accessAllowed ? 'block' : 'none';\n",
              "\n",
              "        async function convertToInteractive(key) {\n",
              "          const element = document.querySelector('#df-25470636-0b28-4078-a606-8b76ca97ac63');\n",
              "          const dataTable =\n",
              "            await google.colab.kernel.invokeFunction('convertToInteractive',\n",
              "                                                     [key], {});\n",
              "          if (!dataTable) return;\n",
              "\n",
              "          const docLinkHtml = 'Like what you see? Visit the ' +\n",
              "            '<a target=\"_blank\" href=https://colab.research.google.com/notebooks/data_table.ipynb>data table notebook</a>'\n",
              "            + ' to learn more about interactive tables.';\n",
              "          element.innerHTML = '';\n",
              "          dataTable['output_type'] = 'display_data';\n",
              "          await google.colab.output.renderOutput(dataTable, element);\n",
              "          const docLink = document.createElement('div');\n",
              "          docLink.innerHTML = docLinkHtml;\n",
              "          element.appendChild(docLink);\n",
              "        }\n",
              "      </script>\n",
              "    </div>\n",
              "  </div>\n",
              "  "
            ]
          },
          "metadata": {},
          "execution_count": 61
        }
      ],
      "source": [
        "#dropping the variables which are not required\n",
        "df_hour.drop(['weathersit','weekday','casual','registered'],axis=1,inplace=True)\n",
        "df_hour.head(2)"
      ]
    },
    {
      "cell_type": "code",
      "execution_count": null,
      "id": "25f65840",
      "metadata": {
        "colab": {
          "base_uri": "https://localhost:8080/",
          "height": 457
        },
        "id": "25f65840",
        "outputId": "8bc82bce-578c-4061-d84a-07c36bdd9896"
      },
      "outputs": [
        {
          "output_type": "execute_result",
          "data": {
            "text/plain": [
              "                    count        mean         std   min     25%    50%  \\\n",
              "day_type                                                                 \n",
              "Holiday-Friday       48.0  135.291667   95.655846   3.0   46.75  129.0   \n",
              "Holiday-Monday      355.0  163.991549  158.003209   1.0   30.50   98.0   \n",
              "Holiday-Thursday     48.0   81.666667   77.569278   2.0   22.75   46.0   \n",
              "Holiday-Tuesday      23.0   44.043478   41.126720   1.0   12.00   32.0   \n",
              "Holiday-Wednesday    24.0  308.458333  202.209100  16.0  115.50  401.5   \n",
              "Weekend-Saturday   2451.0  177.806610  163.627217   1.0   41.00  123.0   \n",
              "Weekend-Sunday     2474.0  171.730396  160.139750   1.0   39.00  113.0   \n",
              "Work-Friday        2371.0  181.873471  151.038286   1.0   44.00  159.0   \n",
              "Work-Monday        2053.0  167.227959  150.188256   1.0   35.00  137.0   \n",
              "Work-Thursday      2328.0  175.509021  152.061991   1.0   41.00  148.0   \n",
              "Work-Tuesday       2344.0  171.519198  154.440036   1.0   34.00  140.0   \n",
              "Work-Wednesday     2355.0  166.213163  151.645801   1.0   33.00  134.0   \n",
              "\n",
              "                      75%    max  \n",
              "day_type                          \n",
              "Holiday-Friday     208.25  331.0  \n",
              "Holiday-Monday     280.00  597.0  \n",
              "Holiday-Thursday   124.75  269.0  \n",
              "Holiday-Tuesday     68.00  126.0  \n",
              "Holiday-Wednesday  487.25  584.0  \n",
              "Weekend-Saturday   286.50  642.0  \n",
              "Weekend-Sunday     277.00  640.0  \n",
              "Work-Friday        272.00  642.0  \n",
              "Work-Monday        247.00  642.0  \n",
              "Work-Thursday      267.00  640.0  \n",
              "Work-Tuesday       259.25  641.0  \n",
              "Work-Wednesday     252.00  641.0  "
            ],
            "text/html": [
              "\n",
              "  <div id=\"df-35553750-0bce-48db-986e-b524d2a1aec9\">\n",
              "    <div class=\"colab-df-container\">\n",
              "      <div>\n",
              "<style scoped>\n",
              "    .dataframe tbody tr th:only-of-type {\n",
              "        vertical-align: middle;\n",
              "    }\n",
              "\n",
              "    .dataframe tbody tr th {\n",
              "        vertical-align: top;\n",
              "    }\n",
              "\n",
              "    .dataframe thead th {\n",
              "        text-align: right;\n",
              "    }\n",
              "</style>\n",
              "<table border=\"1\" class=\"dataframe\">\n",
              "  <thead>\n",
              "    <tr style=\"text-align: right;\">\n",
              "      <th></th>\n",
              "      <th>count</th>\n",
              "      <th>mean</th>\n",
              "      <th>std</th>\n",
              "      <th>min</th>\n",
              "      <th>25%</th>\n",
              "      <th>50%</th>\n",
              "      <th>75%</th>\n",
              "      <th>max</th>\n",
              "    </tr>\n",
              "    <tr>\n",
              "      <th>day_type</th>\n",
              "      <th></th>\n",
              "      <th></th>\n",
              "      <th></th>\n",
              "      <th></th>\n",
              "      <th></th>\n",
              "      <th></th>\n",
              "      <th></th>\n",
              "      <th></th>\n",
              "    </tr>\n",
              "  </thead>\n",
              "  <tbody>\n",
              "    <tr>\n",
              "      <th>Holiday-Friday</th>\n",
              "      <td>48.0</td>\n",
              "      <td>135.291667</td>\n",
              "      <td>95.655846</td>\n",
              "      <td>3.0</td>\n",
              "      <td>46.75</td>\n",
              "      <td>129.0</td>\n",
              "      <td>208.25</td>\n",
              "      <td>331.0</td>\n",
              "    </tr>\n",
              "    <tr>\n",
              "      <th>Holiday-Monday</th>\n",
              "      <td>355.0</td>\n",
              "      <td>163.991549</td>\n",
              "      <td>158.003209</td>\n",
              "      <td>1.0</td>\n",
              "      <td>30.50</td>\n",
              "      <td>98.0</td>\n",
              "      <td>280.00</td>\n",
              "      <td>597.0</td>\n",
              "    </tr>\n",
              "    <tr>\n",
              "      <th>Holiday-Thursday</th>\n",
              "      <td>48.0</td>\n",
              "      <td>81.666667</td>\n",
              "      <td>77.569278</td>\n",
              "      <td>2.0</td>\n",
              "      <td>22.75</td>\n",
              "      <td>46.0</td>\n",
              "      <td>124.75</td>\n",
              "      <td>269.0</td>\n",
              "    </tr>\n",
              "    <tr>\n",
              "      <th>Holiday-Tuesday</th>\n",
              "      <td>23.0</td>\n",
              "      <td>44.043478</td>\n",
              "      <td>41.126720</td>\n",
              "      <td>1.0</td>\n",
              "      <td>12.00</td>\n",
              "      <td>32.0</td>\n",
              "      <td>68.00</td>\n",
              "      <td>126.0</td>\n",
              "    </tr>\n",
              "    <tr>\n",
              "      <th>Holiday-Wednesday</th>\n",
              "      <td>24.0</td>\n",
              "      <td>308.458333</td>\n",
              "      <td>202.209100</td>\n",
              "      <td>16.0</td>\n",
              "      <td>115.50</td>\n",
              "      <td>401.5</td>\n",
              "      <td>487.25</td>\n",
              "      <td>584.0</td>\n",
              "    </tr>\n",
              "    <tr>\n",
              "      <th>Weekend-Saturday</th>\n",
              "      <td>2451.0</td>\n",
              "      <td>177.806610</td>\n",
              "      <td>163.627217</td>\n",
              "      <td>1.0</td>\n",
              "      <td>41.00</td>\n",
              "      <td>123.0</td>\n",
              "      <td>286.50</td>\n",
              "      <td>642.0</td>\n",
              "    </tr>\n",
              "    <tr>\n",
              "      <th>Weekend-Sunday</th>\n",
              "      <td>2474.0</td>\n",
              "      <td>171.730396</td>\n",
              "      <td>160.139750</td>\n",
              "      <td>1.0</td>\n",
              "      <td>39.00</td>\n",
              "      <td>113.0</td>\n",
              "      <td>277.00</td>\n",
              "      <td>640.0</td>\n",
              "    </tr>\n",
              "    <tr>\n",
              "      <th>Work-Friday</th>\n",
              "      <td>2371.0</td>\n",
              "      <td>181.873471</td>\n",
              "      <td>151.038286</td>\n",
              "      <td>1.0</td>\n",
              "      <td>44.00</td>\n",
              "      <td>159.0</td>\n",
              "      <td>272.00</td>\n",
              "      <td>642.0</td>\n",
              "    </tr>\n",
              "    <tr>\n",
              "      <th>Work-Monday</th>\n",
              "      <td>2053.0</td>\n",
              "      <td>167.227959</td>\n",
              "      <td>150.188256</td>\n",
              "      <td>1.0</td>\n",
              "      <td>35.00</td>\n",
              "      <td>137.0</td>\n",
              "      <td>247.00</td>\n",
              "      <td>642.0</td>\n",
              "    </tr>\n",
              "    <tr>\n",
              "      <th>Work-Thursday</th>\n",
              "      <td>2328.0</td>\n",
              "      <td>175.509021</td>\n",
              "      <td>152.061991</td>\n",
              "      <td>1.0</td>\n",
              "      <td>41.00</td>\n",
              "      <td>148.0</td>\n",
              "      <td>267.00</td>\n",
              "      <td>640.0</td>\n",
              "    </tr>\n",
              "    <tr>\n",
              "      <th>Work-Tuesday</th>\n",
              "      <td>2344.0</td>\n",
              "      <td>171.519198</td>\n",
              "      <td>154.440036</td>\n",
              "      <td>1.0</td>\n",
              "      <td>34.00</td>\n",
              "      <td>140.0</td>\n",
              "      <td>259.25</td>\n",
              "      <td>641.0</td>\n",
              "    </tr>\n",
              "    <tr>\n",
              "      <th>Work-Wednesday</th>\n",
              "      <td>2355.0</td>\n",
              "      <td>166.213163</td>\n",
              "      <td>151.645801</td>\n",
              "      <td>1.0</td>\n",
              "      <td>33.00</td>\n",
              "      <td>134.0</td>\n",
              "      <td>252.00</td>\n",
              "      <td>641.0</td>\n",
              "    </tr>\n",
              "  </tbody>\n",
              "</table>\n",
              "</div>\n",
              "      <button class=\"colab-df-convert\" onclick=\"convertToInteractive('df-35553750-0bce-48db-986e-b524d2a1aec9')\"\n",
              "              title=\"Convert this dataframe to an interactive table.\"\n",
              "              style=\"display:none;\">\n",
              "        \n",
              "  <svg xmlns=\"http://www.w3.org/2000/svg\" height=\"24px\"viewBox=\"0 0 24 24\"\n",
              "       width=\"24px\">\n",
              "    <path d=\"M0 0h24v24H0V0z\" fill=\"none\"/>\n",
              "    <path d=\"M18.56 5.44l.94 2.06.94-2.06 2.06-.94-2.06-.94-.94-2.06-.94 2.06-2.06.94zm-11 1L8.5 8.5l.94-2.06 2.06-.94-2.06-.94L8.5 2.5l-.94 2.06-2.06.94zm10 10l.94 2.06.94-2.06 2.06-.94-2.06-.94-.94-2.06-.94 2.06-2.06.94z\"/><path d=\"M17.41 7.96l-1.37-1.37c-.4-.4-.92-.59-1.43-.59-.52 0-1.04.2-1.43.59L10.3 9.45l-7.72 7.72c-.78.78-.78 2.05 0 2.83L4 21.41c.39.39.9.59 1.41.59.51 0 1.02-.2 1.41-.59l7.78-7.78 2.81-2.81c.8-.78.8-2.07 0-2.86zM5.41 20L4 18.59l7.72-7.72 1.47 1.35L5.41 20z\"/>\n",
              "  </svg>\n",
              "      </button>\n",
              "      \n",
              "  <style>\n",
              "    .colab-df-container {\n",
              "      display:flex;\n",
              "      flex-wrap:wrap;\n",
              "      gap: 12px;\n",
              "    }\n",
              "\n",
              "    .colab-df-convert {\n",
              "      background-color: #E8F0FE;\n",
              "      border: none;\n",
              "      border-radius: 50%;\n",
              "      cursor: pointer;\n",
              "      display: none;\n",
              "      fill: #1967D2;\n",
              "      height: 32px;\n",
              "      padding: 0 0 0 0;\n",
              "      width: 32px;\n",
              "    }\n",
              "\n",
              "    .colab-df-convert:hover {\n",
              "      background-color: #E2EBFA;\n",
              "      box-shadow: 0px 1px 2px rgba(60, 64, 67, 0.3), 0px 1px 3px 1px rgba(60, 64, 67, 0.15);\n",
              "      fill: #174EA6;\n",
              "    }\n",
              "\n",
              "    [theme=dark] .colab-df-convert {\n",
              "      background-color: #3B4455;\n",
              "      fill: #D2E3FC;\n",
              "    }\n",
              "\n",
              "    [theme=dark] .colab-df-convert:hover {\n",
              "      background-color: #434B5C;\n",
              "      box-shadow: 0px 1px 3px 1px rgba(0, 0, 0, 0.15);\n",
              "      filter: drop-shadow(0px 1px 2px rgba(0, 0, 0, 0.3));\n",
              "      fill: #FFFFFF;\n",
              "    }\n",
              "  </style>\n",
              "\n",
              "      <script>\n",
              "        const buttonEl =\n",
              "          document.querySelector('#df-35553750-0bce-48db-986e-b524d2a1aec9 button.colab-df-convert');\n",
              "        buttonEl.style.display =\n",
              "          google.colab.kernel.accessAllowed ? 'block' : 'none';\n",
              "\n",
              "        async function convertToInteractive(key) {\n",
              "          const element = document.querySelector('#df-35553750-0bce-48db-986e-b524d2a1aec9');\n",
              "          const dataTable =\n",
              "            await google.colab.kernel.invokeFunction('convertToInteractive',\n",
              "                                                     [key], {});\n",
              "          if (!dataTable) return;\n",
              "\n",
              "          const docLinkHtml = 'Like what you see? Visit the ' +\n",
              "            '<a target=\"_blank\" href=https://colab.research.google.com/notebooks/data_table.ipynb>data table notebook</a>'\n",
              "            + ' to learn more about interactive tables.';\n",
              "          element.innerHTML = '';\n",
              "          dataTable['output_type'] = 'display_data';\n",
              "          await google.colab.output.renderOutput(dataTable, element);\n",
              "          const docLink = document.createElement('div');\n",
              "          docLink.innerHTML = docLinkHtml;\n",
              "          element.appendChild(docLink);\n",
              "        }\n",
              "      </script>\n",
              "    </div>\n",
              "  </div>\n",
              "  "
            ]
          },
          "metadata": {},
          "execution_count": 62
        }
      ],
      "source": [
        "df_hour.groupby('day_type')['cnt'].describe() #summary of the day_type variable created"
      ]
    },
    {
      "cell_type": "code",
      "execution_count": null,
      "id": "59033633",
      "metadata": {
        "colab": {
          "base_uri": "https://localhost:8080/",
          "height": 282
        },
        "id": "59033633",
        "outputId": "7812de0a-e7b1-427c-d9e4-bc225c76c6de"
      },
      "outputs": [
        {
          "output_type": "execute_result",
          "data": {
            "text/plain": [
              "<BarContainer object of 12 artists>"
            ]
          },
          "metadata": {},
          "execution_count": 63
        },
        {
          "output_type": "display_data",
          "data": {
            "text/plain": [
              "<Figure size 432x288 with 1 Axes>"
            ],
            "image/png": "[encoded data removed]"
          },
          "metadata": {
            "needs_background": "light"
          }
        }
      ],
      "source": [
        "m=df_hour.groupby('day_type')['cnt'].median().sort_values()\n",
        "plt.barh(m.index,m)"
      ]
    },
    {
      "cell_type": "code",
      "execution_count": null,
      "id": "62a81128",
      "metadata": {
        "id": "62a81128",
        "outputId": "076f3994-3bf6-4e1b-c213-1ea3418c3e84",
        "colab": {
          "base_uri": "https://localhost:8080/",
          "height": 833
        }
      },
      "outputs": [
        {
          "output_type": "execute_result",
          "data": {
            "text/plain": [
              "            dteday  yr  mnth  hr  holiday  workingday  temp   atemp   hum  \\\n",
              "instant                                                                     \n",
              "13076   2012-07-04   1     7   0        1           0  0.68  0.6364  0.79   \n",
              "13077   2012-07-04   1     7   1        1           0  0.68  0.6364  0.74   \n",
              "13078   2012-07-04   1     7   2        1           0  0.66  0.6061  0.83   \n",
              "13079   2012-07-04   1     7   3        1           0  0.68  0.6364  0.74   \n",
              "13080   2012-07-04   1     7   4        1           0  0.68  0.6364  0.69   \n",
              "13081   2012-07-04   1     7   5        1           0  0.66  0.6212  0.69   \n",
              "13082   2012-07-04   1     7   6        1           0  0.66  0.6212  0.69   \n",
              "13083   2012-07-04   1     7   7        1           0  0.68  0.6364  0.65   \n",
              "13084   2012-07-04   1     7   8        1           0  0.70  0.6515  0.61   \n",
              "13085   2012-07-04   1     7   9        1           0  0.76  0.6970  0.52   \n",
              "13086   2012-07-04   1     7  10        1           0  0.80  0.7273  0.46   \n",
              "13087   2012-07-04   1     7  11        1           0  0.82  0.7576  0.46   \n",
              "13088   2012-07-04   1     7  12        1           0  0.86  0.7879  0.41   \n",
              "13089   2012-07-04   1     7  13        1           0  0.90  0.8182  0.35   \n",
              "13090   2012-07-04   1     7  14        1           0  0.90  0.8182  0.37   \n",
              "13091   2012-07-04   1     7  15        1           0  0.92  0.8485  0.35   \n",
              "13092   2012-07-04   1     7  16        1           0  0.92  0.8485  0.35   \n",
              "13093   2012-07-04   1     7  17        1           0  0.92  0.8485  0.35   \n",
              "13094   2012-07-04   1     7  18        1           0  0.90  0.8485  0.42   \n",
              "13095   2012-07-04   1     7  19        1           0  0.86  0.8030  0.47   \n",
              "13096   2012-07-04   1     7  20        1           0  0.86  0.8030  0.47   \n",
              "13097   2012-07-04   1     7  21        1           0  0.84  0.8030  0.53   \n",
              "13098   2012-07-04   1     7  22        1           0  0.82  0.7879  0.56   \n",
              "13099   2012-07-04   1     7  23        1           0  0.78  0.6970  0.43   \n",
              "\n",
              "         windspeed  cnt season_name     WC           day_type  \n",
              "instant                                                        \n",
              "13076       0.0896  159        Fall  Clear  Holiday-Wednesday  \n",
              "13077       0.0000  123        Fall  Clear  Holiday-Wednesday  \n",
              "13078       0.1343   93        Fall  Clear  Holiday-Wednesday  \n",
              "13079       0.1940   32        Fall  Clear  Holiday-Wednesday  \n",
              "13080       0.2537   16        Fall  Clear  Holiday-Wednesday  \n",
              "13081       0.0000   19        Fall  Clear  Holiday-Wednesday  \n",
              "13082       0.0000   32        Fall  Clear  Holiday-Wednesday  \n",
              "13083       0.0000   72        Fall  Clear  Holiday-Wednesday  \n",
              "13084       0.1045  153        Fall  Clear  Holiday-Wednesday  \n",
              "13085       0.0000  293        Fall  Clear  Holiday-Wednesday  \n",
              "13086       0.0000  447        Fall  Clear  Holiday-Wednesday  \n",
              "13087       0.1343  485        Fall  Clear  Holiday-Wednesday  \n",
              "13088       0.2239  494        Fall  Clear  Holiday-Wednesday  \n",
              "13089       0.0000  499        Fall  Clear  Holiday-Wednesday  \n",
              "13090       0.1642  547        Fall  Clear  Holiday-Wednesday  \n",
              "13091       0.2985  454        Fall  Clear  Holiday-Wednesday  \n",
              "13092       0.2537  389        Fall  Clear  Holiday-Wednesday  \n",
              "13093       0.2985  414        Fall  Clear  Holiday-Wednesday  \n",
              "13094       0.1940  430        Fall  Clear  Holiday-Wednesday  \n",
              "13095       0.2239  432        Fall  Clear  Holiday-Wednesday  \n",
              "13096       0.2239  551        Fall  Clear  Holiday-Wednesday  \n",
              "13097       0.1343  584        Fall  Clear  Holiday-Wednesday  \n",
              "13098       0.2239  502        Fall  Clear  Holiday-Wednesday  \n",
              "13099       0.0896  183        Fall   Mist  Holiday-Wednesday  "
            ],
            "text/html": [
              "\n",
              "  <div id=\"df-799adb10-f44a-4d46-a624-7b12573d6136\">\n",
              "    <div class=\"colab-df-container\">\n",
              "      <div>\n",
              "<style scoped>\n",
              "    .dataframe tbody tr th:only-of-type {\n",
              "        vertical-align: middle;\n",
              "    }\n",
              "\n",
              "    .dataframe tbody tr th {\n",
              "        vertical-align: top;\n",
              "    }\n",
              "\n",
              "    .dataframe thead th {\n",
              "        text-align: right;\n",
              "    }\n",
              "</style>\n",
              "<table border=\"1\" class=\"dataframe\">\n",
              "  <thead>\n",
              "    <tr style=\"text-align: right;\">\n",
              "      <th></th>\n",
              "      <th>dteday</th>\n",
              "      <th>yr</th>\n",
              "      <th>mnth</th>\n",
              "      <th>hr</th>\n",
              "      <th>holiday</th>\n",
              "      <th>workingday</th>\n",
              "      <th>temp</th>\n",
              "      <th>atemp</th>\n",
              "      <th>hum</th>\n",
              "      <th>windspeed</th>\n",
              "      <th>cnt</th>\n",
              "      <th>season_name</th>\n",
              "      <th>WC</th>\n",
              "      <th>day_type</th>\n",
              "    </tr>\n",
              "    <tr>\n",
              "      <th>instant</th>\n",
              "      <th></th>\n",
              "      <th></th>\n",
              "      <th></th>\n",
              "      <th></th>\n",
              "      <th></th>\n",
              "      <th></th>\n",
              "      <th></th>\n",
              "      <th></th>\n",
              "      <th></th>\n",
              "      <th></th>\n",
              "      <th></th>\n",
              "      <th></th>\n",
              "      <th></th>\n",
              "      <th></th>\n",
              "    </tr>\n",
              "  </thead>\n",
              "  <tbody>\n",
              "    <tr>\n",
              "      <th>13076</th>\n",
              "      <td>2012-07-04</td>\n",
              "      <td>1</td>\n",
              "      <td>7</td>\n",
              "      <td>0</td>\n",
              "      <td>1</td>\n",
              "      <td>0</td>\n",
              "      <td>0.68</td>\n",
              "      <td>0.6364</td>\n",
              "      <td>0.79</td>\n",
              "      <td>0.0896</td>\n",
              "      <td>159</td>\n",
              "      <td>Fall</td>\n",
              "      <td>Clear</td>\n",
              "      <td>Holiday-Wednesday</td>\n",
              "    </tr>\n",
              "    <tr>\n",
              "      <th>13077</th>\n",
              "      <td>2012-07-04</td>\n",
              "      <td>1</td>\n",
              "      <td>7</td>\n",
              "      <td>1</td>\n",
              "      <td>1</td>\n",
              "      <td>0</td>\n",
              "      <td>0.68</td>\n",
              "      <td>0.6364</td>\n",
              "      <td>0.74</td>\n",
              "      <td>0.0000</td>\n",
              "      <td>123</td>\n",
              "      <td>Fall</td>\n",
              "      <td>Clear</td>\n",
              "      <td>Holiday-Wednesday</td>\n",
              "    </tr>\n",
              "    <tr>\n",
              "      <th>13078</th>\n",
              "      <td>2012-07-04</td>\n",
              "      <td>1</td>\n",
              "      <td>7</td>\n",
              "      <td>2</td>\n",
              "      <td>1</td>\n",
              "      <td>0</td>\n",
              "      <td>0.66</td>\n",
              "      <td>0.6061</td>\n",
              "      <td>0.83</td>\n",
              "      <td>0.1343</td>\n",
              "      <td>93</td>\n",
              "      <td>Fall</td>\n",
              "      <td>Clear</td>\n",
              "      <td>Holiday-Wednesday</td>\n",
              "    </tr>\n",
              "    <tr>\n",
              "      <th>13079</th>\n",
              "      <td>2012-07-04</td>\n",
              "      <td>1</td>\n",
              "      <td>7</td>\n",
              "      <td>3</td>\n",
              "      <td>1</td>\n",
              "      <td>0</td>\n",
              "      <td>0.68</td>\n",
              "      <td>0.6364</td>\n",
              "      <td>0.74</td>\n",
              "      <td>0.1940</td>\n",
              "      <td>32</td>\n",
              "      <td>Fall</td>\n",
              "      <td>Clear</td>\n",
              "      <td>Holiday-Wednesday</td>\n",
              "    </tr>\n",
              "    <tr>\n",
              "      <th>13080</th>\n",
              "      <td>2012-07-04</td>\n",
              "      <td>1</td>\n",
              "      <td>7</td>\n",
              "      <td>4</td>\n",
              "      <td>1</td>\n",
              "      <td>0</td>\n",
              "      <td>0.68</td>\n",
              "      <td>0.6364</td>\n",
              "      <td>0.69</td>\n",
              "      <td>0.2537</td>\n",
              "      <td>16</td>\n",
              "      <td>Fall</td>\n",
              "      <td>Clear</td>\n",
              "      <td>Holiday-Wednesday</td>\n",
              "    </tr>\n",
              "    <tr>\n",
              "      <th>13081</th>\n",
              "      <td>2012-07-04</td>\n",
              "      <td>1</td>\n",
              "      <td>7</td>\n",
              "      <td>5</td>\n",
              "      <td>1</td>\n",
              "      <td>0</td>\n",
              "      <td>0.66</td>\n",
              "      <td>0.6212</td>\n",
              "      <td>0.69</td>\n",
              "      <td>0.0000</td>\n",
              "      <td>19</td>\n",
              "      <td>Fall</td>\n",
              "      <td>Clear</td>\n",
              "      <td>Holiday-Wednesday</td>\n",
              "    </tr>\n",
              "    <tr>\n",
              "      <th>13082</th>\n",
              "      <td>2012-07-04</td>\n",
              "      <td>1</td>\n",
              "      <td>7</td>\n",
              "      <td>6</td>\n",
              "      <td>1</td>\n",
              "      <td>0</td>\n",
              "      <td>0.66</td>\n",
              "      <td>0.6212</td>\n",
              "      <td>0.69</td>\n",
              "      <td>0.0000</td>\n",
              "      <td>32</td>\n",
              "      <td>Fall</td>\n",
              "      <td>Clear</td>\n",
              "      <td>Holiday-Wednesday</td>\n",
              "    </tr>\n",
              "    <tr>\n",
              "      <th>13083</th>\n",
              "      <td>2012-07-04</td>\n",
              "      <td>1</td>\n",
              "      <td>7</td>\n",
              "      <td>7</td>\n",
              "      <td>1</td>\n",
              "      <td>0</td>\n",
              "      <td>0.68</td>\n",
              "      <td>0.6364</td>\n",
              "      <td>0.65</td>\n",
              "      <td>0.0000</td>\n",
              "      <td>72</td>\n",
              "      <td>Fall</td>\n",
              "      <td>Clear</td>\n",
              "      <td>Holiday-Wednesday</td>\n",
              "    </tr>\n",
              "    <tr>\n",
              "      <th>13084</th>\n",
              "      <td>2012-07-04</td>\n",
              "      <td>1</td>\n",
              "      <td>7</td>\n",
              "      <td>8</td>\n",
              "      <td>1</td>\n",
              "      <td>0</td>\n",
              "      <td>0.70</td>\n",
              "      <td>0.6515</td>\n",
              "      <td>0.61</td>\n",
              "      <td>0.1045</td>\n",
              "      <td>153</td>\n",
              "      <td>Fall</td>\n",
              "      <td>Clear</td>\n",
              "      <td>Holiday-Wednesday</td>\n",
              "    </tr>\n",
              "    <tr>\n",
              "      <th>13085</th>\n",
              "      <td>2012-07-04</td>\n",
              "      <td>1</td>\n",
              "      <td>7</td>\n",
              "      <td>9</td>\n",
              "      <td>1</td>\n",
              "      <td>0</td>\n",
              "      <td>0.76</td>\n",
              "      <td>0.6970</td>\n",
              "      <td>0.52</td>\n",
              "      <td>0.0000</td>\n",
              "      <td>293</td>\n",
              "      <td>Fall</td>\n",
              "      <td>Clear</td>\n",
              "      <td>Holiday-Wednesday</td>\n",
              "    </tr>\n",
              "    <tr>\n",
              "      <th>13086</th>\n",
              "      <td>2012-07-04</td>\n",
              "      <td>1</td>\n",
              "      <td>7</td>\n",
              "      <td>10</td>\n",
              "      <td>1</td>\n",
              "      <td>0</td>\n",
              "      <td>0.80</td>\n",
              "      <td>0.7273</td>\n",
              "      <td>0.46</td>\n",
              "      <td>0.0000</td>\n",
              "      <td>447</td>\n",
              "      <td>Fall</td>\n",
              "      <td>Clear</td>\n",
              "      <td>Holiday-Wednesday</td>\n",
              "    </tr>\n",
              "    <tr>\n",
              "      <th>13087</th>\n",
              "      <td>2012-07-04</td>\n",
              "      <td>1</td>\n",
              "      <td>7</td>\n",
              "      <td>11</td>\n",
              "      <td>1</td>\n",
              "      <td>0</td>\n",
              "      <td>0.82</td>\n",
              "      <td>0.7576</td>\n",
              "      <td>0.46</td>\n",
              "      <td>0.1343</td>\n",
              "      <td>485</td>\n",
              "      <td>Fall</td>\n",
              "      <td>Clear</td>\n",
              "      <td>Holiday-Wednesday</td>\n",
              "    </tr>\n",
              "    <tr>\n",
              "      <th>13088</th>\n",
              "      <td>2012-07-04</td>\n",
              "      <td>1</td>\n",
              "      <td>7</td>\n",
              "      <td>12</td>\n",
              "      <td>1</td>\n",
              "      <td>0</td>\n",
              "      <td>0.86</td>\n",
              "      <td>0.7879</td>\n",
              "      <td>0.41</td>\n",
              "      <td>0.2239</td>\n",
              "      <td>494</td>\n",
              "      <td>Fall</td>\n",
              "      <td>Clear</td>\n",
              "      <td>Holiday-Wednesday</td>\n",
              "    </tr>\n",
              "    <tr>\n",
              "      <th>13089</th>\n",
              "      <td>2012-07-04</td>\n",
              "      <td>1</td>\n",
              "      <td>7</td>\n",
              "      <td>13</td>\n",
              "      <td>1</td>\n",
              "      <td>0</td>\n",
              "      <td>0.90</td>\n",
              "      <td>0.8182</td>\n",
              "      <td>0.35</td>\n",
              "      <td>0.0000</td>\n",
              "      <td>499</td>\n",
              "      <td>Fall</td>\n",
              "      <td>Clear</td>\n",
              "      <td>Holiday-Wednesday</td>\n",
              "    </tr>\n",
              "    <tr>\n",
              "      <th>13090</th>\n",
              "      <td>2012-07-04</td>\n",
              "      <td>1</td>\n",
              "      <td>7</td>\n",
              "      <td>14</td>\n",
              "      <td>1</td>\n",
              "      <td>0</td>\n",
              "      <td>0.90</td>\n",
              "      <td>0.8182</td>\n",
              "      <td>0.37</td>\n",
              "      <td>0.1642</td>\n",
              "      <td>547</td>\n",
              "      <td>Fall</td>\n",
              "      <td>Clear</td>\n",
              "      <td>Holiday-Wednesday</td>\n",
              "    </tr>\n",
              "    <tr>\n",
              "      <th>13091</th>\n",
              "      <td>2012-07-04</td>\n",
              "      <td>1</td>\n",
              "      <td>7</td>\n",
              "      <td>15</td>\n",
              "      <td>1</td>\n",
              "      <td>0</td>\n",
              "      <td>0.92</td>\n",
              "      <td>0.8485</td>\n",
              "      <td>0.35</td>\n",
              "      <td>0.2985</td>\n",
              "      <td>454</td>\n",
              "      <td>Fall</td>\n",
              "      <td>Clear</td>\n",
              "      <td>Holiday-Wednesday</td>\n",
              "    </tr>\n",
              "    <tr>\n",
              "      <th>13092</th>\n",
              "      <td>2012-07-04</td>\n",
              "      <td>1</td>\n",
              "      <td>7</td>\n",
              "      <td>16</td>\n",
              "      <td>1</td>\n",
              "      <td>0</td>\n",
              "      <td>0.92</td>\n",
              "      <td>0.8485</td>\n",
              "      <td>0.35</td>\n",
              "      <td>0.2537</td>\n",
              "      <td>389</td>\n",
              "      <td>Fall</td>\n",
              "      <td>Clear</td>\n",
              "      <td>Holiday-Wednesday</td>\n",
              "    </tr>\n",
              "    <tr>\n",
              "      <th>13093</th>\n",
              "      <td>2012-07-04</td>\n",
              "      <td>1</td>\n",
              "      <td>7</td>\n",
              "      <td>17</td>\n",
              "      <td>1</td>\n",
              "      <td>0</td>\n",
              "      <td>0.92</td>\n",
              "      <td>0.8485</td>\n",
              "      <td>0.35</td>\n",
              "      <td>0.2985</td>\n",
              "      <td>414</td>\n",
              "      <td>Fall</td>\n",
              "      <td>Clear</td>\n",
              "      <td>Holiday-Wednesday</td>\n",
              "    </tr>\n",
              "    <tr>\n",
              "      <th>13094</th>\n",
              "      <td>2012-07-04</td>\n",
              "      <td>1</td>\n",
              "      <td>7</td>\n",
              "      <td>18</td>\n",
              "      <td>1</td>\n",
              "      <td>0</td>\n",
              "      <td>0.90</td>\n",
              "      <td>0.8485</td>\n",
              "      <td>0.42</td>\n",
              "      <td>0.1940</td>\n",
              "      <td>430</td>\n",
              "      <td>Fall</td>\n",
              "      <td>Clear</td>\n",
              "      <td>Holiday-Wednesday</td>\n",
              "    </tr>\n",
              "    <tr>\n",
              "      <th>13095</th>\n",
              "      <td>2012-07-04</td>\n",
              "      <td>1</td>\n",
              "      <td>7</td>\n",
              "      <td>19</td>\n",
              "      <td>1</td>\n",
              "      <td>0</td>\n",
              "      <td>0.86</td>\n",
              "      <td>0.8030</td>\n",
              "      <td>0.47</td>\n",
              "      <td>0.2239</td>\n",
              "      <td>432</td>\n",
              "      <td>Fall</td>\n",
              "      <td>Clear</td>\n",
              "      <td>Holiday-Wednesday</td>\n",
              "    </tr>\n",
              "    <tr>\n",
              "      <th>13096</th>\n",
              "      <td>2012-07-04</td>\n",
              "      <td>1</td>\n",
              "      <td>7</td>\n",
              "      <td>20</td>\n",
              "      <td>1</td>\n",
              "      <td>0</td>\n",
              "      <td>0.86</td>\n",
              "      <td>0.8030</td>\n",
              "      <td>0.47</td>\n",
              "      <td>0.2239</td>\n",
              "      <td>551</td>\n",
              "      <td>Fall</td>\n",
              "      <td>Clear</td>\n",
              "      <td>Holiday-Wednesday</td>\n",
              "    </tr>\n",
              "    <tr>\n",
              "      <th>13097</th>\n",
              "      <td>2012-07-04</td>\n",
              "      <td>1</td>\n",
              "      <td>7</td>\n",
              "      <td>21</td>\n",
              "      <td>1</td>\n",
              "      <td>0</td>\n",
              "      <td>0.84</td>\n",
              "      <td>0.8030</td>\n",
              "      <td>0.53</td>\n",
              "      <td>0.1343</td>\n",
              "      <td>584</td>\n",
              "      <td>Fall</td>\n",
              "      <td>Clear</td>\n",
              "      <td>Holiday-Wednesday</td>\n",
              "    </tr>\n",
              "    <tr>\n",
              "      <th>13098</th>\n",
              "      <td>2012-07-04</td>\n",
              "      <td>1</td>\n",
              "      <td>7</td>\n",
              "      <td>22</td>\n",
              "      <td>1</td>\n",
              "      <td>0</td>\n",
              "      <td>0.82</td>\n",
              "      <td>0.7879</td>\n",
              "      <td>0.56</td>\n",
              "      <td>0.2239</td>\n",
              "      <td>502</td>\n",
              "      <td>Fall</td>\n",
              "      <td>Clear</td>\n",
              "      <td>Holiday-Wednesday</td>\n",
              "    </tr>\n",
              "    <tr>\n",
              "      <th>13099</th>\n",
              "      <td>2012-07-04</td>\n",
              "      <td>1</td>\n",
              "      <td>7</td>\n",
              "      <td>23</td>\n",
              "      <td>1</td>\n",
              "      <td>0</td>\n",
              "      <td>0.78</td>\n",
              "      <td>0.6970</td>\n",
              "      <td>0.43</td>\n",
              "      <td>0.0896</td>\n",
              "      <td>183</td>\n",
              "      <td>Fall</td>\n",
              "      <td>Mist</td>\n",
              "      <td>Holiday-Wednesday</td>\n",
              "    </tr>\n",
              "  </tbody>\n",
              "</table>\n",
              "</div>\n",
              "      <button class=\"colab-df-convert\" onclick=\"convertToInteractive('df-799adb10-f44a-4d46-a624-7b12573d6136')\"\n",
              "              title=\"Convert this dataframe to an interactive table.\"\n",
              "              style=\"display:none;\">\n",
              "        \n",
              "  <svg xmlns=\"http://www.w3.org/2000/svg\" height=\"24px\"viewBox=\"0 0 24 24\"\n",
              "       width=\"24px\">\n",
              "    <path d=\"M0 0h24v24H0V0z\" fill=\"none\"/>\n",
              "    <path d=\"M18.56 5.44l.94 2.06.94-2.06 2.06-.94-2.06-.94-.94-2.06-.94 2.06-2.06.94zm-11 1L8.5 8.5l.94-2.06 2.06-.94-2.06-.94L8.5 2.5l-.94 2.06-2.06.94zm10 10l.94 2.06.94-2.06 2.06-.94-2.06-.94-.94-2.06-.94 2.06-2.06.94z\"/><path d=\"M17.41 7.96l-1.37-1.37c-.4-.4-.92-.59-1.43-.59-.52 0-1.04.2-1.43.59L10.3 9.45l-7.72 7.72c-.78.78-.78 2.05 0 2.83L4 21.41c.39.39.9.59 1.41.59.51 0 1.02-.2 1.41-.59l7.78-7.78 2.81-2.81c.8-.78.8-2.07 0-2.86zM5.41 20L4 18.59l7.72-7.72 1.47 1.35L5.41 20z\"/>\n",
              "  </svg>\n",
              "      </button>\n",
              "      \n",
              "  <style>\n",
              "    .colab-df-container {\n",
              "      display:flex;\n",
              "      flex-wrap:wrap;\n",
              "      gap: 12px;\n",
              "    }\n",
              "\n",
              "    .colab-df-convert {\n",
              "      background-color: #E8F0FE;\n",
              "      border: none;\n",
              "      border-radius: 50%;\n",
              "      cursor: pointer;\n",
              "      display: none;\n",
              "      fill: #1967D2;\n",
              "      height: 32px;\n",
              "      padding: 0 0 0 0;\n",
              "      width: 32px;\n",
              "    }\n",
              "\n",
              "    .colab-df-convert:hover {\n",
              "      background-color: #E2EBFA;\n",
              "      box-shadow: 0px 1px 2px rgba(60, 64, 67, 0.3), 0px 1px 3px 1px rgba(60, 64, 67, 0.15);\n",
              "      fill: #174EA6;\n",
              "    }\n",
              "\n",
              "    [theme=dark] .colab-df-convert {\n",
              "      background-color: #3B4455;\n",
              "      fill: #D2E3FC;\n",
              "    }\n",
              "\n",
              "    [theme=dark] .colab-df-convert:hover {\n",
              "      background-color: #434B5C;\n",
              "      box-shadow: 0px 1px 3px 1px rgba(0, 0, 0, 0.15);\n",
              "      filter: drop-shadow(0px 1px 2px rgba(0, 0, 0, 0.3));\n",
              "      fill: #FFFFFF;\n",
              "    }\n",
              "  </style>\n",
              "\n",
              "      <script>\n",
              "        const buttonEl =\n",
              "          document.querySelector('#df-799adb10-f44a-4d46-a624-7b12573d6136 button.colab-df-convert');\n",
              "        buttonEl.style.display =\n",
              "          google.colab.kernel.accessAllowed ? 'block' : 'none';\n",
              "\n",
              "        async function convertToInteractive(key) {\n",
              "          const element = document.querySelector('#df-799adb10-f44a-4d46-a624-7b12573d6136');\n",
              "          const dataTable =\n",
              "            await google.colab.kernel.invokeFunction('convertToInteractive',\n",
              "                                                     [key], {});\n",
              "          if (!dataTable) return;\n",
              "\n",
              "          const docLinkHtml = 'Like what you see? Visit the ' +\n",
              "            '<a target=\"_blank\" href=https://colab.research.google.com/notebooks/data_table.ipynb>data table notebook</a>'\n",
              "            + ' to learn more about interactive tables.';\n",
              "          element.innerHTML = '';\n",
              "          dataTable['output_type'] = 'display_data';\n",
              "          await google.colab.output.renderOutput(dataTable, element);\n",
              "          const docLink = document.createElement('div');\n",
              "          docLink.innerHTML = docLinkHtml;\n",
              "          element.appendChild(docLink);\n",
              "        }\n",
              "      </script>\n",
              "    </div>\n",
              "  </div>\n",
              "  "
            ]
          },
          "metadata": {},
          "execution_count": 65
        }
      ],
      "source": [
        "df_hour[df_hour['day_type']=='Holiday-Wednesday']"
      ]
    },
    {
      "cell_type": "markdown",
      "source": [
        "NOTE: The bikes rented is significantly high for a Wednesday when it was a holiday."
      ],
      "metadata": {
        "id": "47kxBhqe8kH9"
      },
      "id": "47kxBhqe8kH9"
    },
    {
      "cell_type": "code",
      "execution_count": null,
      "id": "ebe21b9f",
      "metadata": {
        "id": "ebe21b9f"
      },
      "outputs": [],
      "source": [
        "df_hour[['day', 'type']] = df_hour['day_type'].str.split('-', 2, expand=True)#Splitting the day_type variable into two columns"
      ]
    },
    {
      "cell_type": "code",
      "execution_count": null,
      "id": "3b617d53",
      "metadata": {
        "colab": {
          "base_uri": "https://localhost:8080/",
          "height": 237
        },
        "id": "3b617d53",
        "outputId": "6e23e98c-1989-4a1f-c56a-e8a0ece6f416"
      },
      "outputs": [
        {
          "output_type": "execute_result",
          "data": {
            "text/plain": [
              "            dteday  yr  mnth  hr  holiday  workingday  temp   atemp   hum  \\\n",
              "instant                                                                     \n",
              "1       2011-01-01   0     1   0        0           0  0.24  0.2879  0.81   \n",
              "2       2011-01-01   0     1   1        0           0  0.22  0.2727  0.80   \n",
              "3       2011-01-01   0     1   2        0           0  0.22  0.2727  0.80   \n",
              "4       2011-01-01   0     1   3        0           0  0.24  0.2879  0.75   \n",
              "5       2011-01-01   0     1   4        0           0  0.24  0.2879  0.75   \n",
              "\n",
              "         windspeed  cnt season_name     WC          day_type      day  \\\n",
              "instant                                                                 \n",
              "1              0.0   16      Spring  Clear  Weekend-Saturday  Weekend   \n",
              "2              0.0   40      Spring  Clear  Weekend-Saturday  Weekend   \n",
              "3              0.0   32      Spring  Clear  Weekend-Saturday  Weekend   \n",
              "4              0.0   13      Spring  Clear  Weekend-Saturday  Weekend   \n",
              "5              0.0    1      Spring  Clear  Weekend-Saturday  Weekend   \n",
              "\n",
              "             type  \n",
              "instant            \n",
              "1        Saturday  \n",
              "2        Saturday  \n",
              "3        Saturday  \n",
              "4        Saturday  \n",
              "5        Saturday  "
            ],
            "text/html": [
              "\n",
              "  <div id=\"df-018382f0-9c3f-4214-92c7-979ef35a46e2\">\n",
              "    <div class=\"colab-df-container\">\n",
              "      <div>\n",
              "<style scoped>\n",
              "    .dataframe tbody tr th:only-of-type {\n",
              "        vertical-align: middle;\n",
              "    }\n",
              "\n",
              "    .dataframe tbody tr th {\n",
              "        vertical-align: top;\n",
              "    }\n",
              "\n",
              "    .dataframe thead th {\n",
              "        text-align: right;\n",
              "    }\n",
              "</style>\n",
              "<table border=\"1\" class=\"dataframe\">\n",
              "  <thead>\n",
              "    <tr style=\"text-align: right;\">\n",
              "      <th></th>\n",
              "      <th>dteday</th>\n",
              "      <th>yr</th>\n",
              "      <th>mnth</th>\n",
              "      <th>hr</th>\n",
              "      <th>holiday</th>\n",
              "      <th>workingday</th>\n",
              "      <th>temp</th>\n",
              "      <th>atemp</th>\n",
              "      <th>hum</th>\n",
              "      <th>windspeed</th>\n",
              "      <th>cnt</th>\n",
              "      <th>season_name</th>\n",
              "      <th>WC</th>\n",
              "      <th>day_type</th>\n",
              "      <th>day</th>\n",
              "      <th>type</th>\n",
              "    </tr>\n",
              "    <tr>\n",
              "      <th>instant</th>\n",
              "      <th></th>\n",
              "      <th></th>\n",
              "      <th></th>\n",
              "      <th></th>\n",
              "      <th></th>\n",
              "      <th></th>\n",
              "      <th></th>\n",
              "      <th></th>\n",
              "      <th></th>\n",
              "      <th></th>\n",
              "      <th></th>\n",
              "      <th></th>\n",
              "      <th></th>\n",
              "      <th></th>\n",
              "      <th></th>\n",
              "      <th></th>\n",
              "    </tr>\n",
              "  </thead>\n",
              "  <tbody>\n",
              "    <tr>\n",
              "      <th>1</th>\n",
              "      <td>2011-01-01</td>\n",
              "      <td>0</td>\n",
              "      <td>1</td>\n",
              "      <td>0</td>\n",
              "      <td>0</td>\n",
              "      <td>0</td>\n",
              "      <td>0.24</td>\n",
              "      <td>0.2879</td>\n",
              "      <td>0.81</td>\n",
              "      <td>0.0</td>\n",
              "      <td>16</td>\n",
              "      <td>Spring</td>\n",
              "      <td>Clear</td>\n",
              "      <td>Weekend-Saturday</td>\n",
              "      <td>Weekend</td>\n",
              "      <td>Saturday</td>\n",
              "    </tr>\n",
              "    <tr>\n",
              "      <th>2</th>\n",
              "      <td>2011-01-01</td>\n",
              "      <td>0</td>\n",
              "      <td>1</td>\n",
              "      <td>1</td>\n",
              "      <td>0</td>\n",
              "      <td>0</td>\n",
              "      <td>0.22</td>\n",
              "      <td>0.2727</td>\n",
              "      <td>0.80</td>\n",
              "      <td>0.0</td>\n",
              "      <td>40</td>\n",
              "      <td>Spring</td>\n",
              "      <td>Clear</td>\n",
              "      <td>Weekend-Saturday</td>\n",
              "      <td>Weekend</td>\n",
              "      <td>Saturday</td>\n",
              "    </tr>\n",
              "    <tr>\n",
              "      <th>3</th>\n",
              "      <td>2011-01-01</td>\n",
              "      <td>0</td>\n",
              "      <td>1</td>\n",
              "      <td>2</td>\n",
              "      <td>0</td>\n",
              "      <td>0</td>\n",
              "      <td>0.22</td>\n",
              "      <td>0.2727</td>\n",
              "      <td>0.80</td>\n",
              "      <td>0.0</td>\n",
              "      <td>32</td>\n",
              "      <td>Spring</td>\n",
              "      <td>Clear</td>\n",
              "      <td>Weekend-Saturday</td>\n",
              "      <td>Weekend</td>\n",
              "      <td>Saturday</td>\n",
              "    </tr>\n",
              "    <tr>\n",
              "      <th>4</th>\n",
              "      <td>2011-01-01</td>\n",
              "      <td>0</td>\n",
              "      <td>1</td>\n",
              "      <td>3</td>\n",
              "      <td>0</td>\n",
              "      <td>0</td>\n",
              "      <td>0.24</td>\n",
              "      <td>0.2879</td>\n",
              "      <td>0.75</td>\n",
              "      <td>0.0</td>\n",
              "      <td>13</td>\n",
              "      <td>Spring</td>\n",
              "      <td>Clear</td>\n",
              "      <td>Weekend-Saturday</td>\n",
              "      <td>Weekend</td>\n",
              "      <td>Saturday</td>\n",
              "    </tr>\n",
              "    <tr>\n",
              "      <th>5</th>\n",
              "      <td>2011-01-01</td>\n",
              "      <td>0</td>\n",
              "      <td>1</td>\n",
              "      <td>4</td>\n",
              "      <td>0</td>\n",
              "      <td>0</td>\n",
              "      <td>0.24</td>\n",
              "      <td>0.2879</td>\n",
              "      <td>0.75</td>\n",
              "      <td>0.0</td>\n",
              "      <td>1</td>\n",
              "      <td>Spring</td>\n",
              "      <td>Clear</td>\n",
              "      <td>Weekend-Saturday</td>\n",
              "      <td>Weekend</td>\n",
              "      <td>Saturday</td>\n",
              "    </tr>\n",
              "  </tbody>\n",
              "</table>\n",
              "</div>\n",
              "      <button class=\"colab-df-convert\" onclick=\"convertToInteractive('df-018382f0-9c3f-4214-92c7-979ef35a46e2')\"\n",
              "              title=\"Convert this dataframe to an interactive table.\"\n",
              "              style=\"display:none;\">\n",
              "        \n",
              "  <svg xmlns=\"http://www.w3.org/2000/svg\" height=\"24px\"viewBox=\"0 0 24 24\"\n",
              "       width=\"24px\">\n",
              "    <path d=\"M0 0h24v24H0V0z\" fill=\"none\"/>\n",
              "    <path d=\"M18.56 5.44l.94 2.06.94-2.06 2.06-.94-2.06-.94-.94-2.06-.94 2.06-2.06.94zm-11 1L8.5 8.5l.94-2.06 2.06-.94-2.06-.94L8.5 2.5l-.94 2.06-2.06.94zm10 10l.94 2.06.94-2.06 2.06-.94-2.06-.94-.94-2.06-.94 2.06-2.06.94z\"/><path d=\"M17.41 7.96l-1.37-1.37c-.4-.4-.92-.59-1.43-.59-.52 0-1.04.2-1.43.59L10.3 9.45l-7.72 7.72c-.78.78-.78 2.05 0 2.83L4 21.41c.39.39.9.59 1.41.59.51 0 1.02-.2 1.41-.59l7.78-7.78 2.81-2.81c.8-.78.8-2.07 0-2.86zM5.41 20L4 18.59l7.72-7.72 1.47 1.35L5.41 20z\"/>\n",
              "  </svg>\n",
              "      </button>\n",
              "      \n",
              "  <style>\n",
              "    .colab-df-container {\n",
              "      display:flex;\n",
              "      flex-wrap:wrap;\n",
              "      gap: 12px;\n",
              "    }\n",
              "\n",
              "    .colab-df-convert {\n",
              "      background-color: #E8F0FE;\n",
              "      border: none;\n",
              "      border-radius: 50%;\n",
              "      cursor: pointer;\n",
              "      display: none;\n",
              "      fill: #1967D2;\n",
              "      height: 32px;\n",
              "      padding: 0 0 0 0;\n",
              "      width: 32px;\n",
              "    }\n",
              "\n",
              "    .colab-df-convert:hover {\n",
              "      background-color: #E2EBFA;\n",
              "      box-shadow: 0px 1px 2px rgba(60, 64, 67, 0.3), 0px 1px 3px 1px rgba(60, 64, 67, 0.15);\n",
              "      fill: #174EA6;\n",
              "    }\n",
              "\n",
              "    [theme=dark] .colab-df-convert {\n",
              "      background-color: #3B4455;\n",
              "      fill: #D2E3FC;\n",
              "    }\n",
              "\n",
              "    [theme=dark] .colab-df-convert:hover {\n",
              "      background-color: #434B5C;\n",
              "      box-shadow: 0px 1px 3px 1px rgba(0, 0, 0, 0.15);\n",
              "      filter: drop-shadow(0px 1px 2px rgba(0, 0, 0, 0.3));\n",
              "      fill: #FFFFFF;\n",
              "    }\n",
              "  </style>\n",
              "\n",
              "      <script>\n",
              "        const buttonEl =\n",
              "          document.querySelector('#df-018382f0-9c3f-4214-92c7-979ef35a46e2 button.colab-df-convert');\n",
              "        buttonEl.style.display =\n",
              "          google.colab.kernel.accessAllowed ? 'block' : 'none';\n",
              "\n",
              "        async function convertToInteractive(key) {\n",
              "          const element = document.querySelector('#df-018382f0-9c3f-4214-92c7-979ef35a46e2');\n",
              "          const dataTable =\n",
              "            await google.colab.kernel.invokeFunction('convertToInteractive',\n",
              "                                                     [key], {});\n",
              "          if (!dataTable) return;\n",
              "\n",
              "          const docLinkHtml = 'Like what you see? Visit the ' +\n",
              "            '<a target=\"_blank\" href=https://colab.research.google.com/notebooks/data_table.ipynb>data table notebook</a>'\n",
              "            + ' to learn more about interactive tables.';\n",
              "          element.innerHTML = '';\n",
              "          dataTable['output_type'] = 'display_data';\n",
              "          await google.colab.output.renderOutput(dataTable, element);\n",
              "          const docLink = document.createElement('div');\n",
              "          docLink.innerHTML = docLinkHtml;\n",
              "          element.appendChild(docLink);\n",
              "        }\n",
              "      </script>\n",
              "    </div>\n",
              "  </div>\n",
              "  "
            ]
          },
          "metadata": {},
          "execution_count": 67
        }
      ],
      "source": [
        "df_hour.head()"
      ]
    },
    {
      "cell_type": "code",
      "execution_count": null,
      "id": "93aa3471",
      "metadata": {
        "colab": {
          "base_uri": "https://localhost:8080/",
          "height": 282
        },
        "id": "93aa3471",
        "outputId": "c23f7bf0-4528-4708-db91-4ae1ab797eb1"
      },
      "outputs": [
        {
          "output_type": "execute_result",
          "data": {
            "text/plain": [
              "<BarContainer object of 3 artists>"
            ]
          },
          "metadata": {},
          "execution_count": 68
        },
        {
          "output_type": "display_data",
          "data": {
            "text/plain": [
              "<Figure size 432x288 with 1 Axes>"
            ],
            "image/png": "[encoded data removed]"
          },
          "metadata": {
            "needs_background": "light"
          }
        }
      ],
      "source": [
        "d=df_hour.groupby('day')['cnt'].median().sort_values()\n",
        "plt.barh(d.index,d)"
      ]
    },
    {
      "cell_type": "markdown",
      "source": [
        "NOTE: Maximum bikes are hired during the working days."
      ],
      "metadata": {
        "id": "D428Kb2R88AD"
      },
      "id": "D428Kb2R88AD"
    },
    {
      "cell_type": "code",
      "execution_count": null,
      "id": "354f08ae",
      "metadata": {
        "colab": {
          "base_uri": "https://localhost:8080/",
          "height": 282
        },
        "id": "354f08ae",
        "outputId": "35aee9d8-6c44-4b52-f969-537de7b25840"
      },
      "outputs": [
        {
          "output_type": "execute_result",
          "data": {
            "text/plain": [
              "<BarContainer object of 7 artists>"
            ]
          },
          "metadata": {},
          "execution_count": 69
        },
        {
          "output_type": "display_data",
          "data": {
            "text/plain": [
              "<Figure size 432x288 with 1 Axes>"
            ],
            "image/png": "[encoded data removed]"
          },
          "metadata": {
            "needs_background": "light"
          }
        }
      ],
      "source": [
        "d1=df_hour.groupby('type')['cnt'].median().sort_values()\n",
        "plt.barh(d1.index,d1)"
      ]
    },
    {
      "cell_type": "markdown",
      "source": [
        "NOTE: Friday , Thursdays are the days when more bikes are hired than the rest of weekdays."
      ],
      "metadata": {
        "id": "NVC-bkPk9YNV"
      },
      "id": "NVC-bkPk9YNV"
    },
    {
      "cell_type": "markdown",
      "id": "e77ffaf9",
      "metadata": {
        "id": "e77ffaf9"
      },
      "source": [
        "Summary: \n",
        "1. Season wise - Fall season has got the highest median \n",
        "2. Monthwise- May to October\n",
        "3. Clear - max median hiring, heavy rain -min\n",
        "4. Friday - median max hiring"
      ]
    },
    {
      "cell_type": "markdown",
      "id": "ceb071bd",
      "metadata": {
        "id": "ceb071bd"
      },
      "source": [
        "We have dropped 'atemp' since there is high correlation with temp. Our target variable is 'cnt'. \n",
        "\n",
        "We have seen before that hum and windspeed have weak correlation with cnt but the correlation is significant indicating that there linear relationship is significant. Hence, we are not dropping those variables.\n",
        "\n",
        "Hum and windspeed has weak negative correlation, thereofore, we are not dropping any of them.\n"
      ]
    },
    {
      "cell_type": "code",
      "execution_count": null,
      "id": "a368f21f",
      "metadata": {
        "id": "a368f21f"
      },
      "outputs": [],
      "source": [
        "df_hour.drop(['dteday','holiday','workingday','atemp','day_type'],axis=1,inplace=True)\n",
        "#We have created variables for weathersit - WC, season-seaon_name, holiday-day, workingday-type. Hence, those variables are dropped"
      ]
    },
    {
      "cell_type": "code",
      "source": [
        "categorical_cols = df_hour.select_dtypes('object').columns.tolist()\n",
        "categorical_cols"
      ],
      "metadata": {
        "colab": {
          "base_uri": "https://localhost:8080/"
        },
        "id": "x3YhYE0O_xgZ",
        "outputId": "e35b33ff-58c4-4502-bc19-dbcacd73721a"
      },
      "id": "x3YhYE0O_xgZ",
      "execution_count": null,
      "outputs": [
        {
          "output_type": "execute_result",
          "data": {
            "text/plain": [
              "['season_name', 'WC', 'day', 'type']"
            ]
          },
          "metadata": {},
          "execution_count": 71
        }
      ]
    },
    {
      "cell_type": "code",
      "execution_count": null,
      "id": "28a003dd",
      "metadata": {
        "colab": {
          "base_uri": "https://localhost:8080/"
        },
        "id": "28a003dd",
        "outputId": "13ca73f7-8b4f-452e-e7b9-acfa20ffb889"
      },
      "outputs": [
        {
          "output_type": "execute_result",
          "data": {
            "text/plain": [
              "OneHotEncoder(handle_unknown='ignore', sparse=False)"
            ]
          },
          "metadata": {},
          "execution_count": 72
        }
      ],
      "source": [
        "#One hot encoding is done on the data\n",
        "from sklearn.preprocessing import OneHotEncoder\n",
        "encoder = OneHotEncoder(sparse=False, handle_unknown='ignore')\n",
        "encoder.fit(df_hour[categorical_cols])"
      ]
    },
    {
      "cell_type": "code",
      "source": [
        "encoded_cols = list(encoder.get_feature_names(categorical_cols))\n"
      ],
      "metadata": {
        "colab": {
          "base_uri": "https://localhost:8080/"
        },
        "id": "pKO2-S-u_-CW",
        "outputId": "1aaf8ac4-7adf-465f-d3aa-b372b7cfbbe0"
      },
      "id": "pKO2-S-u_-CW",
      "execution_count": null,
      "outputs": [
        {
          "output_type": "stream",
          "name": "stderr",
          "text": [
            "/usr/local/lib/python3.7/dist-packages/sklearn/utils/deprecation.py:87: FutureWarning: Function get_feature_names is deprecated; get_feature_names is deprecated in 1.0 and will be removed in 1.2. Please use get_feature_names_out instead.\n",
            "  warnings.warn(msg, category=FutureWarning)\n"
          ]
        }
      ]
    },
    {
      "cell_type": "code",
      "source": [
        "df_hour[encoded_cols] = encoder.transform(df_hour[categorical_cols])"
      ],
      "metadata": {
        "id": "RehBPznaAEpr"
      },
      "id": "RehBPznaAEpr",
      "execution_count": null,
      "outputs": []
    },
    {
      "cell_type": "code",
      "source": [
        "df_hour.head(2)"
      ],
      "metadata": {
        "colab": {
          "base_uri": "https://localhost:8080/",
          "height": 237
        },
        "id": "lPueYIJaAL0y",
        "outputId": "f6199649-debc-49aa-8a1d-9b347834fb5f"
      },
      "id": "lPueYIJaAL0y",
      "execution_count": null,
      "outputs": [
        {
          "output_type": "execute_result",
          "data": {
            "text/plain": [
              "         yr  mnth  hr  temp   hum  windspeed  cnt season_name     WC      day  \\\n",
              "instant                                                                         \n",
              "1         0     1   0  0.24  0.81        0.0   16      Spring  Clear  Weekend   \n",
              "2         0     1   1  0.22  0.80        0.0   40      Spring  Clear  Weekend   \n",
              "\n",
              "         ... day_Holiday  day_Weekend  day_Work  type_Friday  type_Monday  \\\n",
              "instant  ...                                                                \n",
              "1        ...         0.0          1.0       0.0          0.0          0.0   \n",
              "2        ...         0.0          1.0       0.0          0.0          0.0   \n",
              "\n",
              "         type_Saturday  type_Sunday  type_Thursday  type_Tuesday  \\\n",
              "instant                                                            \n",
              "1                  1.0          0.0            0.0           0.0   \n",
              "2                  1.0          0.0            0.0           0.0   \n",
              "\n",
              "         type_Wednesday  \n",
              "instant                  \n",
              "1                   0.0  \n",
              "2                   0.0  \n",
              "\n",
              "[2 rows x 29 columns]"
            ],
            "text/html": [
              "\n",
              "  <div id=\"df-33fc2ec7-fdee-4908-aae0-fe91e6e19c12\">\n",
              "    <div class=\"colab-df-container\">\n",
              "      <div>\n",
              "<style scoped>\n",
              "    .dataframe tbody tr th:only-of-type {\n",
              "        vertical-align: middle;\n",
              "    }\n",
              "\n",
              "    .dataframe tbody tr th {\n",
              "        vertical-align: top;\n",
              "    }\n",
              "\n",
              "    .dataframe thead th {\n",
              "        text-align: right;\n",
              "    }\n",
              "</style>\n",
              "<table border=\"1\" class=\"dataframe\">\n",
              "  <thead>\n",
              "    <tr style=\"text-align: right;\">\n",
              "      <th></th>\n",
              "      <th>yr</th>\n",
              "      <th>mnth</th>\n",
              "      <th>hr</th>\n",
              "      <th>temp</th>\n",
              "      <th>hum</th>\n",
              "      <th>windspeed</th>\n",
              "      <th>cnt</th>\n",
              "      <th>season_name</th>\n",
              "      <th>WC</th>\n",
              "      <th>day</th>\n",
              "      <th>...</th>\n",
              "      <th>day_Holiday</th>\n",
              "      <th>day_Weekend</th>\n",
              "      <th>day_Work</th>\n",
              "      <th>type_Friday</th>\n",
              "      <th>type_Monday</th>\n",
              "      <th>type_Saturday</th>\n",
              "      <th>type_Sunday</th>\n",
              "      <th>type_Thursday</th>\n",
              "      <th>type_Tuesday</th>\n",
              "      <th>type_Wednesday</th>\n",
              "    </tr>\n",
              "    <tr>\n",
              "      <th>instant</th>\n",
              "      <th></th>\n",
              "      <th></th>\n",
              "      <th></th>\n",
              "      <th></th>\n",
              "      <th></th>\n",
              "      <th></th>\n",
              "      <th></th>\n",
              "      <th></th>\n",
              "      <th></th>\n",
              "      <th></th>\n",
              "      <th></th>\n",
              "      <th></th>\n",
              "      <th></th>\n",
              "      <th></th>\n",
              "      <th></th>\n",
              "      <th></th>\n",
              "      <th></th>\n",
              "      <th></th>\n",
              "      <th></th>\n",
              "      <th></th>\n",
              "      <th></th>\n",
              "    </tr>\n",
              "  </thead>\n",
              "  <tbody>\n",
              "    <tr>\n",
              "      <th>1</th>\n",
              "      <td>0</td>\n",
              "      <td>1</td>\n",
              "      <td>0</td>\n",
              "      <td>0.24</td>\n",
              "      <td>0.81</td>\n",
              "      <td>0.0</td>\n",
              "      <td>16</td>\n",
              "      <td>Spring</td>\n",
              "      <td>Clear</td>\n",
              "      <td>Weekend</td>\n",
              "      <td>...</td>\n",
              "      <td>0.0</td>\n",
              "      <td>1.0</td>\n",
              "      <td>0.0</td>\n",
              "      <td>0.0</td>\n",
              "      <td>0.0</td>\n",
              "      <td>1.0</td>\n",
              "      <td>0.0</td>\n",
              "      <td>0.0</td>\n",
              "      <td>0.0</td>\n",
              "      <td>0.0</td>\n",
              "    </tr>\n",
              "    <tr>\n",
              "      <th>2</th>\n",
              "      <td>0</td>\n",
              "      <td>1</td>\n",
              "      <td>1</td>\n",
              "      <td>0.22</td>\n",
              "      <td>0.80</td>\n",
              "      <td>0.0</td>\n",
              "      <td>40</td>\n",
              "      <td>Spring</td>\n",
              "      <td>Clear</td>\n",
              "      <td>Weekend</td>\n",
              "      <td>...</td>\n",
              "      <td>0.0</td>\n",
              "      <td>1.0</td>\n",
              "      <td>0.0</td>\n",
              "      <td>0.0</td>\n",
              "      <td>0.0</td>\n",
              "      <td>1.0</td>\n",
              "      <td>0.0</td>\n",
              "      <td>0.0</td>\n",
              "      <td>0.0</td>\n",
              "      <td>0.0</td>\n",
              "    </tr>\n",
              "  </tbody>\n",
              "</table>\n",
              "<p>2 rows × 29 columns</p>\n",
              "</div>\n",
              "      <button class=\"colab-df-convert\" onclick=\"convertToInteractive('df-33fc2ec7-fdee-4908-aae0-fe91e6e19c12')\"\n",
              "              title=\"Convert this dataframe to an interactive table.\"\n",
              "              style=\"display:none;\">\n",
              "        \n",
              "  <svg xmlns=\"http://www.w3.org/2000/svg\" height=\"24px\"viewBox=\"0 0 24 24\"\n",
              "       width=\"24px\">\n",
              "    <path d=\"M0 0h24v24H0V0z\" fill=\"none\"/>\n",
              "    <path d=\"M18.56 5.44l.94 2.06.94-2.06 2.06-.94-2.06-.94-.94-2.06-.94 2.06-2.06.94zm-11 1L8.5 8.5l.94-2.06 2.06-.94-2.06-.94L8.5 2.5l-.94 2.06-2.06.94zm10 10l.94 2.06.94-2.06 2.06-.94-2.06-.94-.94-2.06-.94 2.06-2.06.94z\"/><path d=\"M17.41 7.96l-1.37-1.37c-.4-.4-.92-.59-1.43-.59-.52 0-1.04.2-1.43.59L10.3 9.45l-7.72 7.72c-.78.78-.78 2.05 0 2.83L4 21.41c.39.39.9.59 1.41.59.51 0 1.02-.2 1.41-.59l7.78-7.78 2.81-2.81c.8-.78.8-2.07 0-2.86zM5.41 20L4 18.59l7.72-7.72 1.47 1.35L5.41 20z\"/>\n",
              "  </svg>\n",
              "      </button>\n",
              "      \n",
              "  <style>\n",
              "    .colab-df-container {\n",
              "      display:flex;\n",
              "      flex-wrap:wrap;\n",
              "      gap: 12px;\n",
              "    }\n",
              "\n",
              "    .colab-df-convert {\n",
              "      background-color: #E8F0FE;\n",
              "      border: none;\n",
              "      border-radius: 50%;\n",
              "      cursor: pointer;\n",
              "      display: none;\n",
              "      fill: #1967D2;\n",
              "      height: 32px;\n",
              "      padding: 0 0 0 0;\n",
              "      width: 32px;\n",
              "    }\n",
              "\n",
              "    .colab-df-convert:hover {\n",
              "      background-color: #E2EBFA;\n",
              "      box-shadow: 0px 1px 2px rgba(60, 64, 67, 0.3), 0px 1px 3px 1px rgba(60, 64, 67, 0.15);\n",
              "      fill: #174EA6;\n",
              "    }\n",
              "\n",
              "    [theme=dark] .colab-df-convert {\n",
              "      background-color: #3B4455;\n",
              "      fill: #D2E3FC;\n",
              "    }\n",
              "\n",
              "    [theme=dark] .colab-df-convert:hover {\n",
              "      background-color: #434B5C;\n",
              "      box-shadow: 0px 1px 3px 1px rgba(0, 0, 0, 0.15);\n",
              "      filter: drop-shadow(0px 1px 2px rgba(0, 0, 0, 0.3));\n",
              "      fill: #FFFFFF;\n",
              "    }\n",
              "  </style>\n",
              "\n",
              "      <script>\n",
              "        const buttonEl =\n",
              "          document.querySelector('#df-33fc2ec7-fdee-4908-aae0-fe91e6e19c12 button.colab-df-convert');\n",
              "        buttonEl.style.display =\n",
              "          google.colab.kernel.accessAllowed ? 'block' : 'none';\n",
              "\n",
              "        async function convertToInteractive(key) {\n",
              "          const element = document.querySelector('#df-33fc2ec7-fdee-4908-aae0-fe91e6e19c12');\n",
              "          const dataTable =\n",
              "            await google.colab.kernel.invokeFunction('convertToInteractive',\n",
              "                                                     [key], {});\n",
              "          if (!dataTable) return;\n",
              "\n",
              "          const docLinkHtml = 'Like what you see? Visit the ' +\n",
              "            '<a target=\"_blank\" href=https://colab.research.google.com/notebooks/data_table.ipynb>data table notebook</a>'\n",
              "            + ' to learn more about interactive tables.';\n",
              "          element.innerHTML = '';\n",
              "          dataTable['output_type'] = 'display_data';\n",
              "          await google.colab.output.renderOutput(dataTable, element);\n",
              "          const docLink = document.createElement('div');\n",
              "          docLink.innerHTML = docLinkHtml;\n",
              "          element.appendChild(docLink);\n",
              "        }\n",
              "      </script>\n",
              "    </div>\n",
              "  </div>\n",
              "  "
            ]
          },
          "metadata": {},
          "execution_count": 75
        }
      ]
    },
    {
      "cell_type": "code",
      "source": [
        "df_hour.drop(['season_name','WC','day','type'],axis=1,inplace=True)"
      ],
      "metadata": {
        "id": "11qEKGNnApYY"
      },
      "id": "11qEKGNnApYY",
      "execution_count": null,
      "outputs": []
    },
    {
      "cell_type": "markdown",
      "id": "9054f72d",
      "metadata": {
        "id": "9054f72d"
      },
      "source": [
        "MULTIVARIATE REGRESSION"
      ]
    },
    {
      "cell_type": "code",
      "execution_count": null,
      "id": "991fec50",
      "metadata": {
        "id": "991fec50"
      },
      "outputs": [],
      "source": [
        "from sklearn.model_selection import train_test_split\n",
        "X=df_hour.drop('cnt',axis=1)\n",
        "y=df_hour['cnt']\n",
        "X_train,X_test,y_train,y_test=train_test_split(X,y,random_state=42)"
      ]
    },
    {
      "cell_type": "code",
      "execution_count": null,
      "id": "89c41771",
      "metadata": {
        "colab": {
          "base_uri": "https://localhost:8080/"
        },
        "id": "89c41771",
        "outputId": "b419df0e-1e9e-488e-99b5-65ff2c81cfc1"
      },
      "outputs": [
        {
          "output_type": "stream",
          "name": "stdout",
          "text": [
            "                            OLS Regression Results                            \n",
            "==============================================================================\n",
            "Dep. Variable:                    cnt   R-squared:                       0.403\n",
            "Model:                            OLS   Adj. R-squared:                  0.402\n",
            "Method:                 Least Squares   F-statistic:                     449.3\n",
            "Date:                Sun, 19 Jun 2022   Prob (F-statistic):               0.00\n",
            "Time:                        13:48:33   Log-Likelihood:                -78606.\n",
            "No. Observations:               12655   AIC:                         1.573e+05\n",
            "Df Residuals:                   12635   BIC:                         1.574e+05\n",
            "Df Model:                          19                                         \n",
            "Covariance Type:            nonrobust                                         \n",
            "======================================================================================\n",
            "                         coef    std err          t      P>|t|      [0.025      0.975]\n",
            "--------------------------------------------------------------------------------------\n",
            "yr                    55.1021      2.160     25.509      0.000      50.868      59.336\n",
            "mnth                  -0.1246      0.569     -0.219      0.827      -1.240       0.990\n",
            "hr                     7.1581      0.164     43.563      0.000       6.836       7.480\n",
            "temp                 311.0131      9.380     33.157      0.000     292.627     329.399\n",
            "hum                 -171.7064      6.927    -24.787      0.000    -185.285    -158.128\n",
            "windspeed             23.2192      9.449      2.457      0.014       4.698      41.741\n",
            "season_name_Fall     -19.1182      6.240     -3.064      0.002     -31.349      -6.887\n",
            "season_name_Spring   -10.7334      5.247     -2.046      0.041     -21.018      -0.448\n",
            "season_name_Summer     6.8610      5.466      1.255      0.209      -3.854      17.576\n",
            "season_name_Winter    43.3300      6.127      7.072      0.000      31.320      55.340\n",
            "WC_Clear              -3.4337     13.186     -0.260      0.795     -29.279      22.412\n",
            "WC_Heavy Rain         40.4406     56.841      0.711      0.477     -70.976     151.857\n",
            "WC_Light Snow        -24.6408     13.629     -1.808      0.071     -51.356       2.075\n",
            "WC_Mist                7.9733     13.290      0.600      0.549     -18.078      34.024\n",
            "day_Holiday           -2.7897      8.334     -0.335      0.738     -19.125      13.545\n",
            "day_Weekend           12.7869      6.461      1.979      0.048       0.123      25.451\n",
            "day_Work              10.3421      7.047      1.468      0.142      -3.471      24.155\n",
            "type_Friday            9.3571      3.791      2.468      0.014       1.926      16.788\n",
            "type_Monday           -2.6958      3.719     -0.725      0.469      -9.986       4.595\n",
            "type_Saturday          9.6274      3.761      2.560      0.010       2.256      16.999\n",
            "type_Sunday            3.1595      3.837      0.823      0.410      -4.361      10.680\n",
            "type_Thursday         -0.7489      3.794     -0.197      0.844      -8.187       6.689\n",
            "type_Tuesday           1.8842      3.849      0.490      0.624      -5.660       9.429\n",
            "type_Wednesday        -0.2441      3.840     -0.064      0.949      -7.772       7.284\n",
            "==============================================================================\n",
            "Omnibus:                     1842.791   Durbin-Watson:                   1.978\n",
            "Prob(Omnibus):                  0.000   Jarque-Bera (JB):             2883.740\n",
            "Skew:                           1.023   Prob(JB):                         0.00\n",
            "Kurtosis:                       4.133   Cond. No.                     1.64e+17\n",
            "==============================================================================\n",
            "\n",
            "Warnings:\n",
            "[1] Standard Errors assume that the covariance matrix of the errors is correctly specified.\n",
            "[2] The smallest eigenvalue is 1.02e-28. This might indicate that there are\n",
            "strong multicollinearity problems or that the design matrix is singular.\n"
          ]
        }
      ],
      "source": [
        "#X2 = sm.add_constant(X_train)\n",
        "est = sm.OLS(y_train, X_train)\n",
        "est2 = est.fit()\n",
        "print(est2.summary())"
      ]
    },
    {
      "cell_type": "markdown",
      "id": "d2ec44a0",
      "metadata": {
        "id": "d2ec44a0"
      },
      "source": [
        "From the above regression, we can see that many features have insignificant p values and hence those variables are not affecting the prediction of our dependent variable cnt. Hence, they should be dropped."
      ]
    },
    {
      "cell_type": "code",
      "execution_count": null,
      "id": "ec0dcb1e",
      "metadata": {
        "colab": {
          "base_uri": "https://localhost:8080/"
        },
        "id": "ec0dcb1e",
        "outputId": "3fd7deb6-dcc6-44cd-922d-a53df28185dd"
      },
      "outputs": [
        {
          "output_type": "stream",
          "name": "stdout",
          "text": [
            "116.91140179649295\n"
          ]
        }
      ],
      "source": [
        "y_pred=est2.predict(X_test)\n",
        "\n",
        "\n",
        "rmse_test = mean_squared_error(y_test, y_pred, squared=False)\n",
        "\n",
        "print(rmse_test)"
      ]
    },
    {
      "cell_type": "code",
      "execution_count": null,
      "id": "cea9e3d7",
      "metadata": {
        "colab": {
          "base_uri": "https://localhost:8080/"
        },
        "id": "cea9e3d7",
        "outputId": "08ae67b5-31e1-408f-e1cf-9f50addb7544"
      },
      "outputs": [
        {
          "output_type": "execute_result",
          "data": {
            "text/plain": [
              "Index(['yr', 'mnth', 'hr', 'temp', 'hum', 'windspeed', 'cnt',\n",
              "       'season_name_Fall', 'season_name_Spring', 'season_name_Summer',\n",
              "       'season_name_Winter', 'WC_Clear', 'WC_Heavy Rain', 'WC_Light Snow',\n",
              "       'WC_Mist', 'day_Holiday', 'day_Weekend', 'day_Work', 'type_Friday',\n",
              "       'type_Monday', 'type_Saturday', 'type_Sunday', 'type_Thursday',\n",
              "       'type_Tuesday', 'type_Wednesday'],\n",
              "      dtype='object')"
            ]
          },
          "metadata": {},
          "execution_count": 80
        }
      ],
      "source": [
        "df_hour.columns"
      ]
    },
    {
      "cell_type": "code",
      "execution_count": null,
      "id": "f73f6506",
      "metadata": {
        "id": "f73f6506"
      },
      "outputs": [],
      "source": [
        "df_hour.drop(['WC_Clear', 'WC_Heavy Rain', 'WC_Light Snow',\n",
        "       'WC_Mist', 'day_Holiday', 'day_Weekend', 'day_Work', 'type_Friday',\n",
        "       'type_Monday', 'type_Saturday', 'type_Sunday', 'type_Thursday',\n",
        "       'type_Tuesday', 'type_Wednesday','mnth','season_name_Summer'],axis=1,inplace=True)"
      ]
    },
    {
      "cell_type": "code",
      "execution_count": null,
      "id": "7a634600",
      "metadata": {
        "id": "7a634600"
      },
      "outputs": [],
      "source": [
        "X=df_hour.drop('cnt',axis=1)\n",
        "y=df_hour['cnt']\n",
        "X_train,X_test,y_train,y_test=train_test_split(X,y,random_state=42)"
      ]
    },
    {
      "cell_type": "code",
      "execution_count": null,
      "id": "68d2114f",
      "metadata": {
        "colab": {
          "base_uri": "https://localhost:8080/"
        },
        "id": "68d2114f",
        "outputId": "297d5bc2-d85e-470c-ffc1-cc2a9cfb2b60"
      },
      "outputs": [
        {
          "output_type": "stream",
          "name": "stdout",
          "text": [
            "                                 OLS Regression Results                                \n",
            "=======================================================================================\n",
            "Dep. Variable:                    cnt   R-squared (uncentered):                   0.730\n",
            "Model:                            OLS   Adj. R-squared (uncentered):              0.730\n",
            "Method:                 Least Squares   F-statistic:                              4283.\n",
            "Date:                Sun, 19 Jun 2022   Prob (F-statistic):                        0.00\n",
            "Time:                        13:48:57   Log-Likelihood:                         -78657.\n",
            "No. Observations:               12655   AIC:                                  1.573e+05\n",
            "Df Residuals:                   12647   BIC:                                  1.574e+05\n",
            "Df Model:                           8                                                  \n",
            "Covariance Type:            nonrobust                                                  \n",
            "======================================================================================\n",
            "                         coef    std err          t      P>|t|      [0.025      0.975]\n",
            "--------------------------------------------------------------------------------------\n",
            "yr                    56.3209      2.141     26.311      0.000      52.125      60.517\n",
            "hr                     7.1836      0.160     44.964      0.000       6.870       7.497\n",
            "temp                 329.6693      7.087     46.515      0.000     315.777     343.562\n",
            "hum                 -165.3888      4.403    -37.562      0.000    -174.020    -156.758\n",
            "windspeed             25.5062      8.759      2.912      0.004       8.338      42.675\n",
            "season_name_Fall     -27.2998      3.394     -8.043      0.000     -33.953     -20.647\n",
            "season_name_Spring   -10.1413      3.134     -3.236      0.001     -16.284      -3.999\n",
            "season_name_Winter    40.1438      3.019     13.298      0.000      34.226      46.061\n",
            "==============================================================================\n",
            "Omnibus:                     1780.296   Durbin-Watson:                   1.980\n",
            "Prob(Omnibus):                  0.000   Jarque-Bera (JB):             2739.502\n",
            "Skew:                           1.003   Prob(JB):                         0.00\n",
            "Kurtosis:                       4.082   Cond. No.                         120.\n",
            "==============================================================================\n",
            "\n",
            "Warnings:\n",
            "[1] Standard Errors assume that the covariance matrix of the errors is correctly specified.\n"
          ]
        }
      ],
      "source": [
        "#X2 = sm.add_constant(X_train)\n",
        "est = sm.OLS(y_train, X_train)\n",
        "est2 = est.fit()\n",
        "print(est2.summary())"
      ]
    },
    {
      "cell_type": "markdown",
      "id": "d3e603cc",
      "metadata": {
        "id": "d3e603cc"
      },
      "source": [
        "Coeffiecient of Determination is quite high in this case and we will keep this regression as our predicting model. All the features are significant as well. "
      ]
    },
    {
      "cell_type": "code",
      "execution_count": null,
      "id": "cba96e21",
      "metadata": {
        "colab": {
          "base_uri": "https://localhost:8080/"
        },
        "id": "cba96e21",
        "outputId": "4b79d7fc-f595-4cf3-fdea-2c7af172da5f"
      },
      "outputs": [
        {
          "output_type": "stream",
          "name": "stdout",
          "text": [
            "117.36114926360447\n"
          ]
        }
      ],
      "source": [
        "y_pred=est2.predict(X_test)\n",
        "\n",
        "\n",
        "rmse_test = mean_squared_error(y_test, y_pred, squared=False)\n",
        "\n",
        "print(rmse_test)"
      ]
    },
    {
      "cell_type": "markdown",
      "id": "9c5baba2",
      "metadata": {
        "id": "9c5baba2"
      },
      "source": [
        "RMSE value is slightly higher than the previous model, still this model would be better since we have all significant predictors with high R2 value."
      ]
    },
    {
      "cell_type": "markdown",
      "source": [
        "# CONCLUSION:\n",
        "\n"
      ],
      "metadata": {
        "id": "BrmsF_IxB8Dq"
      },
      "id": "BrmsF_IxB8Dq"
    },
    {
      "cell_type": "markdown",
      "source": [
        "This model would help any rental business to get an estimate of the number of bikes that would be rented based on the features like year, hour, temperature, season,etc. They would understand the hourly demand of bikes in a day and grow their business accordingly. \n",
        "\n",
        "The model used here is Multivariate Linear Regression which is able to predict the number of bikes that could be rented in an hourly basis."
      ],
      "metadata": {
        "id": "8zB0LvOzCuM2"
      },
      "id": "8zB0LvOzCuM2"
    },
    {
      "cell_type": "code",
      "source": [
        ""
      ],
      "metadata": {
        "id": "RThMokR9CkOG"
      },
      "id": "RThMokR9CkOG",
      "execution_count": null,
      "outputs": []
    }
  ],
  "metadata": {
    "kernelspec": {
      "display_name": "Python 3",
      "language": "python",
      "name": "python3"
    },
    "language_info": {
      "codemirror_mode": {
        "name": "ipython",
        "version": 3
      },
      "file_extension": ".py",
      "mimetype": "text/x-python",
      "name": "python",
      "nbconvert_exporter": "python",
      "pygments_lexer": "ipython3",
      "version": "3.8.8"
    },
    "colab": {
      "name": "Bike Rental Data Analysis.ipynb",
      "provenance": [],
      "collapsed_sections": []
    }
  },
  "nbformat": 4,
  "nbformat_minor": 5
}