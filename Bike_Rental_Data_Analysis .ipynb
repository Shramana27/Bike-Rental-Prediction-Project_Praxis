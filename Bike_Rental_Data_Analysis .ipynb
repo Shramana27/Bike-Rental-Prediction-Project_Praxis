{
  "cells": [
    {
      "cell_type": "markdown",
      "source": [
        "# OBJECTIVE:"
      ],
      "metadata": {
        "id": "AJkTXnKlBeNy"
      },
      "id": "AJkTXnKlBeNy"
    },
    {
      "cell_type": "markdown",
      "source": [
        "The dataset has been taken from Kaggle and there are 17379 rows and 16 columns.\n",
        "\n",
        "The goal is to predict the count of the bikes rented with the help of the attributes such as temperature, windspeed, humidity, etc.\n",
        "\n",
        "The dataset is of Laboratory of Artificial Intelligence and Decision Support (LIAAD), University of Porto, Portugal. \n",
        "\n",
        "Bike sharing systems are new generation of traditional bike rentals where whole process from membership, rental and return \n",
        "back has become automatic.\n",
        "\n",
        "Currently, there are about over 500 bike-sharing programs around the world which is composed of \n",
        "over 500 thousands bicycles. \n",
        "\n",
        "There exists great interest in these systems due to their important role in traffic, environmental and health issues. All the data are recorded regarding this bike rental service and thus this feature turns bike sharing system into a virtual sensor network that can be used for sensing mobility in the city. Hence, it is expected that most of important\n",
        "events in the city could be detected via monitoring these data."
      ],
      "metadata": {
        "id": "aMiZF2lmBhTx"
      },
      "id": "aMiZF2lmBhTx"
    },
    {
      "cell_type": "markdown",
      "source": [
        "Steps used:\n",
        "1. Missing Value Detection, Outlier Removal\n",
        "\n",
        "2. EDA\n",
        "\n",
        "3. Correlation heatmap\n",
        "\n",
        "4. Feature Engineering, One-hot encoding and multivariate regression\n"
      ],
      "metadata": {
        "id": "3VC-e7cYehCx"
      },
      "id": "3VC-e7cYehCx"
    },
    {
      "cell_type": "code",
      "source": [
        "#importing google colab drive\n",
        "from google.colab import drive\n",
        "drive.mount('/content/drive')"
      ],
      "metadata": {
        "colab": {
          "base_uri": "https://localhost:8080/"
        },
        "id": "Ijux4KPgt_of",
        "outputId": "e1b7aa00-2127-4375-8ed4-e95bc3e902a0"
      },
      "id": "Ijux4KPgt_of",
      "execution_count": null,
      "outputs": [
        {
          "output_type": "stream",
          "name": "stdout",
          "text": [
            "Drive already mounted at /content/drive; to attempt to forcibly remount, call drive.mount(\"/content/drive\", force_remount=True).\n"
          ]
        }
      ]
    },
    {
      "cell_type": "code",
      "execution_count": null,
      "id": "c10a994f",
      "metadata": {
        "id": "c10a994f"
      },
      "outputs": [],
      "source": [
        "# importing all libraries\n",
        "\n",
        "import pandas as pd\n",
        "import matplotlib.pyplot as plt\n",
        "import seaborn as sns\n",
        "from scipy import stats\n",
        "from sklearn.linear_model import LinearRegression\n",
        "import numpy as np\n",
        "import statsmodels.api as sm\n",
        "from statsmodels.stats.proportion import proportions_ztest\n",
        "import scipy.stats as stats\n",
        "from sklearn.metrics import mean_squared_error\n",
        "from sklearn.tree import DecisionTreeRegressor\n",
        "from sklearn.ensemble import RandomForestRegressor\n",
        "\n",
        "from sklearn.model_selection import RandomizedSearchCV"
      ]
    },
    {
      "cell_type": "code",
      "source": [
        "#data is stored in df_hour\n",
        "df_hour=pd.read_csv(\"/content/drive/MyDrive/hour.csv\",parse_dates=['dteday'])\n",
        "df_hour.set_index('instant',inplace=True)"
      ],
      "metadata": {
        "id": "PnX65FyWvDNf"
      },
      "id": "PnX65FyWvDNf",
      "execution_count": null,
      "outputs": []
    },
    {
      "cell_type": "code",
      "execution_count": null,
      "id": "910f1700",
      "metadata": {
        "colab": {
          "base_uri": "https://localhost:8080/",
          "height": 237
        },
        "id": "910f1700",
        "outputId": "80017f5d-b760-4a4a-9d53-59ed4e8ad257"
      },
      "outputs": [
        {
          "output_type": "execute_result",
          "data": {
            "text/plain": [
              "            dteday  season  yr  mnth  hr  holiday  weekday  workingday  \\\n",
              "instant                                                                  \n",
              "1       2011-01-01       1   0     1   0        0        6           0   \n",
              "2       2011-01-01       1   0     1   1        0        6           0   \n",
              "3       2011-01-01       1   0     1   2        0        6           0   \n",
              "4       2011-01-01       1   0     1   3        0        6           0   \n",
              "5       2011-01-01       1   0     1   4        0        6           0   \n",
              "\n",
              "         weathersit  temp   atemp   hum  windspeed  casual  registered  cnt  \n",
              "instant                                                                      \n",
              "1                 1  0.24  0.2879  0.81        0.0       3          13   16  \n",
              "2                 1  0.22  0.2727  0.80        0.0       8          32   40  \n",
              "3                 1  0.22  0.2727  0.80        0.0       5          27   32  \n",
              "4                 1  0.24  0.2879  0.75        0.0       3          10   13  \n",
              "5                 1  0.24  0.2879  0.75        0.0       0           1    1  "
            ],
            "text/html": [
              "\n",
              "  <div id=\"df-9ce7415e-da83-4b85-9c7a-c7badd853077\">\n",
              "    <div class=\"colab-df-container\">\n",
              "      <div>\n",
              "<style scoped>\n",
              "    .dataframe tbody tr th:only-of-type {\n",
              "        vertical-align: middle;\n",
              "    }\n",
              "\n",
              "    .dataframe tbody tr th {\n",
              "        vertical-align: top;\n",
              "    }\n",
              "\n",
              "    .dataframe thead th {\n",
              "        text-align: right;\n",
              "    }\n",
              "</style>\n",
              "<table border=\"1\" class=\"dataframe\">\n",
              "  <thead>\n",
              "    <tr style=\"text-align: right;\">\n",
              "      <th></th>\n",
              "      <th>dteday</th>\n",
              "      <th>season</th>\n",
              "      <th>yr</th>\n",
              "      <th>mnth</th>\n",
              "      <th>hr</th>\n",
              "      <th>holiday</th>\n",
              "      <th>weekday</th>\n",
              "      <th>workingday</th>\n",
              "      <th>weathersit</th>\n",
              "      <th>temp</th>\n",
              "      <th>atemp</th>\n",
              "      <th>hum</th>\n",
              "      <th>windspeed</th>\n",
              "      <th>casual</th>\n",
              "      <th>registered</th>\n",
              "      <th>cnt</th>\n",
              "    </tr>\n",
              "    <tr>\n",
              "      <th>instant</th>\n",
              "      <th></th>\n",
              "      <th></th>\n",
              "      <th></th>\n",
              "      <th></th>\n",
              "      <th></th>\n",
              "      <th></th>\n",
              "      <th></th>\n",
              "      <th></th>\n",
              "      <th></th>\n",
              "      <th></th>\n",
              "      <th></th>\n",
              "      <th></th>\n",
              "      <th></th>\n",
              "      <th></th>\n",
              "      <th></th>\n",
              "      <th></th>\n",
              "    </tr>\n",
              "  </thead>\n",
              "  <tbody>\n",
              "    <tr>\n",
              "      <th>1</th>\n",
              "      <td>2011-01-01</td>\n",
              "      <td>1</td>\n",
              "      <td>0</td>\n",
              "      <td>1</td>\n",
              "      <td>0</td>\n",
              "      <td>0</td>\n",
              "      <td>6</td>\n",
              "      <td>0</td>\n",
              "      <td>1</td>\n",
              "      <td>0.24</td>\n",
              "      <td>0.2879</td>\n",
              "      <td>0.81</td>\n",
              "      <td>0.0</td>\n",
              "      <td>3</td>\n",
              "      <td>13</td>\n",
              "      <td>16</td>\n",
              "    </tr>\n",
              "    <tr>\n",
              "      <th>2</th>\n",
              "      <td>2011-01-01</td>\n",
              "      <td>1</td>\n",
              "      <td>0</td>\n",
              "      <td>1</td>\n",
              "      <td>1</td>\n",
              "      <td>0</td>\n",
              "      <td>6</td>\n",
              "      <td>0</td>\n",
              "      <td>1</td>\n",
              "      <td>0.22</td>\n",
              "      <td>0.2727</td>\n",
              "      <td>0.80</td>\n",
              "      <td>0.0</td>\n",
              "      <td>8</td>\n",
              "      <td>32</td>\n",
              "      <td>40</td>\n",
              "    </tr>\n",
              "    <tr>\n",
              "      <th>3</th>\n",
              "      <td>2011-01-01</td>\n",
              "      <td>1</td>\n",
              "      <td>0</td>\n",
              "      <td>1</td>\n",
              "      <td>2</td>\n",
              "      <td>0</td>\n",
              "      <td>6</td>\n",
              "      <td>0</td>\n",
              "      <td>1</td>\n",
              "      <td>0.22</td>\n",
              "      <td>0.2727</td>\n",
              "      <td>0.80</td>\n",
              "      <td>0.0</td>\n",
              "      <td>5</td>\n",
              "      <td>27</td>\n",
              "      <td>32</td>\n",
              "    </tr>\n",
              "    <tr>\n",
              "      <th>4</th>\n",
              "      <td>2011-01-01</td>\n",
              "      <td>1</td>\n",
              "      <td>0</td>\n",
              "      <td>1</td>\n",
              "      <td>3</td>\n",
              "      <td>0</td>\n",
              "      <td>6</td>\n",
              "      <td>0</td>\n",
              "      <td>1</td>\n",
              "      <td>0.24</td>\n",
              "      <td>0.2879</td>\n",
              "      <td>0.75</td>\n",
              "      <td>0.0</td>\n",
              "      <td>3</td>\n",
              "      <td>10</td>\n",
              "      <td>13</td>\n",
              "    </tr>\n",
              "    <tr>\n",
              "      <th>5</th>\n",
              "      <td>2011-01-01</td>\n",
              "      <td>1</td>\n",
              "      <td>0</td>\n",
              "      <td>1</td>\n",
              "      <td>4</td>\n",
              "      <td>0</td>\n",
              "      <td>6</td>\n",
              "      <td>0</td>\n",
              "      <td>1</td>\n",
              "      <td>0.24</td>\n",
              "      <td>0.2879</td>\n",
              "      <td>0.75</td>\n",
              "      <td>0.0</td>\n",
              "      <td>0</td>\n",
              "      <td>1</td>\n",
              "      <td>1</td>\n",
              "    </tr>\n",
              "  </tbody>\n",
              "</table>\n",
              "</div>\n",
              "      <button class=\"colab-df-convert\" onclick=\"convertToInteractive('df-9ce7415e-da83-4b85-9c7a-c7badd853077')\"\n",
              "              title=\"Convert this dataframe to an interactive table.\"\n",
              "              style=\"display:none;\">\n",
              "        \n",
              "  <svg xmlns=\"http://www.w3.org/2000/svg\" height=\"24px\"viewBox=\"0 0 24 24\"\n",
              "       width=\"24px\">\n",
              "    <path d=\"M0 0h24v24H0V0z\" fill=\"none\"/>\n",
              "    <path d=\"M18.56 5.44l.94 2.06.94-2.06 2.06-.94-2.06-.94-.94-2.06-.94 2.06-2.06.94zm-11 1L8.5 8.5l.94-2.06 2.06-.94-2.06-.94L8.5 2.5l-.94 2.06-2.06.94zm10 10l.94 2.06.94-2.06 2.06-.94-2.06-.94-.94-2.06-.94 2.06-2.06.94z\"/><path d=\"M17.41 7.96l-1.37-1.37c-.4-.4-.92-.59-1.43-.59-.52 0-1.04.2-1.43.59L10.3 9.45l-7.72 7.72c-.78.78-.78 2.05 0 2.83L4 21.41c.39.39.9.59 1.41.59.51 0 1.02-.2 1.41-.59l7.78-7.78 2.81-2.81c.8-.78.8-2.07 0-2.86zM5.41 20L4 18.59l7.72-7.72 1.47 1.35L5.41 20z\"/>\n",
              "  </svg>\n",
              "      </button>\n",
              "      \n",
              "  <style>\n",
              "    .colab-df-container {\n",
              "      display:flex;\n",
              "      flex-wrap:wrap;\n",
              "      gap: 12px;\n",
              "    }\n",
              "\n",
              "    .colab-df-convert {\n",
              "      background-color: #E8F0FE;\n",
              "      border: none;\n",
              "      border-radius: 50%;\n",
              "      cursor: pointer;\n",
              "      display: none;\n",
              "      fill: #1967D2;\n",
              "      height: 32px;\n",
              "      padding: 0 0 0 0;\n",
              "      width: 32px;\n",
              "    }\n",
              "\n",
              "    .colab-df-convert:hover {\n",
              "      background-color: #E2EBFA;\n",
              "      box-shadow: 0px 1px 2px rgba(60, 64, 67, 0.3), 0px 1px 3px 1px rgba(60, 64, 67, 0.15);\n",
              "      fill: #174EA6;\n",
              "    }\n",
              "\n",
              "    [theme=dark] .colab-df-convert {\n",
              "      background-color: #3B4455;\n",
              "      fill: #D2E3FC;\n",
              "    }\n",
              "\n",
              "    [theme=dark] .colab-df-convert:hover {\n",
              "      background-color: #434B5C;\n",
              "      box-shadow: 0px 1px 3px 1px rgba(0, 0, 0, 0.15);\n",
              "      filter: drop-shadow(0px 1px 2px rgba(0, 0, 0, 0.3));\n",
              "      fill: #FFFFFF;\n",
              "    }\n",
              "  </style>\n",
              "\n",
              "      <script>\n",
              "        const buttonEl =\n",
              "          document.querySelector('#df-9ce7415e-da83-4b85-9c7a-c7badd853077 button.colab-df-convert');\n",
              "        buttonEl.style.display =\n",
              "          google.colab.kernel.accessAllowed ? 'block' : 'none';\n",
              "\n",
              "        async function convertToInteractive(key) {\n",
              "          const element = document.querySelector('#df-9ce7415e-da83-4b85-9c7a-c7badd853077');\n",
              "          const dataTable =\n",
              "            await google.colab.kernel.invokeFunction('convertToInteractive',\n",
              "                                                     [key], {});\n",
              "          if (!dataTable) return;\n",
              "\n",
              "          const docLinkHtml = 'Like what you see? Visit the ' +\n",
              "            '<a target=\"_blank\" href=https://colab.research.google.com/notebooks/data_table.ipynb>data table notebook</a>'\n",
              "            + ' to learn more about interactive tables.';\n",
              "          element.innerHTML = '';\n",
              "          dataTable['output_type'] = 'display_data';\n",
              "          await google.colab.output.renderOutput(dataTable, element);\n",
              "          const docLink = document.createElement('div');\n",
              "          docLink.innerHTML = docLinkHtml;\n",
              "          element.appendChild(docLink);\n",
              "        }\n",
              "      </script>\n",
              "    </div>\n",
              "  </div>\n",
              "  "
            ]
          },
          "metadata": {},
          "execution_count": 236
        }
      ],
      "source": [
        "#\".head()\" method will show the first 5 rows of the dataframe\n",
        "df_hour.head()"
      ]
    },
    {
      "cell_type": "code",
      "execution_count": null,
      "id": "fe072d4e",
      "metadata": {
        "colab": {
          "base_uri": "https://localhost:8080/",
          "height": 364
        },
        "id": "fe072d4e",
        "outputId": "6e240487-0830-4ba7-c1f1-d1ad855bdfa0"
      },
      "outputs": [
        {
          "output_type": "execute_result",
          "data": {
            "text/plain": [
              "             season            yr          mnth            hr       holiday  \\\n",
              "count  17379.000000  17379.000000  17379.000000  17379.000000  17379.000000   \n",
              "mean       2.501640      0.502561      6.537775     11.546752      0.028770   \n",
              "std        1.106918      0.500008      3.438776      6.914405      0.167165   \n",
              "min        1.000000      0.000000      1.000000      0.000000      0.000000   \n",
              "25%        2.000000      0.000000      4.000000      6.000000      0.000000   \n",
              "50%        3.000000      1.000000      7.000000     12.000000      0.000000   \n",
              "75%        3.000000      1.000000     10.000000     18.000000      0.000000   \n",
              "max        4.000000      1.000000     12.000000     23.000000      1.000000   \n",
              "\n",
              "            weekday    workingday    weathersit          temp         atemp  \\\n",
              "count  17379.000000  17379.000000  17379.000000  17379.000000  17379.000000   \n",
              "mean       3.003683      0.682721      1.425283      0.496987      0.475775   \n",
              "std        2.005771      0.465431      0.639357      0.192556      0.171850   \n",
              "min        0.000000      0.000000      1.000000      0.020000      0.000000   \n",
              "25%        1.000000      0.000000      1.000000      0.340000      0.333300   \n",
              "50%        3.000000      1.000000      1.000000      0.500000      0.484800   \n",
              "75%        5.000000      1.000000      2.000000      0.660000      0.621200   \n",
              "max        6.000000      1.000000      4.000000      1.000000      1.000000   \n",
              "\n",
              "                hum     windspeed        casual    registered           cnt  \n",
              "count  17379.000000  17379.000000  17379.000000  17379.000000  17379.000000  \n",
              "mean       0.627229      0.190098     35.676218    153.786869    189.463088  \n",
              "std        0.192930      0.122340     49.305030    151.357286    181.387599  \n",
              "min        0.000000      0.000000      0.000000      0.000000      1.000000  \n",
              "25%        0.480000      0.104500      4.000000     34.000000     40.000000  \n",
              "50%        0.630000      0.194000     17.000000    115.000000    142.000000  \n",
              "75%        0.780000      0.253700     48.000000    220.000000    281.000000  \n",
              "max        1.000000      0.850700    367.000000    886.000000    977.000000  "
            ],
            "text/html": [
              "\n",
              "  <div id=\"df-63fc3406-5a6e-4e7b-a34f-1b4c8620f7aa\">\n",
              "    <div class=\"colab-df-container\">\n",
              "      <div>\n",
              "<style scoped>\n",
              "    .dataframe tbody tr th:only-of-type {\n",
              "        vertical-align: middle;\n",
              "    }\n",
              "\n",
              "    .dataframe tbody tr th {\n",
              "        vertical-align: top;\n",
              "    }\n",
              "\n",
              "    .dataframe thead th {\n",
              "        text-align: right;\n",
              "    }\n",
              "</style>\n",
              "<table border=\"1\" class=\"dataframe\">\n",
              "  <thead>\n",
              "    <tr style=\"text-align: right;\">\n",
              "      <th></th>\n",
              "      <th>season</th>\n",
              "      <th>yr</th>\n",
              "      <th>mnth</th>\n",
              "      <th>hr</th>\n",
              "      <th>holiday</th>\n",
              "      <th>weekday</th>\n",
              "      <th>workingday</th>\n",
              "      <th>weathersit</th>\n",
              "      <th>temp</th>\n",
              "      <th>atemp</th>\n",
              "      <th>hum</th>\n",
              "      <th>windspeed</th>\n",
              "      <th>casual</th>\n",
              "      <th>registered</th>\n",
              "      <th>cnt</th>\n",
              "    </tr>\n",
              "  </thead>\n",
              "  <tbody>\n",
              "    <tr>\n",
              "      <th>count</th>\n",
              "      <td>17379.000000</td>\n",
              "      <td>17379.000000</td>\n",
              "      <td>17379.000000</td>\n",
              "      <td>17379.000000</td>\n",
              "      <td>17379.000000</td>\n",
              "      <td>17379.000000</td>\n",
              "      <td>17379.000000</td>\n",
              "      <td>17379.000000</td>\n",
              "      <td>17379.000000</td>\n",
              "      <td>17379.000000</td>\n",
              "      <td>17379.000000</td>\n",
              "      <td>17379.000000</td>\n",
              "      <td>17379.000000</td>\n",
              "      <td>17379.000000</td>\n",
              "      <td>17379.000000</td>\n",
              "    </tr>\n",
              "    <tr>\n",
              "      <th>mean</th>\n",
              "      <td>2.501640</td>\n",
              "      <td>0.502561</td>\n",
              "      <td>6.537775</td>\n",
              "      <td>11.546752</td>\n",
              "      <td>0.028770</td>\n",
              "      <td>3.003683</td>\n",
              "      <td>0.682721</td>\n",
              "      <td>1.425283</td>\n",
              "      <td>0.496987</td>\n",
              "      <td>0.475775</td>\n",
              "      <td>0.627229</td>\n",
              "      <td>0.190098</td>\n",
              "      <td>35.676218</td>\n",
              "      <td>153.786869</td>\n",
              "      <td>189.463088</td>\n",
              "    </tr>\n",
              "    <tr>\n",
              "      <th>std</th>\n",
              "      <td>1.106918</td>\n",
              "      <td>0.500008</td>\n",
              "      <td>3.438776</td>\n",
              "      <td>6.914405</td>\n",
              "      <td>0.167165</td>\n",
              "      <td>2.005771</td>\n",
              "      <td>0.465431</td>\n",
              "      <td>0.639357</td>\n",
              "      <td>0.192556</td>\n",
              "      <td>0.171850</td>\n",
              "      <td>0.192930</td>\n",
              "      <td>0.122340</td>\n",
              "      <td>49.305030</td>\n",
              "      <td>151.357286</td>\n",
              "      <td>181.387599</td>\n",
              "    </tr>\n",
              "    <tr>\n",
              "      <th>min</th>\n",
              "      <td>1.000000</td>\n",
              "      <td>0.000000</td>\n",
              "      <td>1.000000</td>\n",
              "      <td>0.000000</td>\n",
              "      <td>0.000000</td>\n",
              "      <td>0.000000</td>\n",
              "      <td>0.000000</td>\n",
              "      <td>1.000000</td>\n",
              "      <td>0.020000</td>\n",
              "      <td>0.000000</td>\n",
              "      <td>0.000000</td>\n",
              "      <td>0.000000</td>\n",
              "      <td>0.000000</td>\n",
              "      <td>0.000000</td>\n",
              "      <td>1.000000</td>\n",
              "    </tr>\n",
              "    <tr>\n",
              "      <th>25%</th>\n",
              "      <td>2.000000</td>\n",
              "      <td>0.000000</td>\n",
              "      <td>4.000000</td>\n",
              "      <td>6.000000</td>\n",
              "      <td>0.000000</td>\n",
              "      <td>1.000000</td>\n",
              "      <td>0.000000</td>\n",
              "      <td>1.000000</td>\n",
              "      <td>0.340000</td>\n",
              "      <td>0.333300</td>\n",
              "      <td>0.480000</td>\n",
              "      <td>0.104500</td>\n",
              "      <td>4.000000</td>\n",
              "      <td>34.000000</td>\n",
              "      <td>40.000000</td>\n",
              "    </tr>\n",
              "    <tr>\n",
              "      <th>50%</th>\n",
              "      <td>3.000000</td>\n",
              "      <td>1.000000</td>\n",
              "      <td>7.000000</td>\n",
              "      <td>12.000000</td>\n",
              "      <td>0.000000</td>\n",
              "      <td>3.000000</td>\n",
              "      <td>1.000000</td>\n",
              "      <td>1.000000</td>\n",
              "      <td>0.500000</td>\n",
              "      <td>0.484800</td>\n",
              "      <td>0.630000</td>\n",
              "      <td>0.194000</td>\n",
              "      <td>17.000000</td>\n",
              "      <td>115.000000</td>\n",
              "      <td>142.000000</td>\n",
              "    </tr>\n",
              "    <tr>\n",
              "      <th>75%</th>\n",
              "      <td>3.000000</td>\n",
              "      <td>1.000000</td>\n",
              "      <td>10.000000</td>\n",
              "      <td>18.000000</td>\n",
              "      <td>0.000000</td>\n",
              "      <td>5.000000</td>\n",
              "      <td>1.000000</td>\n",
              "      <td>2.000000</td>\n",
              "      <td>0.660000</td>\n",
              "      <td>0.621200</td>\n",
              "      <td>0.780000</td>\n",
              "      <td>0.253700</td>\n",
              "      <td>48.000000</td>\n",
              "      <td>220.000000</td>\n",
              "      <td>281.000000</td>\n",
              "    </tr>\n",
              "    <tr>\n",
              "      <th>max</th>\n",
              "      <td>4.000000</td>\n",
              "      <td>1.000000</td>\n",
              "      <td>12.000000</td>\n",
              "      <td>23.000000</td>\n",
              "      <td>1.000000</td>\n",
              "      <td>6.000000</td>\n",
              "      <td>1.000000</td>\n",
              "      <td>4.000000</td>\n",
              "      <td>1.000000</td>\n",
              "      <td>1.000000</td>\n",
              "      <td>1.000000</td>\n",
              "      <td>0.850700</td>\n",
              "      <td>367.000000</td>\n",
              "      <td>886.000000</td>\n",
              "      <td>977.000000</td>\n",
              "    </tr>\n",
              "  </tbody>\n",
              "</table>\n",
              "</div>\n",
              "      <button class=\"colab-df-convert\" onclick=\"convertToInteractive('df-63fc3406-5a6e-4e7b-a34f-1b4c8620f7aa')\"\n",
              "              title=\"Convert this dataframe to an interactive table.\"\n",
              "              style=\"display:none;\">\n",
              "        \n",
              "  <svg xmlns=\"http://www.w3.org/2000/svg\" height=\"24px\"viewBox=\"0 0 24 24\"\n",
              "       width=\"24px\">\n",
              "    <path d=\"M0 0h24v24H0V0z\" fill=\"none\"/>\n",
              "    <path d=\"M18.56 5.44l.94 2.06.94-2.06 2.06-.94-2.06-.94-.94-2.06-.94 2.06-2.06.94zm-11 1L8.5 8.5l.94-2.06 2.06-.94-2.06-.94L8.5 2.5l-.94 2.06-2.06.94zm10 10l.94 2.06.94-2.06 2.06-.94-2.06-.94-.94-2.06-.94 2.06-2.06.94z\"/><path d=\"M17.41 7.96l-1.37-1.37c-.4-.4-.92-.59-1.43-.59-.52 0-1.04.2-1.43.59L10.3 9.45l-7.72 7.72c-.78.78-.78 2.05 0 2.83L4 21.41c.39.39.9.59 1.41.59.51 0 1.02-.2 1.41-.59l7.78-7.78 2.81-2.81c.8-.78.8-2.07 0-2.86zM5.41 20L4 18.59l7.72-7.72 1.47 1.35L5.41 20z\"/>\n",
              "  </svg>\n",
              "      </button>\n",
              "      \n",
              "  <style>\n",
              "    .colab-df-container {\n",
              "      display:flex;\n",
              "      flex-wrap:wrap;\n",
              "      gap: 12px;\n",
              "    }\n",
              "\n",
              "    .colab-df-convert {\n",
              "      background-color: #E8F0FE;\n",
              "      border: none;\n",
              "      border-radius: 50%;\n",
              "      cursor: pointer;\n",
              "      display: none;\n",
              "      fill: #1967D2;\n",
              "      height: 32px;\n",
              "      padding: 0 0 0 0;\n",
              "      width: 32px;\n",
              "    }\n",
              "\n",
              "    .colab-df-convert:hover {\n",
              "      background-color: #E2EBFA;\n",
              "      box-shadow: 0px 1px 2px rgba(60, 64, 67, 0.3), 0px 1px 3px 1px rgba(60, 64, 67, 0.15);\n",
              "      fill: #174EA6;\n",
              "    }\n",
              "\n",
              "    [theme=dark] .colab-df-convert {\n",
              "      background-color: #3B4455;\n",
              "      fill: #D2E3FC;\n",
              "    }\n",
              "\n",
              "    [theme=dark] .colab-df-convert:hover {\n",
              "      background-color: #434B5C;\n",
              "      box-shadow: 0px 1px 3px 1px rgba(0, 0, 0, 0.15);\n",
              "      filter: drop-shadow(0px 1px 2px rgba(0, 0, 0, 0.3));\n",
              "      fill: #FFFFFF;\n",
              "    }\n",
              "  </style>\n",
              "\n",
              "      <script>\n",
              "        const buttonEl =\n",
              "          document.querySelector('#df-63fc3406-5a6e-4e7b-a34f-1b4c8620f7aa button.colab-df-convert');\n",
              "        buttonEl.style.display =\n",
              "          google.colab.kernel.accessAllowed ? 'block' : 'none';\n",
              "\n",
              "        async function convertToInteractive(key) {\n",
              "          const element = document.querySelector('#df-63fc3406-5a6e-4e7b-a34f-1b4c8620f7aa');\n",
              "          const dataTable =\n",
              "            await google.colab.kernel.invokeFunction('convertToInteractive',\n",
              "                                                     [key], {});\n",
              "          if (!dataTable) return;\n",
              "\n",
              "          const docLinkHtml = 'Like what you see? Visit the ' +\n",
              "            '<a target=\"_blank\" href=https://colab.research.google.com/notebooks/data_table.ipynb>data table notebook</a>'\n",
              "            + ' to learn more about interactive tables.';\n",
              "          element.innerHTML = '';\n",
              "          dataTable['output_type'] = 'display_data';\n",
              "          await google.colab.output.renderOutput(dataTable, element);\n",
              "          const docLink = document.createElement('div');\n",
              "          docLink.innerHTML = docLinkHtml;\n",
              "          element.appendChild(docLink);\n",
              "        }\n",
              "      </script>\n",
              "    </div>\n",
              "  </div>\n",
              "  "
            ]
          },
          "metadata": {},
          "execution_count": 237
        }
      ],
      "source": [
        "#summary of the data\n",
        "df_hour.describe()"
      ]
    },
    {
      "cell_type": "code",
      "execution_count": null,
      "id": "a4b2a905",
      "metadata": {
        "colab": {
          "base_uri": "https://localhost:8080/"
        },
        "id": "a4b2a905",
        "outputId": "b7d4e265-6732-4cdc-f9af-3a61f25a8961"
      },
      "outputs": [
        {
          "output_type": "execute_result",
          "data": {
            "text/plain": [
              "(17379, 16)"
            ]
          },
          "metadata": {},
          "execution_count": 238
        }
      ],
      "source": [
        "#The \".shape\" attribute returns the overall shape of the data \n",
        "df_hour.shape"
      ]
    },
    {
      "cell_type": "code",
      "source": [
        "#checking the datatypes of columns\n",
        "df_hour.info()"
      ],
      "metadata": {
        "colab": {
          "base_uri": "https://localhost:8080/"
        },
        "id": "czhFr65H20u5",
        "outputId": "cbd444d8-470b-4d96-fdef-b6d451ecd6fd"
      },
      "id": "czhFr65H20u5",
      "execution_count": null,
      "outputs": [
        {
          "output_type": "stream",
          "name": "stdout",
          "text": [
            "<class 'pandas.core.frame.DataFrame'>\n",
            "Int64Index: 17379 entries, 1 to 17379\n",
            "Data columns (total 16 columns):\n",
            " #   Column      Non-Null Count  Dtype         \n",
            "---  ------      --------------  -----         \n",
            " 0   dteday      17379 non-null  datetime64[ns]\n",
            " 1   season      17379 non-null  int64         \n",
            " 2   yr          17379 non-null  int64         \n",
            " 3   mnth        17379 non-null  int64         \n",
            " 4   hr          17379 non-null  int64         \n",
            " 5   holiday     17379 non-null  int64         \n",
            " 6   weekday     17379 non-null  int64         \n",
            " 7   workingday  17379 non-null  int64         \n",
            " 8   weathersit  17379 non-null  int64         \n",
            " 9   temp        17379 non-null  float64       \n",
            " 10  atemp       17379 non-null  float64       \n",
            " 11  hum         17379 non-null  float64       \n",
            " 12  windspeed   17379 non-null  float64       \n",
            " 13  casual      17379 non-null  int64         \n",
            " 14  registered  17379 non-null  int64         \n",
            " 15  cnt         17379 non-null  int64         \n",
            "dtypes: datetime64[ns](1), float64(4), int64(11)\n",
            "memory usage: 2.3 MB\n"
          ]
        }
      ]
    },
    {
      "cell_type": "markdown",
      "id": "1c90ac16",
      "metadata": {
        "id": "1c90ac16"
      },
      "source": [
        "# Exploring the data using Visualizations "
      ]
    },
    {
      "cell_type": "code",
      "execution_count": null,
      "id": "078f1ef4",
      "metadata": {
        "colab": {
          "base_uri": "https://localhost:8080/",
          "height": 404
        },
        "id": "078f1ef4",
        "outputId": "d310166f-662a-4ba5-e393-3c41d87694bc"
      },
      "outputs": [
        {
          "output_type": "execute_result",
          "data": {
            "text/plain": [
              "{'boxes': [<matplotlib.lines.Line2D at 0x7f5a423bcd90>],\n",
              " 'caps': [<matplotlib.lines.Line2D at 0x7f5a423aadd0>,\n",
              "  <matplotlib.lines.Line2D at 0x7f5a4239e350>],\n",
              " 'fliers': [<matplotlib.lines.Line2D at 0x7f5a4239ee10>],\n",
              " 'means': [],\n",
              " 'medians': [<matplotlib.lines.Line2D at 0x7f5a4239e8d0>],\n",
              " 'whiskers': [<matplotlib.lines.Line2D at 0x7f5a423aa350>,\n",
              "  <matplotlib.lines.Line2D at 0x7f5a423aa890>]}"
            ]
          },
          "metadata": {},
          "execution_count": 240
        },
        {
          "output_type": "display_data",
          "data": {
            "text/plain": [
              "<Figure size 432x288 with 1 Axes>"
            ],
            "image/png": "[encoded data removed]"
          },
          "metadata": {
            "needs_background": "light"
          }
        }
      ],
      "source": [
        "plt.boxplot(df_hour.cnt,vert=False) #boxplot of the data"
      ]
    },
    {
      "cell_type": "markdown",
      "source": [
        "The distribution of the count variable is positively skewed with many outliers."
      ],
      "metadata": {
        "id": "8s-J6JWJ0S5z"
      },
      "id": "8s-J6JWJ0S5z"
    },
    {
      "cell_type": "markdown",
      "source": [
        "OUTLIER DETECTION AND REMOVAL"
      ],
      "metadata": {
        "id": "B93p0aZ5HTIM"
      },
      "id": "B93p0aZ5HTIM"
    },
    {
      "cell_type": "code",
      "source": [
        "df_hour.shape"
      ],
      "metadata": {
        "colab": {
          "base_uri": "https://localhost:8080/"
        },
        "id": "b4SjNoKUY6du",
        "outputId": "69e90146-76a8-4bcf-a9e1-6f98c698a7ba"
      },
      "id": "b4SjNoKUY6du",
      "execution_count": null,
      "outputs": [
        {
          "output_type": "execute_result",
          "data": {
            "text/plain": [
              "(17379, 16)"
            ]
          },
          "metadata": {},
          "execution_count": 241
        }
      ]
    },
    {
      "cell_type": "code",
      "source": [
        "#function to remove outliers\n",
        "def outlier_removal(dataframe, dataframe2, limit = 3):\n",
        "        \n",
        "    for col in dataframe2:           # This is for the variables to be treated from upper right whisker\n",
        "        rw = limit*(dataframe[col].quantile(0.75) - dataframe[col].quantile(0.25)) + dataframe[col].quantile(0.75)\n",
        "        lw = dataframe[col].quantile(0.25)-(limit*(dataframe[col].quantile(0.75) - dataframe[col].quantile(0.25)))\n",
        "        dataframe = dataframe[~(dataframe[col]>rw)]\n",
        "        dataframe = dataframe[~(dataframe[col]<lw)]\n",
        "        dataframe = dataframe   \n",
        "    \n",
        "    return dataframe"
      ],
      "metadata": {
        "id": "sEN-o0OMHViJ"
      },
      "id": "sEN-o0OMHViJ",
      "execution_count": null,
      "outputs": []
    },
    {
      "cell_type": "code",
      "source": [
        "col=['cnt']\n",
        "df_hour= outlier_removal(df_hour,df_hour[col], limit = 3) #calling the function"
      ],
      "metadata": {
        "id": "rbcGiV_cHcu7"
      },
      "id": "rbcGiV_cHcu7",
      "execution_count": null,
      "outputs": []
    },
    {
      "cell_type": "code",
      "source": [
        "df_hour.shape"
      ],
      "metadata": {
        "colab": {
          "base_uri": "https://localhost:8080/"
        },
        "id": "oIeJNQkaHmon",
        "outputId": "b58e72a5-2af2-47da-bf4e-3b7867cf68b8"
      },
      "id": "oIeJNQkaHmon",
      "execution_count": null,
      "outputs": [
        {
          "output_type": "execute_result",
          "data": {
            "text/plain": [
              "(17379, 16)"
            ]
          },
          "metadata": {},
          "execution_count": 244
        }
      ]
    },
    {
      "cell_type": "markdown",
      "source": [
        "NOTE: We have taken a wider horizon for outlier removal since we do not want to completely remove all higher hourly counts of bike rental because capturing the high count of bike renting is also important, but also to generalize the model for prediction.\n",
        "\n",
        "Since, there are no outliers that cross the upper and lower bound of the outlier range, therefore, no outliers have been removed here."
      ],
      "metadata": {
        "id": "SaT7WbJxH9g-"
      },
      "id": "SaT7WbJxH9g-"
    },
    {
      "cell_type": "code",
      "source": [
        "#The season numbers are replaced by their respective names and stored in another column\n",
        "df_hour['season_name']=df_hour['season'].replace([1,2,3,4],['Spring','Summer','Fall','Winter'])\n",
        "df_hour.drop('season',axis=1,inplace=True)"
      ],
      "metadata": {
        "id": "5Onn58eG3bcK"
      },
      "id": "5Onn58eG3bcK",
      "execution_count": null,
      "outputs": []
    },
    {
      "cell_type": "code",
      "execution_count": null,
      "id": "9eccd57c",
      "metadata": {
        "colab": {
          "base_uri": "https://localhost:8080/",
          "height": 206
        },
        "id": "9eccd57c",
        "outputId": "dcba2a92-5468-415b-ba26-a1c999dd1c8b"
      },
      "outputs": [
        {
          "output_type": "execute_result",
          "data": {
            "text/plain": [
              "              count        mean         std  min   25%    50%    75%    max\n",
              "season_name                                                                \n",
              "Fall         4496.0  236.016237  197.711630  1.0  68.0  199.0  345.0  977.0\n",
              "Spring       4242.0  111.114569  119.224010  1.0  23.0   76.0  158.0  801.0\n",
              "Summer       4409.0  208.344069  188.362473  1.0  46.0  165.0  311.0  957.0\n",
              "Winter       4232.0  198.868856  182.967972  1.0  46.0  155.5  295.0  967.0"
            ],
            "text/html": [
              "\n",
              "  <div id=\"df-f682095d-a9a8-4453-bec9-5e67fdfb9f6d\">\n",
              "    <div class=\"colab-df-container\">\n",
              "      <div>\n",
              "<style scoped>\n",
              "    .dataframe tbody tr th:only-of-type {\n",
              "        vertical-align: middle;\n",
              "    }\n",
              "\n",
              "    .dataframe tbody tr th {\n",
              "        vertical-align: top;\n",
              "    }\n",
              "\n",
              "    .dataframe thead th {\n",
              "        text-align: right;\n",
              "    }\n",
              "</style>\n",
              "<table border=\"1\" class=\"dataframe\">\n",
              "  <thead>\n",
              "    <tr style=\"text-align: right;\">\n",
              "      <th></th>\n",
              "      <th>count</th>\n",
              "      <th>mean</th>\n",
              "      <th>std</th>\n",
              "      <th>min</th>\n",
              "      <th>25%</th>\n",
              "      <th>50%</th>\n",
              "      <th>75%</th>\n",
              "      <th>max</th>\n",
              "    </tr>\n",
              "    <tr>\n",
              "      <th>season_name</th>\n",
              "      <th></th>\n",
              "      <th></th>\n",
              "      <th></th>\n",
              "      <th></th>\n",
              "      <th></th>\n",
              "      <th></th>\n",
              "      <th></th>\n",
              "      <th></th>\n",
              "    </tr>\n",
              "  </thead>\n",
              "  <tbody>\n",
              "    <tr>\n",
              "      <th>Fall</th>\n",
              "      <td>4496.0</td>\n",
              "      <td>236.016237</td>\n",
              "      <td>197.711630</td>\n",
              "      <td>1.0</td>\n",
              "      <td>68.0</td>\n",
              "      <td>199.0</td>\n",
              "      <td>345.0</td>\n",
              "      <td>977.0</td>\n",
              "    </tr>\n",
              "    <tr>\n",
              "      <th>Spring</th>\n",
              "      <td>4242.0</td>\n",
              "      <td>111.114569</td>\n",
              "      <td>119.224010</td>\n",
              "      <td>1.0</td>\n",
              "      <td>23.0</td>\n",
              "      <td>76.0</td>\n",
              "      <td>158.0</td>\n",
              "      <td>801.0</td>\n",
              "    </tr>\n",
              "    <tr>\n",
              "      <th>Summer</th>\n",
              "      <td>4409.0</td>\n",
              "      <td>208.344069</td>\n",
              "      <td>188.362473</td>\n",
              "      <td>1.0</td>\n",
              "      <td>46.0</td>\n",
              "      <td>165.0</td>\n",
              "      <td>311.0</td>\n",
              "      <td>957.0</td>\n",
              "    </tr>\n",
              "    <tr>\n",
              "      <th>Winter</th>\n",
              "      <td>4232.0</td>\n",
              "      <td>198.868856</td>\n",
              "      <td>182.967972</td>\n",
              "      <td>1.0</td>\n",
              "      <td>46.0</td>\n",
              "      <td>155.5</td>\n",
              "      <td>295.0</td>\n",
              "      <td>967.0</td>\n",
              "    </tr>\n",
              "  </tbody>\n",
              "</table>\n",
              "</div>\n",
              "      <button class=\"colab-df-convert\" onclick=\"convertToInteractive('df-f682095d-a9a8-4453-bec9-5e67fdfb9f6d')\"\n",
              "              title=\"Convert this dataframe to an interactive table.\"\n",
              "              style=\"display:none;\">\n",
              "        \n",
              "  <svg xmlns=\"http://www.w3.org/2000/svg\" height=\"24px\"viewBox=\"0 0 24 24\"\n",
              "       width=\"24px\">\n",
              "    <path d=\"M0 0h24v24H0V0z\" fill=\"none\"/>\n",
              "    <path d=\"M18.56 5.44l.94 2.06.94-2.06 2.06-.94-2.06-.94-.94-2.06-.94 2.06-2.06.94zm-11 1L8.5 8.5l.94-2.06 2.06-.94-2.06-.94L8.5 2.5l-.94 2.06-2.06.94zm10 10l.94 2.06.94-2.06 2.06-.94-2.06-.94-.94-2.06-.94 2.06-2.06.94z\"/><path d=\"M17.41 7.96l-1.37-1.37c-.4-.4-.92-.59-1.43-.59-.52 0-1.04.2-1.43.59L10.3 9.45l-7.72 7.72c-.78.78-.78 2.05 0 2.83L4 21.41c.39.39.9.59 1.41.59.51 0 1.02-.2 1.41-.59l7.78-7.78 2.81-2.81c.8-.78.8-2.07 0-2.86zM5.41 20L4 18.59l7.72-7.72 1.47 1.35L5.41 20z\"/>\n",
              "  </svg>\n",
              "      </button>\n",
              "      \n",
              "  <style>\n",
              "    .colab-df-container {\n",
              "      display:flex;\n",
              "      flex-wrap:wrap;\n",
              "      gap: 12px;\n",
              "    }\n",
              "\n",
              "    .colab-df-convert {\n",
              "      background-color: #E8F0FE;\n",
              "      border: none;\n",
              "      border-radius: 50%;\n",
              "      cursor: pointer;\n",
              "      display: none;\n",
              "      fill: #1967D2;\n",
              "      height: 32px;\n",
              "      padding: 0 0 0 0;\n",
              "      width: 32px;\n",
              "    }\n",
              "\n",
              "    .colab-df-convert:hover {\n",
              "      background-color: #E2EBFA;\n",
              "      box-shadow: 0px 1px 2px rgba(60, 64, 67, 0.3), 0px 1px 3px 1px rgba(60, 64, 67, 0.15);\n",
              "      fill: #174EA6;\n",
              "    }\n",
              "\n",
              "    [theme=dark] .colab-df-convert {\n",
              "      background-color: #3B4455;\n",
              "      fill: #D2E3FC;\n",
              "    }\n",
              "\n",
              "    [theme=dark] .colab-df-convert:hover {\n",
              "      background-color: #434B5C;\n",
              "      box-shadow: 0px 1px 3px 1px rgba(0, 0, 0, 0.15);\n",
              "      filter: drop-shadow(0px 1px 2px rgba(0, 0, 0, 0.3));\n",
              "      fill: #FFFFFF;\n",
              "    }\n",
              "  </style>\n",
              "\n",
              "      <script>\n",
              "        const buttonEl =\n",
              "          document.querySelector('#df-f682095d-a9a8-4453-bec9-5e67fdfb9f6d button.colab-df-convert');\n",
              "        buttonEl.style.display =\n",
              "          google.colab.kernel.accessAllowed ? 'block' : 'none';\n",
              "\n",
              "        async function convertToInteractive(key) {\n",
              "          const element = document.querySelector('#df-f682095d-a9a8-4453-bec9-5e67fdfb9f6d');\n",
              "          const dataTable =\n",
              "            await google.colab.kernel.invokeFunction('convertToInteractive',\n",
              "                                                     [key], {});\n",
              "          if (!dataTable) return;\n",
              "\n",
              "          const docLinkHtml = 'Like what you see? Visit the ' +\n",
              "            '<a target=\"_blank\" href=https://colab.research.google.com/notebooks/data_table.ipynb>data table notebook</a>'\n",
              "            + ' to learn more about interactive tables.';\n",
              "          element.innerHTML = '';\n",
              "          dataTable['output_type'] = 'display_data';\n",
              "          await google.colab.output.renderOutput(dataTable, element);\n",
              "          const docLink = document.createElement('div');\n",
              "          docLink.innerHTML = docLinkHtml;\n",
              "          element.appendChild(docLink);\n",
              "        }\n",
              "      </script>\n",
              "    </div>\n",
              "  </div>\n",
              "  "
            ]
          },
          "metadata": {},
          "execution_count": 246
        }
      ],
      "source": [
        "#summary of the count of bikes rented grouped across seasons\n",
        "df_hour.groupby('season_name')['cnt'].describe()"
      ]
    },
    {
      "cell_type": "markdown",
      "source": [
        "NOTE: The mean number of bikes are maximum for the Fall season."
      ],
      "metadata": {
        "id": "ujfE-BTb1tMX"
      },
      "id": "ujfE-BTb1tMX"
    },
    {
      "cell_type": "markdown",
      "source": [
        "# MISSING VALUES DETECTION"
      ],
      "metadata": {
        "id": "ZQxJo5Wt2C-K"
      },
      "id": "ZQxJo5Wt2C-K"
    },
    {
      "cell_type": "code",
      "source": [
        "df_hour.isnull().sum()"
      ],
      "metadata": {
        "colab": {
          "base_uri": "https://localhost:8080/"
        },
        "id": "Ifxv-Pw62Fvj",
        "outputId": "9ed026f8-d31d-4ed9-a648-773e606d452d"
      },
      "id": "Ifxv-Pw62Fvj",
      "execution_count": null,
      "outputs": [
        {
          "output_type": "execute_result",
          "data": {
            "text/plain": [
              "dteday         0\n",
              "yr             0\n",
              "mnth           0\n",
              "hr             0\n",
              "holiday        0\n",
              "weekday        0\n",
              "workingday     0\n",
              "weathersit     0\n",
              "temp           0\n",
              "atemp          0\n",
              "hum            0\n",
              "windspeed      0\n",
              "casual         0\n",
              "registered     0\n",
              "cnt            0\n",
              "season_name    0\n",
              "dtype: int64"
            ]
          },
          "metadata": {},
          "execution_count": 247
        }
      ]
    },
    {
      "cell_type": "markdown",
      "id": "0745efbf",
      "metadata": {
        "id": "0745efbf"
      },
      "source": [
        "There are no missing values in the columns. "
      ]
    },
    {
      "cell_type": "code",
      "execution_count": null,
      "id": "7bbcd8b7",
      "metadata": {
        "colab": {
          "base_uri": "https://localhost:8080/"
        },
        "id": "7bbcd8b7",
        "outputId": "42946b57-b2f7-4f7e-e60c-7ee7cf82c267"
      },
      "outputs": [
        {
          "output_type": "execute_result",
          "data": {
            "text/plain": [
              "yr\n",
              "0    143.794448\n",
              "1    234.666361\n",
              "Name: cnt, dtype: float64"
            ]
          },
          "metadata": {},
          "execution_count": 248
        }
      ],
      "source": [
        "# 0: 2011, 1: 2012\n",
        "df_hour.groupby('yr')['cnt'].mean()"
      ]
    },
    {
      "cell_type": "markdown",
      "source": [
        "NOTE: The mean bikes rented for the year 2012 is much higher than the previous year."
      ],
      "metadata": {
        "id": "LoROBs7H2WP6"
      },
      "id": "LoROBs7H2WP6"
    },
    {
      "cell_type": "code",
      "execution_count": null,
      "id": "4c1fe128",
      "metadata": {
        "colab": {
          "base_uri": "https://localhost:8080/",
          "height": 282
        },
        "id": "4c1fe128",
        "outputId": "6b17b39a-955c-416d-9f11-5599e59e0764"
      },
      "outputs": [
        {
          "output_type": "execute_result",
          "data": {
            "text/plain": [
              "<BarContainer object of 4 artists>"
            ]
          },
          "metadata": {},
          "execution_count": 249
        },
        {
          "output_type": "display_data",
          "data": {
            "text/plain": [
              "<Figure size 432x288 with 1 Axes>"
            ],
            "image/png": "[encoded data removed]"
          },
          "metadata": {
            "needs_background": "light"
          }
        }
      ],
      "source": [
        "#There are many outliers in the data, hence median values are considered\n",
        "s2=df_hour.groupby('season_name')['cnt'].median().sort_values()\n",
        "plt.barh(s2.index,s2)"
      ]
    },
    {
      "cell_type": "markdown",
      "source": [
        "NOTE: The Fall season has maximum number of bikes rented in terms of median values."
      ],
      "metadata": {
        "id": "L_lttG2R39TX"
      },
      "id": "L_lttG2R39TX"
    },
    {
      "cell_type": "code",
      "execution_count": null,
      "id": "180d0398",
      "metadata": {
        "id": "180d0398",
        "outputId": "675c51bb-1483-49d3-f293-0c0c2adb9d41",
        "colab": {
          "base_uri": "https://localhost:8080/",
          "height": 296
        }
      },
      "outputs": [
        {
          "output_type": "execute_result",
          "data": {
            "text/plain": [
              "<matplotlib.axes._subplots.AxesSubplot at 0x7f5a42449b90>"
            ]
          },
          "metadata": {},
          "execution_count": 250
        },
        {
          "output_type": "display_data",
          "data": {
            "text/plain": [
              "<Figure size 432x288 with 1 Axes>"
            ],
            "image/png": "[encoded data removed]"
          },
          "metadata": {
            "needs_background": "light"
          }
        }
      ],
      "source": [
        "#Plot of count vs months\n",
        "df_hour.groupby('mnth')['cnt'].median().plot()"
      ]
    },
    {
      "cell_type": "markdown",
      "source": [
        "NOTE: The maximum bikes were rented in the months of May-October."
      ],
      "metadata": {
        "id": "8LZqeIph4MG0"
      },
      "id": "8LZqeIph4MG0"
    },
    {
      "cell_type": "code",
      "execution_count": null,
      "id": "24d6a16b",
      "metadata": {
        "colab": {
          "base_uri": "https://localhost:8080/",
          "height": 504
        },
        "id": "24d6a16b",
        "outputId": "9825007b-e8ab-4169-e67d-b610eeb01115"
      },
      "outputs": [
        {
          "output_type": "execute_result",
          "data": {
            "text/plain": [
              "<matplotlib.axes._subplots.AxesSubplot at 0x7f5a42025310>"
            ]
          },
          "metadata": {},
          "execution_count": 251
        },
        {
          "output_type": "display_data",
          "data": {
            "text/plain": [
              "<Figure size 720x576 with 2 Axes>"
            ],
            "image/png": "[encoded data removed]"
          },
          "metadata": {
            "needs_background": "light"
          }
        }
      ],
      "source": [
        "#Correlation of the variables are plotted in form of a heatmap\n",
        "plt.subplots(figsize=(10,8))\n",
        "sns.heatmap(df_hour[['temp','hr','atemp','hum','windspeed','casual','registered','cnt']].corr(),annot=True)"
      ]
    },
    {
      "cell_type": "markdown",
      "id": "2f4fe355",
      "metadata": {
        "id": "2f4fe355"
      },
      "source": [
        "NOTES:\n",
        "\n",
        "1. temp and atemp are very highly correlated (significant p value) and hence one of them should be dropped to prevent the multicollinearity. We will drop the temp which is the actual temperature and keep atemp in our dataset since feel temperature is more important to tourists.\n",
        "\n",
        "2. temp and cnt have correlation of 0.4 (significant p value) and since here, our objective is to predict the count of bike rents, temp can be considered as an important predictor variable.\n",
        "\n",
        "3. Humidity is very weakly correlated with the other variables and hence, we can keep it. It is also negatively correlated with cnt. It might not be a very good predictor in bivariate regression to predict cnt.\n",
        "\n",
        "4. Similarly windspeed is weakly associated with cnt and may not be that good a predictor but still slightly better than humidity.\n",
        "\n",
        "5. Registered and casual bike rents are added to get the cnt column and they are showing more or less similar behavior with the other features and are highly correlated with cnt. Hence, we will drop casual and registered and work with only cnt.\n",
        "\n",
        "6. Moderate Positive association between hour and count.\n"
      ]
    },
    {
      "cell_type": "markdown",
      "source": [
        "We will now check the VIF to detect the variables with high multicollinearity."
      ],
      "metadata": {
        "id": "0D0Unw2ieC2q"
      },
      "id": "0D0Unw2ieC2q"
    },
    {
      "cell_type": "code",
      "source": [
        "v=df_hour[['temp', 'atemp', 'hum', 'windspeed','hr']]\n",
        "from statsmodels.stats.outliers_influence import variance_inflation_factor\n",
        "\n",
        "vif_data = pd.DataFrame()\n",
        "vif_data[\"feature\"] = v.columns\n",
        "  \n",
        "# calculating VIF for each feature\n",
        "vif_data[\"VIF\"] = [variance_inflation_factor(v.values, i)\n",
        "                          for i in range(len(v.columns))]\n",
        "  \n",
        "print(vif_data)"
      ],
      "metadata": {
        "colab": {
          "base_uri": "https://localhost:8080/"
        },
        "id": "u-eExWczeEKQ",
        "outputId": "104ea52d-f849-4b1e-bbcc-3c53d21deeb9"
      },
      "id": "u-eExWczeEKQ",
      "execution_count": null,
      "outputs": [
        {
          "output_type": "stream",
          "name": "stdout",
          "text": [
            "     feature         VIF\n",
            "0       temp  319.337590\n",
            "1      atemp  348.968241\n",
            "2        hum    5.865330\n",
            "3  windspeed    2.999914\n",
            "4         hr    3.649304\n"
          ]
        }
      ]
    },
    {
      "cell_type": "markdown",
      "source": [
        "NOTE: The VIF values are very high for temp and atemp variables, thus temp is dropped to prevent the effect of multicollinearity in the Linear Regression model."
      ],
      "metadata": {
        "id": "RSLU6gVYeaZh"
      },
      "id": "RSLU6gVYeaZh"
    },
    {
      "cell_type": "code",
      "source": [
        "df_hour.drop('temp',axis=1,inplace=True)"
      ],
      "metadata": {
        "id": "be6MI7aze0OA"
      },
      "id": "be6MI7aze0OA",
      "execution_count": null,
      "outputs": []
    },
    {
      "cell_type": "code",
      "execution_count": null,
      "id": "e681361b",
      "metadata": {
        "colab": {
          "base_uri": "https://localhost:8080/",
          "height": 296
        },
        "id": "e681361b",
        "outputId": "7e51ce84-c7be-4a5a-d97f-80c753d206fd"
      },
      "outputs": [
        {
          "output_type": "execute_result",
          "data": {
            "text/plain": [
              "<matplotlib.axes._subplots.AxesSubplot at 0x7f5a42034b10>"
            ]
          },
          "metadata": {},
          "execution_count": 254
        },
        {
          "output_type": "display_data",
          "data": {
            "text/plain": [
              "<Figure size 432x288 with 1 Axes>"
            ],
            "image/png": "[encoded data removed]"
          },
          "metadata": {
            "needs_background": "light"
          }
        }
      ],
      "source": [
        "df_hour.groupby('hr')['cnt'].median().plot()"
      ]
    },
    {
      "cell_type": "markdown",
      "source": [
        "NOTE: Maximum number of bikes are rented during the morning and afternoon hours."
      ],
      "metadata": {
        "id": "gpQ9Nr906nr8"
      },
      "id": "gpQ9Nr906nr8"
    },
    {
      "cell_type": "code",
      "execution_count": null,
      "id": "4c6dcd84",
      "metadata": {
        "id": "4c6dcd84"
      },
      "outputs": [],
      "source": [
        "# converting the weathersit column to their corresponding labels\n",
        "df_hour['WC'] = df_hour['weathersit'].replace([1,2,3,4],['Clear','Mist','Light Snow','Heavy Rain'])"
      ]
    },
    {
      "cell_type": "code",
      "execution_count": null,
      "id": "8774b1d0",
      "metadata": {
        "colab": {
          "base_uri": "https://localhost:8080/"
        },
        "id": "8774b1d0",
        "outputId": "82299060-ae3b-438f-c04b-6b87259e102b"
      },
      "outputs": [
        {
          "output_type": "execute_result",
          "data": {
            "text/plain": [
              "WC\n",
              "Clear         159.0\n",
              "Mist          133.0\n",
              "Light Snow     63.0\n",
              "Heavy Rain     36.0\n",
              "Name: cnt, dtype: float64"
            ]
          },
          "metadata": {},
          "execution_count": 256
        }
      ],
      "source": [
        "df_hour.groupby('WC')['cnt'].median().sort_values(ascending=False)"
      ]
    },
    {
      "cell_type": "markdown",
      "source": [
        "NOTE: Maximum bikes are rented during clear weather."
      ],
      "metadata": {
        "id": "Iel_OZUG7SQP"
      },
      "id": "Iel_OZUG7SQP"
    },
    {
      "cell_type": "markdown",
      "id": "8e7a2281",
      "metadata": {
        "id": "8e7a2281"
      },
      "source": [
        "# Feature Engineering"
      ]
    },
    {
      "cell_type": "code",
      "execution_count": null,
      "id": "d081f343",
      "metadata": {
        "id": "d081f343"
      },
      "outputs": [],
      "source": [
        "#function to check the day of the week\n",
        "def dayofweek(day):\n",
        "    if day==0:\n",
        "        return \"Sunday\"\n",
        "    elif day==1:\n",
        "        return \"Monday\"\n",
        "    elif day==2:\n",
        "        return \"Tuesday\"\n",
        "    elif day==3:\n",
        "        return \"Wednesday\"\n",
        "    elif day==4:\n",
        "        return \"Thursday\"\n",
        "    elif day==5:\n",
        "        return \"Friday\"\n",
        "    elif day==6:\n",
        "        return \"Saturday\""
      ]
    },
    {
      "cell_type": "code",
      "execution_count": null,
      "id": "db665b3a",
      "metadata": {
        "id": "db665b3a"
      },
      "outputs": [],
      "source": [
        "#defining a new variable which shows the day of the week along with whether it's a workday, holiday or weekend\n",
        "def day_type(df):\n",
        "    df['day_type']=0\n",
        "    for i in range(df.shape[0]):\n",
        "        if (df.holiday.iloc[i]==0) &(df.workingday.iloc[i]==0):\n",
        "            day=dayofweek(df.weekday.iloc[i])\n",
        "            df['day_type'].iloc[i]='Weekend-'+day\n",
        "        elif (df.holiday.iloc[i]==1) &(df.workingday.iloc[i]==0):\n",
        "            day=dayofweek(df.weekday.iloc[i])\n",
        "            df['day_type'].iloc[i]='Holiday-'+day\n",
        "        elif (df.holiday.iloc[i]==0) &(df.workingday.iloc[i]==1):\n",
        "            day=dayofweek(df.weekday.iloc[i])\n",
        "            df['day_type'].iloc[i]='Work-'+day \n",
        "    return df"
      ]
    },
    {
      "cell_type": "code",
      "execution_count": null,
      "id": "22f9e4a0",
      "metadata": {
        "colab": {
          "base_uri": "https://localhost:8080/"
        },
        "id": "22f9e4a0",
        "outputId": "64859a15-f1fe-4beb-c904-9bdc3b5f6e2b"
      },
      "outputs": [
        {
          "output_type": "stream",
          "name": "stderr",
          "text": [
            "/usr/local/lib/python3.7/dist-packages/pandas/core/indexing.py:1732: SettingWithCopyWarning: \n",
            "A value is trying to be set on a copy of a slice from a DataFrame\n",
            "\n",
            "See the caveats in the documentation: https://pandas.pydata.org/pandas-docs/stable/user_guide/indexing.html#returning-a-view-versus-a-copy\n",
            "  self._setitem_single_block(indexer, value, name)\n"
          ]
        }
      ],
      "source": [
        "df_hour=day_type(df_hour) #calling the above function "
      ]
    },
    {
      "cell_type": "code",
      "execution_count": null,
      "id": "569ae811",
      "metadata": {
        "colab": {
          "base_uri": "https://localhost:8080/",
          "height": 143
        },
        "id": "569ae811",
        "outputId": "41bf2159-9426-490d-fe4c-88ee586e870b"
      },
      "outputs": [
        {
          "output_type": "execute_result",
          "data": {
            "text/plain": [
              "            dteday  yr  mnth  hr  holiday  workingday   atemp   hum  \\\n",
              "instant                                                               \n",
              "1       2011-01-01   0     1   0        0           0  0.2879  0.81   \n",
              "2       2011-01-01   0     1   1        0           0  0.2727  0.80   \n",
              "\n",
              "         windspeed  cnt season_name     WC          day_type  \n",
              "instant                                                       \n",
              "1              0.0   16      Spring  Clear  Weekend-Saturday  \n",
              "2              0.0   40      Spring  Clear  Weekend-Saturday  "
            ],
            "text/html": [
              "\n",
              "  <div id=\"df-2314169e-220a-4e81-b4e5-71b779b680ba\">\n",
              "    <div class=\"colab-df-container\">\n",
              "      <div>\n",
              "<style scoped>\n",
              "    .dataframe tbody tr th:only-of-type {\n",
              "        vertical-align: middle;\n",
              "    }\n",
              "\n",
              "    .dataframe tbody tr th {\n",
              "        vertical-align: top;\n",
              "    }\n",
              "\n",
              "    .dataframe thead th {\n",
              "        text-align: right;\n",
              "    }\n",
              "</style>\n",
              "<table border=\"1\" class=\"dataframe\">\n",
              "  <thead>\n",
              "    <tr style=\"text-align: right;\">\n",
              "      <th></th>\n",
              "      <th>dteday</th>\n",
              "      <th>yr</th>\n",
              "      <th>mnth</th>\n",
              "      <th>hr</th>\n",
              "      <th>holiday</th>\n",
              "      <th>workingday</th>\n",
              "      <th>atemp</th>\n",
              "      <th>hum</th>\n",
              "      <th>windspeed</th>\n",
              "      <th>cnt</th>\n",
              "      <th>season_name</th>\n",
              "      <th>WC</th>\n",
              "      <th>day_type</th>\n",
              "    </tr>\n",
              "    <tr>\n",
              "      <th>instant</th>\n",
              "      <th></th>\n",
              "      <th></th>\n",
              "      <th></th>\n",
              "      <th></th>\n",
              "      <th></th>\n",
              "      <th></th>\n",
              "      <th></th>\n",
              "      <th></th>\n",
              "      <th></th>\n",
              "      <th></th>\n",
              "      <th></th>\n",
              "      <th></th>\n",
              "      <th></th>\n",
              "    </tr>\n",
              "  </thead>\n",
              "  <tbody>\n",
              "    <tr>\n",
              "      <th>1</th>\n",
              "      <td>2011-01-01</td>\n",
              "      <td>0</td>\n",
              "      <td>1</td>\n",
              "      <td>0</td>\n",
              "      <td>0</td>\n",
              "      <td>0</td>\n",
              "      <td>0.2879</td>\n",
              "      <td>0.81</td>\n",
              "      <td>0.0</td>\n",
              "      <td>16</td>\n",
              "      <td>Spring</td>\n",
              "      <td>Clear</td>\n",
              "      <td>Weekend-Saturday</td>\n",
              "    </tr>\n",
              "    <tr>\n",
              "      <th>2</th>\n",
              "      <td>2011-01-01</td>\n",
              "      <td>0</td>\n",
              "      <td>1</td>\n",
              "      <td>1</td>\n",
              "      <td>0</td>\n",
              "      <td>0</td>\n",
              "      <td>0.2727</td>\n",
              "      <td>0.80</td>\n",
              "      <td>0.0</td>\n",
              "      <td>40</td>\n",
              "      <td>Spring</td>\n",
              "      <td>Clear</td>\n",
              "      <td>Weekend-Saturday</td>\n",
              "    </tr>\n",
              "  </tbody>\n",
              "</table>\n",
              "</div>\n",
              "      <button class=\"colab-df-convert\" onclick=\"convertToInteractive('df-2314169e-220a-4e81-b4e5-71b779b680ba')\"\n",
              "              title=\"Convert this dataframe to an interactive table.\"\n",
              "              style=\"display:none;\">\n",
              "        \n",
              "  <svg xmlns=\"http://www.w3.org/2000/svg\" height=\"24px\"viewBox=\"0 0 24 24\"\n",
              "       width=\"24px\">\n",
              "    <path d=\"M0 0h24v24H0V0z\" fill=\"none\"/>\n",
              "    <path d=\"M18.56 5.44l.94 2.06.94-2.06 2.06-.94-2.06-.94-.94-2.06-.94 2.06-2.06.94zm-11 1L8.5 8.5l.94-2.06 2.06-.94-2.06-.94L8.5 2.5l-.94 2.06-2.06.94zm10 10l.94 2.06.94-2.06 2.06-.94-2.06-.94-.94-2.06-.94 2.06-2.06.94z\"/><path d=\"M17.41 7.96l-1.37-1.37c-.4-.4-.92-.59-1.43-.59-.52 0-1.04.2-1.43.59L10.3 9.45l-7.72 7.72c-.78.78-.78 2.05 0 2.83L4 21.41c.39.39.9.59 1.41.59.51 0 1.02-.2 1.41-.59l7.78-7.78 2.81-2.81c.8-.78.8-2.07 0-2.86zM5.41 20L4 18.59l7.72-7.72 1.47 1.35L5.41 20z\"/>\n",
              "  </svg>\n",
              "      </button>\n",
              "      \n",
              "  <style>\n",
              "    .colab-df-container {\n",
              "      display:flex;\n",
              "      flex-wrap:wrap;\n",
              "      gap: 12px;\n",
              "    }\n",
              "\n",
              "    .colab-df-convert {\n",
              "      background-color: #E8F0FE;\n",
              "      border: none;\n",
              "      border-radius: 50%;\n",
              "      cursor: pointer;\n",
              "      display: none;\n",
              "      fill: #1967D2;\n",
              "      height: 32px;\n",
              "      padding: 0 0 0 0;\n",
              "      width: 32px;\n",
              "    }\n",
              "\n",
              "    .colab-df-convert:hover {\n",
              "      background-color: #E2EBFA;\n",
              "      box-shadow: 0px 1px 2px rgba(60, 64, 67, 0.3), 0px 1px 3px 1px rgba(60, 64, 67, 0.15);\n",
              "      fill: #174EA6;\n",
              "    }\n",
              "\n",
              "    [theme=dark] .colab-df-convert {\n",
              "      background-color: #3B4455;\n",
              "      fill: #D2E3FC;\n",
              "    }\n",
              "\n",
              "    [theme=dark] .colab-df-convert:hover {\n",
              "      background-color: #434B5C;\n",
              "      box-shadow: 0px 1px 3px 1px rgba(0, 0, 0, 0.15);\n",
              "      filter: drop-shadow(0px 1px 2px rgba(0, 0, 0, 0.3));\n",
              "      fill: #FFFFFF;\n",
              "    }\n",
              "  </style>\n",
              "\n",
              "      <script>\n",
              "        const buttonEl =\n",
              "          document.querySelector('#df-2314169e-220a-4e81-b4e5-71b779b680ba button.colab-df-convert');\n",
              "        buttonEl.style.display =\n",
              "          google.colab.kernel.accessAllowed ? 'block' : 'none';\n",
              "\n",
              "        async function convertToInteractive(key) {\n",
              "          const element = document.querySelector('#df-2314169e-220a-4e81-b4e5-71b779b680ba');\n",
              "          const dataTable =\n",
              "            await google.colab.kernel.invokeFunction('convertToInteractive',\n",
              "                                                     [key], {});\n",
              "          if (!dataTable) return;\n",
              "\n",
              "          const docLinkHtml = 'Like what you see? Visit the ' +\n",
              "            '<a target=\"_blank\" href=https://colab.research.google.com/notebooks/data_table.ipynb>data table notebook</a>'\n",
              "            + ' to learn more about interactive tables.';\n",
              "          element.innerHTML = '';\n",
              "          dataTable['output_type'] = 'display_data';\n",
              "          await google.colab.output.renderOutput(dataTable, element);\n",
              "          const docLink = document.createElement('div');\n",
              "          docLink.innerHTML = docLinkHtml;\n",
              "          element.appendChild(docLink);\n",
              "        }\n",
              "      </script>\n",
              "    </div>\n",
              "  </div>\n",
              "  "
            ]
          },
          "metadata": {},
          "execution_count": 260
        }
      ],
      "source": [
        "#dropping the variables which are not required\n",
        "df_hour.drop(['weathersit','weekday','casual','registered'],axis=1,inplace=True)\n",
        "df_hour.head(2)"
      ]
    },
    {
      "cell_type": "code",
      "execution_count": null,
      "id": "25f65840",
      "metadata": {
        "colab": {
          "base_uri": "https://localhost:8080/",
          "height": 457
        },
        "id": "25f65840",
        "outputId": "ec342f13-1482-4654-ac62-c92fbeea7fe5"
      },
      "outputs": [
        {
          "output_type": "execute_result",
          "data": {
            "text/plain": [
              "                    count        mean         std   min     25%    50%  \\\n",
              "day_type                                                                 \n",
              "Holiday-Friday       48.0  135.291667   95.655846   3.0   46.75  129.0   \n",
              "Holiday-Monday      357.0  166.960784  162.468091   1.0   31.00  100.0   \n",
              "Holiday-Thursday     48.0   81.666667   77.569278   2.0   22.75   46.0   \n",
              "Holiday-Tuesday      23.0   44.043478   41.126720   1.0   12.00   32.0   \n",
              "Holiday-Wednesday    24.0  308.458333  202.209100  16.0  115.50  401.5   \n",
              "Weekend-Saturday   2512.0  190.209793  179.820569   1.0   42.00  129.0   \n",
              "Weekend-Sunday     2502.0  177.468825  168.167710   1.0   40.00  116.0   \n",
              "Work-Friday        2439.0  197.333333  175.067581   1.0   48.00  165.0   \n",
              "Work-Monday        2122.0  186.568332  182.108719   1.0   37.00  142.5   \n",
              "Work-Thursday      2423.0  198.710277  188.854567   1.0   44.00  156.0   \n",
              "Work-Tuesday       2430.0  192.632099  188.117367   1.0   36.00  149.0   \n",
              "Work-Wednesday     2451.0  189.981640  190.466915   1.0   36.00  142.0   \n",
              "\n",
              "                      75%    max  \n",
              "day_type                          \n",
              "Holiday-Friday     208.25  331.0  \n",
              "Holiday-Monday     281.00  712.0  \n",
              "Holiday-Thursday   124.75  269.0  \n",
              "Holiday-Tuesday     68.00  126.0  \n",
              "Holiday-Wednesday  487.25  584.0  \n",
              "Weekend-Saturday   300.00  783.0  \n",
              "Weekend-Sunday     288.00  776.0  \n",
              "Work-Friday        289.50  957.0  \n",
              "Work-Monday        266.75  968.0  \n",
              "Work-Thursday      283.50  976.0  \n",
              "Work-Tuesday       277.00  970.0  \n",
              "Work-Wednesday     273.00  977.0  "
            ],
            "text/html": [
              "\n",
              "  <div id=\"df-e5f95e68-bf57-4bf4-bd09-6e1d79d6d2e3\">\n",
              "    <div class=\"colab-df-container\">\n",
              "      <div>\n",
              "<style scoped>\n",
              "    .dataframe tbody tr th:only-of-type {\n",
              "        vertical-align: middle;\n",
              "    }\n",
              "\n",
              "    .dataframe tbody tr th {\n",
              "        vertical-align: top;\n",
              "    }\n",
              "\n",
              "    .dataframe thead th {\n",
              "        text-align: right;\n",
              "    }\n",
              "</style>\n",
              "<table border=\"1\" class=\"dataframe\">\n",
              "  <thead>\n",
              "    <tr style=\"text-align: right;\">\n",
              "      <th></th>\n",
              "      <th>count</th>\n",
              "      <th>mean</th>\n",
              "      <th>std</th>\n",
              "      <th>min</th>\n",
              "      <th>25%</th>\n",
              "      <th>50%</th>\n",
              "      <th>75%</th>\n",
              "      <th>max</th>\n",
              "    </tr>\n",
              "    <tr>\n",
              "      <th>day_type</th>\n",
              "      <th></th>\n",
              "      <th></th>\n",
              "      <th></th>\n",
              "      <th></th>\n",
              "      <th></th>\n",
              "      <th></th>\n",
              "      <th></th>\n",
              "      <th></th>\n",
              "    </tr>\n",
              "  </thead>\n",
              "  <tbody>\n",
              "    <tr>\n",
              "      <th>Holiday-Friday</th>\n",
              "      <td>48.0</td>\n",
              "      <td>135.291667</td>\n",
              "      <td>95.655846</td>\n",
              "      <td>3.0</td>\n",
              "      <td>46.75</td>\n",
              "      <td>129.0</td>\n",
              "      <td>208.25</td>\n",
              "      <td>331.0</td>\n",
              "    </tr>\n",
              "    <tr>\n",
              "      <th>Holiday-Monday</th>\n",
              "      <td>357.0</td>\n",
              "      <td>166.960784</td>\n",
              "      <td>162.468091</td>\n",
              "      <td>1.0</td>\n",
              "      <td>31.00</td>\n",
              "      <td>100.0</td>\n",
              "      <td>281.00</td>\n",
              "      <td>712.0</td>\n",
              "    </tr>\n",
              "    <tr>\n",
              "      <th>Holiday-Thursday</th>\n",
              "      <td>48.0</td>\n",
              "      <td>81.666667</td>\n",
              "      <td>77.569278</td>\n",
              "      <td>2.0</td>\n",
              "      <td>22.75</td>\n",
              "      <td>46.0</td>\n",
              "      <td>124.75</td>\n",
              "      <td>269.0</td>\n",
              "    </tr>\n",
              "    <tr>\n",
              "      <th>Holiday-Tuesday</th>\n",
              "      <td>23.0</td>\n",
              "      <td>44.043478</td>\n",
              "      <td>41.126720</td>\n",
              "      <td>1.0</td>\n",
              "      <td>12.00</td>\n",
              "      <td>32.0</td>\n",
              "      <td>68.00</td>\n",
              "      <td>126.0</td>\n",
              "    </tr>\n",
              "    <tr>\n",
              "      <th>Holiday-Wednesday</th>\n",
              "      <td>24.0</td>\n",
              "      <td>308.458333</td>\n",
              "      <td>202.209100</td>\n",
              "      <td>16.0</td>\n",
              "      <td>115.50</td>\n",
              "      <td>401.5</td>\n",
              "      <td>487.25</td>\n",
              "      <td>584.0</td>\n",
              "    </tr>\n",
              "    <tr>\n",
              "      <th>Weekend-Saturday</th>\n",
              "      <td>2512.0</td>\n",
              "      <td>190.209793</td>\n",
              "      <td>179.820569</td>\n",
              "      <td>1.0</td>\n",
              "      <td>42.00</td>\n",
              "      <td>129.0</td>\n",
              "      <td>300.00</td>\n",
              "      <td>783.0</td>\n",
              "    </tr>\n",
              "    <tr>\n",
              "      <th>Weekend-Sunday</th>\n",
              "      <td>2502.0</td>\n",
              "      <td>177.468825</td>\n",
              "      <td>168.167710</td>\n",
              "      <td>1.0</td>\n",
              "      <td>40.00</td>\n",
              "      <td>116.0</td>\n",
              "      <td>288.00</td>\n",
              "      <td>776.0</td>\n",
              "    </tr>\n",
              "    <tr>\n",
              "      <th>Work-Friday</th>\n",
              "      <td>2439.0</td>\n",
              "      <td>197.333333</td>\n",
              "      <td>175.067581</td>\n",
              "      <td>1.0</td>\n",
              "      <td>48.00</td>\n",
              "      <td>165.0</td>\n",
              "      <td>289.50</td>\n",
              "      <td>957.0</td>\n",
              "    </tr>\n",
              "    <tr>\n",
              "      <th>Work-Monday</th>\n",
              "      <td>2122.0</td>\n",
              "      <td>186.568332</td>\n",
              "      <td>182.108719</td>\n",
              "      <td>1.0</td>\n",
              "      <td>37.00</td>\n",
              "      <td>142.5</td>\n",
              "      <td>266.75</td>\n",
              "      <td>968.0</td>\n",
              "    </tr>\n",
              "    <tr>\n",
              "      <th>Work-Thursday</th>\n",
              "      <td>2423.0</td>\n",
              "      <td>198.710277</td>\n",
              "      <td>188.854567</td>\n",
              "      <td>1.0</td>\n",
              "      <td>44.00</td>\n",
              "      <td>156.0</td>\n",
              "      <td>283.50</td>\n",
              "      <td>976.0</td>\n",
              "    </tr>\n",
              "    <tr>\n",
              "      <th>Work-Tuesday</th>\n",
              "      <td>2430.0</td>\n",
              "      <td>192.632099</td>\n",
              "      <td>188.117367</td>\n",
              "      <td>1.0</td>\n",
              "      <td>36.00</td>\n",
              "      <td>149.0</td>\n",
              "      <td>277.00</td>\n",
              "      <td>970.0</td>\n",
              "    </tr>\n",
              "    <tr>\n",
              "      <th>Work-Wednesday</th>\n",
              "      <td>2451.0</td>\n",
              "      <td>189.981640</td>\n",
              "      <td>190.466915</td>\n",
              "      <td>1.0</td>\n",
              "      <td>36.00</td>\n",
              "      <td>142.0</td>\n",
              "      <td>273.00</td>\n",
              "      <td>977.0</td>\n",
              "    </tr>\n",
              "  </tbody>\n",
              "</table>\n",
              "</div>\n",
              "      <button class=\"colab-df-convert\" onclick=\"convertToInteractive('df-e5f95e68-bf57-4bf4-bd09-6e1d79d6d2e3')\"\n",
              "              title=\"Convert this dataframe to an interactive table.\"\n",
              "              style=\"display:none;\">\n",
              "        \n",
              "  <svg xmlns=\"http://www.w3.org/2000/svg\" height=\"24px\"viewBox=\"0 0 24 24\"\n",
              "       width=\"24px\">\n",
              "    <path d=\"M0 0h24v24H0V0z\" fill=\"none\"/>\n",
              "    <path d=\"M18.56 5.44l.94 2.06.94-2.06 2.06-.94-2.06-.94-.94-2.06-.94 2.06-2.06.94zm-11 1L8.5 8.5l.94-2.06 2.06-.94-2.06-.94L8.5 2.5l-.94 2.06-2.06.94zm10 10l.94 2.06.94-2.06 2.06-.94-2.06-.94-.94-2.06-.94 2.06-2.06.94z\"/><path d=\"M17.41 7.96l-1.37-1.37c-.4-.4-.92-.59-1.43-.59-.52 0-1.04.2-1.43.59L10.3 9.45l-7.72 7.72c-.78.78-.78 2.05 0 2.83L4 21.41c.39.39.9.59 1.41.59.51 0 1.02-.2 1.41-.59l7.78-7.78 2.81-2.81c.8-.78.8-2.07 0-2.86zM5.41 20L4 18.59l7.72-7.72 1.47 1.35L5.41 20z\"/>\n",
              "  </svg>\n",
              "      </button>\n",
              "      \n",
              "  <style>\n",
              "    .colab-df-container {\n",
              "      display:flex;\n",
              "      flex-wrap:wrap;\n",
              "      gap: 12px;\n",
              "    }\n",
              "\n",
              "    .colab-df-convert {\n",
              "      background-color: #E8F0FE;\n",
              "      border: none;\n",
              "      border-radius: 50%;\n",
              "      cursor: pointer;\n",
              "      display: none;\n",
              "      fill: #1967D2;\n",
              "      height: 32px;\n",
              "      padding: 0 0 0 0;\n",
              "      width: 32px;\n",
              "    }\n",
              "\n",
              "    .colab-df-convert:hover {\n",
              "      background-color: #E2EBFA;\n",
              "      box-shadow: 0px 1px 2px rgba(60, 64, 67, 0.3), 0px 1px 3px 1px rgba(60, 64, 67, 0.15);\n",
              "      fill: #174EA6;\n",
              "    }\n",
              "\n",
              "    [theme=dark] .colab-df-convert {\n",
              "      background-color: #3B4455;\n",
              "      fill: #D2E3FC;\n",
              "    }\n",
              "\n",
              "    [theme=dark] .colab-df-convert:hover {\n",
              "      background-color: #434B5C;\n",
              "      box-shadow: 0px 1px 3px 1px rgba(0, 0, 0, 0.15);\n",
              "      filter: drop-shadow(0px 1px 2px rgba(0, 0, 0, 0.3));\n",
              "      fill: #FFFFFF;\n",
              "    }\n",
              "  </style>\n",
              "\n",
              "      <script>\n",
              "        const buttonEl =\n",
              "          document.querySelector('#df-e5f95e68-bf57-4bf4-bd09-6e1d79d6d2e3 button.colab-df-convert');\n",
              "        buttonEl.style.display =\n",
              "          google.colab.kernel.accessAllowed ? 'block' : 'none';\n",
              "\n",
              "        async function convertToInteractive(key) {\n",
              "          const element = document.querySelector('#df-e5f95e68-bf57-4bf4-bd09-6e1d79d6d2e3');\n",
              "          const dataTable =\n",
              "            await google.colab.kernel.invokeFunction('convertToInteractive',\n",
              "                                                     [key], {});\n",
              "          if (!dataTable) return;\n",
              "\n",
              "          const docLinkHtml = 'Like what you see? Visit the ' +\n",
              "            '<a target=\"_blank\" href=https://colab.research.google.com/notebooks/data_table.ipynb>data table notebook</a>'\n",
              "            + ' to learn more about interactive tables.';\n",
              "          element.innerHTML = '';\n",
              "          dataTable['output_type'] = 'display_data';\n",
              "          await google.colab.output.renderOutput(dataTable, element);\n",
              "          const docLink = document.createElement('div');\n",
              "          docLink.innerHTML = docLinkHtml;\n",
              "          element.appendChild(docLink);\n",
              "        }\n",
              "      </script>\n",
              "    </div>\n",
              "  </div>\n",
              "  "
            ]
          },
          "metadata": {},
          "execution_count": 261
        }
      ],
      "source": [
        "df_hour.groupby('day_type')['cnt'].describe() #summary of the day_type variable created"
      ]
    },
    {
      "cell_type": "code",
      "execution_count": null,
      "id": "59033633",
      "metadata": {
        "colab": {
          "base_uri": "https://localhost:8080/",
          "height": 282
        },
        "id": "59033633",
        "outputId": "e517462e-4b80-4600-8dbc-b4aa78b4f15d"
      },
      "outputs": [
        {
          "output_type": "execute_result",
          "data": {
            "text/plain": [
              "<BarContainer object of 12 artists>"
            ]
          },
          "metadata": {},
          "execution_count": 262
        },
        {
          "output_type": "display_data",
          "data": {
            "text/plain": [
              "<Figure size 432x288 with 1 Axes>"
            ],
            "image/png": "[encoded data removed]"
          },
          "metadata": {
            "needs_background": "light"
          }
        }
      ],
      "source": [
        "m=df_hour.groupby('day_type')['cnt'].median().sort_values()\n",
        "plt.barh(m.index,m)"
      ]
    },
    {
      "cell_type": "code",
      "execution_count": null,
      "id": "62a81128",
      "metadata": {
        "id": "62a81128",
        "outputId": "87531ad9-ebaf-409d-fc77-e2452bcd41d0",
        "colab": {
          "base_uri": "https://localhost:8080/",
          "height": 833
        }
      },
      "outputs": [
        {
          "output_type": "execute_result",
          "data": {
            "text/plain": [
              "            dteday  yr  mnth  hr  holiday  workingday   atemp   hum  \\\n",
              "instant                                                               \n",
              "13076   2012-07-04   1     7   0        1           0  0.6364  0.79   \n",
              "13077   2012-07-04   1     7   1        1           0  0.6364  0.74   \n",
              "13078   2012-07-04   1     7   2        1           0  0.6061  0.83   \n",
              "13079   2012-07-04   1     7   3        1           0  0.6364  0.74   \n",
              "13080   2012-07-04   1     7   4        1           0  0.6364  0.69   \n",
              "13081   2012-07-04   1     7   5        1           0  0.6212  0.69   \n",
              "13082   2012-07-04   1     7   6        1           0  0.6212  0.69   \n",
              "13083   2012-07-04   1     7   7        1           0  0.6364  0.65   \n",
              "13084   2012-07-04   1     7   8        1           0  0.6515  0.61   \n",
              "13085   2012-07-04   1     7   9        1           0  0.6970  0.52   \n",
              "13086   2012-07-04   1     7  10        1           0  0.7273  0.46   \n",
              "13087   2012-07-04   1     7  11        1           0  0.7576  0.46   \n",
              "13088   2012-07-04   1     7  12        1           0  0.7879  0.41   \n",
              "13089   2012-07-04   1     7  13        1           0  0.8182  0.35   \n",
              "13090   2012-07-04   1     7  14        1           0  0.8182  0.37   \n",
              "13091   2012-07-04   1     7  15        1           0  0.8485  0.35   \n",
              "13092   2012-07-04   1     7  16        1           0  0.8485  0.35   \n",
              "13093   2012-07-04   1     7  17        1           0  0.8485  0.35   \n",
              "13094   2012-07-04   1     7  18        1           0  0.8485  0.42   \n",
              "13095   2012-07-04   1     7  19        1           0  0.8030  0.47   \n",
              "13096   2012-07-04   1     7  20        1           0  0.8030  0.47   \n",
              "13097   2012-07-04   1     7  21        1           0  0.8030  0.53   \n",
              "13098   2012-07-04   1     7  22        1           0  0.7879  0.56   \n",
              "13099   2012-07-04   1     7  23        1           0  0.6970  0.43   \n",
              "\n",
              "         windspeed  cnt season_name     WC           day_type  \n",
              "instant                                                        \n",
              "13076       0.0896  159        Fall  Clear  Holiday-Wednesday  \n",
              "13077       0.0000  123        Fall  Clear  Holiday-Wednesday  \n",
              "13078       0.1343   93        Fall  Clear  Holiday-Wednesday  \n",
              "13079       0.1940   32        Fall  Clear  Holiday-Wednesday  \n",
              "13080       0.2537   16        Fall  Clear  Holiday-Wednesday  \n",
              "13081       0.0000   19        Fall  Clear  Holiday-Wednesday  \n",
              "13082       0.0000   32        Fall  Clear  Holiday-Wednesday  \n",
              "13083       0.0000   72        Fall  Clear  Holiday-Wednesday  \n",
              "13084       0.1045  153        Fall  Clear  Holiday-Wednesday  \n",
              "13085       0.0000  293        Fall  Clear  Holiday-Wednesday  \n",
              "13086       0.0000  447        Fall  Clear  Holiday-Wednesday  \n",
              "13087       0.1343  485        Fall  Clear  Holiday-Wednesday  \n",
              "13088       0.2239  494        Fall  Clear  Holiday-Wednesday  \n",
              "13089       0.0000  499        Fall  Clear  Holiday-Wednesday  \n",
              "13090       0.1642  547        Fall  Clear  Holiday-Wednesday  \n",
              "13091       0.2985  454        Fall  Clear  Holiday-Wednesday  \n",
              "13092       0.2537  389        Fall  Clear  Holiday-Wednesday  \n",
              "13093       0.2985  414        Fall  Clear  Holiday-Wednesday  \n",
              "13094       0.1940  430        Fall  Clear  Holiday-Wednesday  \n",
              "13095       0.2239  432        Fall  Clear  Holiday-Wednesday  \n",
              "13096       0.2239  551        Fall  Clear  Holiday-Wednesday  \n",
              "13097       0.1343  584        Fall  Clear  Holiday-Wednesday  \n",
              "13098       0.2239  502        Fall  Clear  Holiday-Wednesday  \n",
              "13099       0.0896  183        Fall   Mist  Holiday-Wednesday  "
            ],
            "text/html": [
              "\n",
              "  <div id=\"df-c3d7c75d-1af6-4bc9-9578-4cacb04a2812\">\n",
              "    <div class=\"colab-df-container\">\n",
              "      <div>\n",
              "<style scoped>\n",
              "    .dataframe tbody tr th:only-of-type {\n",
              "        vertical-align: middle;\n",
              "    }\n",
              "\n",
              "    .dataframe tbody tr th {\n",
              "        vertical-align: top;\n",
              "    }\n",
              "\n",
              "    .dataframe thead th {\n",
              "        text-align: right;\n",
              "    }\n",
              "</style>\n",
              "<table border=\"1\" class=\"dataframe\">\n",
              "  <thead>\n",
              "    <tr style=\"text-align: right;\">\n",
              "      <th></th>\n",
              "      <th>dteday</th>\n",
              "      <th>yr</th>\n",
              "      <th>mnth</th>\n",
              "      <th>hr</th>\n",
              "      <th>holiday</th>\n",
              "      <th>workingday</th>\n",
              "      <th>atemp</th>\n",
              "      <th>hum</th>\n",
              "      <th>windspeed</th>\n",
              "      <th>cnt</th>\n",
              "      <th>season_name</th>\n",
              "      <th>WC</th>\n",
              "      <th>day_type</th>\n",
              "    </tr>\n",
              "    <tr>\n",
              "      <th>instant</th>\n",
              "      <th></th>\n",
              "      <th></th>\n",
              "      <th></th>\n",
              "      <th></th>\n",
              "      <th></th>\n",
              "      <th></th>\n",
              "      <th></th>\n",
              "      <th></th>\n",
              "      <th></th>\n",
              "      <th></th>\n",
              "      <th></th>\n",
              "      <th></th>\n",
              "      <th></th>\n",
              "    </tr>\n",
              "  </thead>\n",
              "  <tbody>\n",
              "    <tr>\n",
              "      <th>13076</th>\n",
              "      <td>2012-07-04</td>\n",
              "      <td>1</td>\n",
              "      <td>7</td>\n",
              "      <td>0</td>\n",
              "      <td>1</td>\n",
              "      <td>0</td>\n",
              "      <td>0.6364</td>\n",
              "      <td>0.79</td>\n",
              "      <td>0.0896</td>\n",
              "      <td>159</td>\n",
              "      <td>Fall</td>\n",
              "      <td>Clear</td>\n",
              "      <td>Holiday-Wednesday</td>\n",
              "    </tr>\n",
              "    <tr>\n",
              "      <th>13077</th>\n",
              "      <td>2012-07-04</td>\n",
              "      <td>1</td>\n",
              "      <td>7</td>\n",
              "      <td>1</td>\n",
              "      <td>1</td>\n",
              "      <td>0</td>\n",
              "      <td>0.6364</td>\n",
              "      <td>0.74</td>\n",
              "      <td>0.0000</td>\n",
              "      <td>123</td>\n",
              "      <td>Fall</td>\n",
              "      <td>Clear</td>\n",
              "      <td>Holiday-Wednesday</td>\n",
              "    </tr>\n",
              "    <tr>\n",
              "      <th>13078</th>\n",
              "      <td>2012-07-04</td>\n",
              "      <td>1</td>\n",
              "      <td>7</td>\n",
              "      <td>2</td>\n",
              "      <td>1</td>\n",
              "      <td>0</td>\n",
              "      <td>0.6061</td>\n",
              "      <td>0.83</td>\n",
              "      <td>0.1343</td>\n",
              "      <td>93</td>\n",
              "      <td>Fall</td>\n",
              "      <td>Clear</td>\n",
              "      <td>Holiday-Wednesday</td>\n",
              "    </tr>\n",
              "    <tr>\n",
              "      <th>13079</th>\n",
              "      <td>2012-07-04</td>\n",
              "      <td>1</td>\n",
              "      <td>7</td>\n",
              "      <td>3</td>\n",
              "      <td>1</td>\n",
              "      <td>0</td>\n",
              "      <td>0.6364</td>\n",
              "      <td>0.74</td>\n",
              "      <td>0.1940</td>\n",
              "      <td>32</td>\n",
              "      <td>Fall</td>\n",
              "      <td>Clear</td>\n",
              "      <td>Holiday-Wednesday</td>\n",
              "    </tr>\n",
              "    <tr>\n",
              "      <th>13080</th>\n",
              "      <td>2012-07-04</td>\n",
              "      <td>1</td>\n",
              "      <td>7</td>\n",
              "      <td>4</td>\n",
              "      <td>1</td>\n",
              "      <td>0</td>\n",
              "      <td>0.6364</td>\n",
              "      <td>0.69</td>\n",
              "      <td>0.2537</td>\n",
              "      <td>16</td>\n",
              "      <td>Fall</td>\n",
              "      <td>Clear</td>\n",
              "      <td>Holiday-Wednesday</td>\n",
              "    </tr>\n",
              "    <tr>\n",
              "      <th>13081</th>\n",
              "      <td>2012-07-04</td>\n",
              "      <td>1</td>\n",
              "      <td>7</td>\n",
              "      <td>5</td>\n",
              "      <td>1</td>\n",
              "      <td>0</td>\n",
              "      <td>0.6212</td>\n",
              "      <td>0.69</td>\n",
              "      <td>0.0000</td>\n",
              "      <td>19</td>\n",
              "      <td>Fall</td>\n",
              "      <td>Clear</td>\n",
              "      <td>Holiday-Wednesday</td>\n",
              "    </tr>\n",
              "    <tr>\n",
              "      <th>13082</th>\n",
              "      <td>2012-07-04</td>\n",
              "      <td>1</td>\n",
              "      <td>7</td>\n",
              "      <td>6</td>\n",
              "      <td>1</td>\n",
              "      <td>0</td>\n",
              "      <td>0.6212</td>\n",
              "      <td>0.69</td>\n",
              "      <td>0.0000</td>\n",
              "      <td>32</td>\n",
              "      <td>Fall</td>\n",
              "      <td>Clear</td>\n",
              "      <td>Holiday-Wednesday</td>\n",
              "    </tr>\n",
              "    <tr>\n",
              "      <th>13083</th>\n",
              "      <td>2012-07-04</td>\n",
              "      <td>1</td>\n",
              "      <td>7</td>\n",
              "      <td>7</td>\n",
              "      <td>1</td>\n",
              "      <td>0</td>\n",
              "      <td>0.6364</td>\n",
              "      <td>0.65</td>\n",
              "      <td>0.0000</td>\n",
              "      <td>72</td>\n",
              "      <td>Fall</td>\n",
              "      <td>Clear</td>\n",
              "      <td>Holiday-Wednesday</td>\n",
              "    </tr>\n",
              "    <tr>\n",
              "      <th>13084</th>\n",
              "      <td>2012-07-04</td>\n",
              "      <td>1</td>\n",
              "      <td>7</td>\n",
              "      <td>8</td>\n",
              "      <td>1</td>\n",
              "      <td>0</td>\n",
              "      <td>0.6515</td>\n",
              "      <td>0.61</td>\n",
              "      <td>0.1045</td>\n",
              "      <td>153</td>\n",
              "      <td>Fall</td>\n",
              "      <td>Clear</td>\n",
              "      <td>Holiday-Wednesday</td>\n",
              "    </tr>\n",
              "    <tr>\n",
              "      <th>13085</th>\n",
              "      <td>2012-07-04</td>\n",
              "      <td>1</td>\n",
              "      <td>7</td>\n",
              "      <td>9</td>\n",
              "      <td>1</td>\n",
              "      <td>0</td>\n",
              "      <td>0.6970</td>\n",
              "      <td>0.52</td>\n",
              "      <td>0.0000</td>\n",
              "      <td>293</td>\n",
              "      <td>Fall</td>\n",
              "      <td>Clear</td>\n",
              "      <td>Holiday-Wednesday</td>\n",
              "    </tr>\n",
              "    <tr>\n",
              "      <th>13086</th>\n",
              "      <td>2012-07-04</td>\n",
              "      <td>1</td>\n",
              "      <td>7</td>\n",
              "      <td>10</td>\n",
              "      <td>1</td>\n",
              "      <td>0</td>\n",
              "      <td>0.7273</td>\n",
              "      <td>0.46</td>\n",
              "      <td>0.0000</td>\n",
              "      <td>447</td>\n",
              "      <td>Fall</td>\n",
              "      <td>Clear</td>\n",
              "      <td>Holiday-Wednesday</td>\n",
              "    </tr>\n",
              "    <tr>\n",
              "      <th>13087</th>\n",
              "      <td>2012-07-04</td>\n",
              "      <td>1</td>\n",
              "      <td>7</td>\n",
              "      <td>11</td>\n",
              "      <td>1</td>\n",
              "      <td>0</td>\n",
              "      <td>0.7576</td>\n",
              "      <td>0.46</td>\n",
              "      <td>0.1343</td>\n",
              "      <td>485</td>\n",
              "      <td>Fall</td>\n",
              "      <td>Clear</td>\n",
              "      <td>Holiday-Wednesday</td>\n",
              "    </tr>\n",
              "    <tr>\n",
              "      <th>13088</th>\n",
              "      <td>2012-07-04</td>\n",
              "      <td>1</td>\n",
              "      <td>7</td>\n",
              "      <td>12</td>\n",
              "      <td>1</td>\n",
              "      <td>0</td>\n",
              "      <td>0.7879</td>\n",
              "      <td>0.41</td>\n",
              "      <td>0.2239</td>\n",
              "      <td>494</td>\n",
              "      <td>Fall</td>\n",
              "      <td>Clear</td>\n",
              "      <td>Holiday-Wednesday</td>\n",
              "    </tr>\n",
              "    <tr>\n",
              "      <th>13089</th>\n",
              "      <td>2012-07-04</td>\n",
              "      <td>1</td>\n",
              "      <td>7</td>\n",
              "      <td>13</td>\n",
              "      <td>1</td>\n",
              "      <td>0</td>\n",
              "      <td>0.8182</td>\n",
              "      <td>0.35</td>\n",
              "      <td>0.0000</td>\n",
              "      <td>499</td>\n",
              "      <td>Fall</td>\n",
              "      <td>Clear</td>\n",
              "      <td>Holiday-Wednesday</td>\n",
              "    </tr>\n",
              "    <tr>\n",
              "      <th>13090</th>\n",
              "      <td>2012-07-04</td>\n",
              "      <td>1</td>\n",
              "      <td>7</td>\n",
              "      <td>14</td>\n",
              "      <td>1</td>\n",
              "      <td>0</td>\n",
              "      <td>0.8182</td>\n",
              "      <td>0.37</td>\n",
              "      <td>0.1642</td>\n",
              "      <td>547</td>\n",
              "      <td>Fall</td>\n",
              "      <td>Clear</td>\n",
              "      <td>Holiday-Wednesday</td>\n",
              "    </tr>\n",
              "    <tr>\n",
              "      <th>13091</th>\n",
              "      <td>2012-07-04</td>\n",
              "      <td>1</td>\n",
              "      <td>7</td>\n",
              "      <td>15</td>\n",
              "      <td>1</td>\n",
              "      <td>0</td>\n",
              "      <td>0.8485</td>\n",
              "      <td>0.35</td>\n",
              "      <td>0.2985</td>\n",
              "      <td>454</td>\n",
              "      <td>Fall</td>\n",
              "      <td>Clear</td>\n",
              "      <td>Holiday-Wednesday</td>\n",
              "    </tr>\n",
              "    <tr>\n",
              "      <th>13092</th>\n",
              "      <td>2012-07-04</td>\n",
              "      <td>1</td>\n",
              "      <td>7</td>\n",
              "      <td>16</td>\n",
              "      <td>1</td>\n",
              "      <td>0</td>\n",
              "      <td>0.8485</td>\n",
              "      <td>0.35</td>\n",
              "      <td>0.2537</td>\n",
              "      <td>389</td>\n",
              "      <td>Fall</td>\n",
              "      <td>Clear</td>\n",
              "      <td>Holiday-Wednesday</td>\n",
              "    </tr>\n",
              "    <tr>\n",
              "      <th>13093</th>\n",
              "      <td>2012-07-04</td>\n",
              "      <td>1</td>\n",
              "      <td>7</td>\n",
              "      <td>17</td>\n",
              "      <td>1</td>\n",
              "      <td>0</td>\n",
              "      <td>0.8485</td>\n",
              "      <td>0.35</td>\n",
              "      <td>0.2985</td>\n",
              "      <td>414</td>\n",
              "      <td>Fall</td>\n",
              "      <td>Clear</td>\n",
              "      <td>Holiday-Wednesday</td>\n",
              "    </tr>\n",
              "    <tr>\n",
              "      <th>13094</th>\n",
              "      <td>2012-07-04</td>\n",
              "      <td>1</td>\n",
              "      <td>7</td>\n",
              "      <td>18</td>\n",
              "      <td>1</td>\n",
              "      <td>0</td>\n",
              "      <td>0.8485</td>\n",
              "      <td>0.42</td>\n",
              "      <td>0.1940</td>\n",
              "      <td>430</td>\n",
              "      <td>Fall</td>\n",
              "      <td>Clear</td>\n",
              "      <td>Holiday-Wednesday</td>\n",
              "    </tr>\n",
              "    <tr>\n",
              "      <th>13095</th>\n",
              "      <td>2012-07-04</td>\n",
              "      <td>1</td>\n",
              "      <td>7</td>\n",
              "      <td>19</td>\n",
              "      <td>1</td>\n",
              "      <td>0</td>\n",
              "      <td>0.8030</td>\n",
              "      <td>0.47</td>\n",
              "      <td>0.2239</td>\n",
              "      <td>432</td>\n",
              "      <td>Fall</td>\n",
              "      <td>Clear</td>\n",
              "      <td>Holiday-Wednesday</td>\n",
              "    </tr>\n",
              "    <tr>\n",
              "      <th>13096</th>\n",
              "      <td>2012-07-04</td>\n",
              "      <td>1</td>\n",
              "      <td>7</td>\n",
              "      <td>20</td>\n",
              "      <td>1</td>\n",
              "      <td>0</td>\n",
              "      <td>0.8030</td>\n",
              "      <td>0.47</td>\n",
              "      <td>0.2239</td>\n",
              "      <td>551</td>\n",
              "      <td>Fall</td>\n",
              "      <td>Clear</td>\n",
              "      <td>Holiday-Wednesday</td>\n",
              "    </tr>\n",
              "    <tr>\n",
              "      <th>13097</th>\n",
              "      <td>2012-07-04</td>\n",
              "      <td>1</td>\n",
              "      <td>7</td>\n",
              "      <td>21</td>\n",
              "      <td>1</td>\n",
              "      <td>0</td>\n",
              "      <td>0.8030</td>\n",
              "      <td>0.53</td>\n",
              "      <td>0.1343</td>\n",
              "      <td>584</td>\n",
              "      <td>Fall</td>\n",
              "      <td>Clear</td>\n",
              "      <td>Holiday-Wednesday</td>\n",
              "    </tr>\n",
              "    <tr>\n",
              "      <th>13098</th>\n",
              "      <td>2012-07-04</td>\n",
              "      <td>1</td>\n",
              "      <td>7</td>\n",
              "      <td>22</td>\n",
              "      <td>1</td>\n",
              "      <td>0</td>\n",
              "      <td>0.7879</td>\n",
              "      <td>0.56</td>\n",
              "      <td>0.2239</td>\n",
              "      <td>502</td>\n",
              "      <td>Fall</td>\n",
              "      <td>Clear</td>\n",
              "      <td>Holiday-Wednesday</td>\n",
              "    </tr>\n",
              "    <tr>\n",
              "      <th>13099</th>\n",
              "      <td>2012-07-04</td>\n",
              "      <td>1</td>\n",
              "      <td>7</td>\n",
              "      <td>23</td>\n",
              "      <td>1</td>\n",
              "      <td>0</td>\n",
              "      <td>0.6970</td>\n",
              "      <td>0.43</td>\n",
              "      <td>0.0896</td>\n",
              "      <td>183</td>\n",
              "      <td>Fall</td>\n",
              "      <td>Mist</td>\n",
              "      <td>Holiday-Wednesday</td>\n",
              "    </tr>\n",
              "  </tbody>\n",
              "</table>\n",
              "</div>\n",
              "      <button class=\"colab-df-convert\" onclick=\"convertToInteractive('df-c3d7c75d-1af6-4bc9-9578-4cacb04a2812')\"\n",
              "              title=\"Convert this dataframe to an interactive table.\"\n",
              "              style=\"display:none;\">\n",
              "        \n",
              "  <svg xmlns=\"http://www.w3.org/2000/svg\" height=\"24px\"viewBox=\"0 0 24 24\"\n",
              "       width=\"24px\">\n",
              "    <path d=\"M0 0h24v24H0V0z\" fill=\"none\"/>\n",
              "    <path d=\"M18.56 5.44l.94 2.06.94-2.06 2.06-.94-2.06-.94-.94-2.06-.94 2.06-2.06.94zm-11 1L8.5 8.5l.94-2.06 2.06-.94-2.06-.94L8.5 2.5l-.94 2.06-2.06.94zm10 10l.94 2.06.94-2.06 2.06-.94-2.06-.94-.94-2.06-.94 2.06-2.06.94z\"/><path d=\"M17.41 7.96l-1.37-1.37c-.4-.4-.92-.59-1.43-.59-.52 0-1.04.2-1.43.59L10.3 9.45l-7.72 7.72c-.78.78-.78 2.05 0 2.83L4 21.41c.39.39.9.59 1.41.59.51 0 1.02-.2 1.41-.59l7.78-7.78 2.81-2.81c.8-.78.8-2.07 0-2.86zM5.41 20L4 18.59l7.72-7.72 1.47 1.35L5.41 20z\"/>\n",
              "  </svg>\n",
              "      </button>\n",
              "      \n",
              "  <style>\n",
              "    .colab-df-container {\n",
              "      display:flex;\n",
              "      flex-wrap:wrap;\n",
              "      gap: 12px;\n",
              "    }\n",
              "\n",
              "    .colab-df-convert {\n",
              "      background-color: #E8F0FE;\n",
              "      border: none;\n",
              "      border-radius: 50%;\n",
              "      cursor: pointer;\n",
              "      display: none;\n",
              "      fill: #1967D2;\n",
              "      height: 32px;\n",
              "      padding: 0 0 0 0;\n",
              "      width: 32px;\n",
              "    }\n",
              "\n",
              "    .colab-df-convert:hover {\n",
              "      background-color: #E2EBFA;\n",
              "      box-shadow: 0px 1px 2px rgba(60, 64, 67, 0.3), 0px 1px 3px 1px rgba(60, 64, 67, 0.15);\n",
              "      fill: #174EA6;\n",
              "    }\n",
              "\n",
              "    [theme=dark] .colab-df-convert {\n",
              "      background-color: #3B4455;\n",
              "      fill: #D2E3FC;\n",
              "    }\n",
              "\n",
              "    [theme=dark] .colab-df-convert:hover {\n",
              "      background-color: #434B5C;\n",
              "      box-shadow: 0px 1px 3px 1px rgba(0, 0, 0, 0.15);\n",
              "      filter: drop-shadow(0px 1px 2px rgba(0, 0, 0, 0.3));\n",
              "      fill: #FFFFFF;\n",
              "    }\n",
              "  </style>\n",
              "\n",
              "      <script>\n",
              "        const buttonEl =\n",
              "          document.querySelector('#df-c3d7c75d-1af6-4bc9-9578-4cacb04a2812 button.colab-df-convert');\n",
              "        buttonEl.style.display =\n",
              "          google.colab.kernel.accessAllowed ? 'block' : 'none';\n",
              "\n",
              "        async function convertToInteractive(key) {\n",
              "          const element = document.querySelector('#df-c3d7c75d-1af6-4bc9-9578-4cacb04a2812');\n",
              "          const dataTable =\n",
              "            await google.colab.kernel.invokeFunction('convertToInteractive',\n",
              "                                                     [key], {});\n",
              "          if (!dataTable) return;\n",
              "\n",
              "          const docLinkHtml = 'Like what you see? Visit the ' +\n",
              "            '<a target=\"_blank\" href=https://colab.research.google.com/notebooks/data_table.ipynb>data table notebook</a>'\n",
              "            + ' to learn more about interactive tables.';\n",
              "          element.innerHTML = '';\n",
              "          dataTable['output_type'] = 'display_data';\n",
              "          await google.colab.output.renderOutput(dataTable, element);\n",
              "          const docLink = document.createElement('div');\n",
              "          docLink.innerHTML = docLinkHtml;\n",
              "          element.appendChild(docLink);\n",
              "        }\n",
              "      </script>\n",
              "    </div>\n",
              "  </div>\n",
              "  "
            ]
          },
          "metadata": {},
          "execution_count": 263
        }
      ],
      "source": [
        "df_hour[df_hour['day_type']=='Holiday-Wednesday']"
      ]
    },
    {
      "cell_type": "markdown",
      "source": [
        "NOTE: The bikes rented is significantly high for a Wednesday when it was a holiday."
      ],
      "metadata": {
        "id": "47kxBhqe8kH9"
      },
      "id": "47kxBhqe8kH9"
    },
    {
      "cell_type": "code",
      "execution_count": null,
      "id": "ebe21b9f",
      "metadata": {
        "id": "ebe21b9f"
      },
      "outputs": [],
      "source": [
        "df_hour[['day', 'type']] = df_hour['day_type'].str.split('-', 2, expand=True)#Splitting the day_type variable into two columns"
      ]
    },
    {
      "cell_type": "code",
      "execution_count": null,
      "id": "3b617d53",
      "metadata": {
        "colab": {
          "base_uri": "https://localhost:8080/",
          "height": 237
        },
        "id": "3b617d53",
        "outputId": "72075f92-4820-48bd-c6dc-5c842ed086ec"
      },
      "outputs": [
        {
          "output_type": "execute_result",
          "data": {
            "text/plain": [
              "            dteday  yr  mnth  hr  holiday  workingday   atemp   hum  \\\n",
              "instant                                                               \n",
              "1       2011-01-01   0     1   0        0           0  0.2879  0.81   \n",
              "2       2011-01-01   0     1   1        0           0  0.2727  0.80   \n",
              "3       2011-01-01   0     1   2        0           0  0.2727  0.80   \n",
              "4       2011-01-01   0     1   3        0           0  0.2879  0.75   \n",
              "5       2011-01-01   0     1   4        0           0  0.2879  0.75   \n",
              "\n",
              "         windspeed  cnt season_name     WC          day_type      day  \\\n",
              "instant                                                                 \n",
              "1              0.0   16      Spring  Clear  Weekend-Saturday  Weekend   \n",
              "2              0.0   40      Spring  Clear  Weekend-Saturday  Weekend   \n",
              "3              0.0   32      Spring  Clear  Weekend-Saturday  Weekend   \n",
              "4              0.0   13      Spring  Clear  Weekend-Saturday  Weekend   \n",
              "5              0.0    1      Spring  Clear  Weekend-Saturday  Weekend   \n",
              "\n",
              "             type  \n",
              "instant            \n",
              "1        Saturday  \n",
              "2        Saturday  \n",
              "3        Saturday  \n",
              "4        Saturday  \n",
              "5        Saturday  "
            ],
            "text/html": [
              "\n",
              "  <div id=\"df-0c246d40-4353-451b-9fcb-372fc3448968\">\n",
              "    <div class=\"colab-df-container\">\n",
              "      <div>\n",
              "<style scoped>\n",
              "    .dataframe tbody tr th:only-of-type {\n",
              "        vertical-align: middle;\n",
              "    }\n",
              "\n",
              "    .dataframe tbody tr th {\n",
              "        vertical-align: top;\n",
              "    }\n",
              "\n",
              "    .dataframe thead th {\n",
              "        text-align: right;\n",
              "    }\n",
              "</style>\n",
              "<table border=\"1\" class=\"dataframe\">\n",
              "  <thead>\n",
              "    <tr style=\"text-align: right;\">\n",
              "      <th></th>\n",
              "      <th>dteday</th>\n",
              "      <th>yr</th>\n",
              "      <th>mnth</th>\n",
              "      <th>hr</th>\n",
              "      <th>holiday</th>\n",
              "      <th>workingday</th>\n",
              "      <th>atemp</th>\n",
              "      <th>hum</th>\n",
              "      <th>windspeed</th>\n",
              "      <th>cnt</th>\n",
              "      <th>season_name</th>\n",
              "      <th>WC</th>\n",
              "      <th>day_type</th>\n",
              "      <th>day</th>\n",
              "      <th>type</th>\n",
              "    </tr>\n",
              "    <tr>\n",
              "      <th>instant</th>\n",
              "      <th></th>\n",
              "      <th></th>\n",
              "      <th></th>\n",
              "      <th></th>\n",
              "      <th></th>\n",
              "      <th></th>\n",
              "      <th></th>\n",
              "      <th></th>\n",
              "      <th></th>\n",
              "      <th></th>\n",
              "      <th></th>\n",
              "      <th></th>\n",
              "      <th></th>\n",
              "      <th></th>\n",
              "      <th></th>\n",
              "    </tr>\n",
              "  </thead>\n",
              "  <tbody>\n",
              "    <tr>\n",
              "      <th>1</th>\n",
              "      <td>2011-01-01</td>\n",
              "      <td>0</td>\n",
              "      <td>1</td>\n",
              "      <td>0</td>\n",
              "      <td>0</td>\n",
              "      <td>0</td>\n",
              "      <td>0.2879</td>\n",
              "      <td>0.81</td>\n",
              "      <td>0.0</td>\n",
              "      <td>16</td>\n",
              "      <td>Spring</td>\n",
              "      <td>Clear</td>\n",
              "      <td>Weekend-Saturday</td>\n",
              "      <td>Weekend</td>\n",
              "      <td>Saturday</td>\n",
              "    </tr>\n",
              "    <tr>\n",
              "      <th>2</th>\n",
              "      <td>2011-01-01</td>\n",
              "      <td>0</td>\n",
              "      <td>1</td>\n",
              "      <td>1</td>\n",
              "      <td>0</td>\n",
              "      <td>0</td>\n",
              "      <td>0.2727</td>\n",
              "      <td>0.80</td>\n",
              "      <td>0.0</td>\n",
              "      <td>40</td>\n",
              "      <td>Spring</td>\n",
              "      <td>Clear</td>\n",
              "      <td>Weekend-Saturday</td>\n",
              "      <td>Weekend</td>\n",
              "      <td>Saturday</td>\n",
              "    </tr>\n",
              "    <tr>\n",
              "      <th>3</th>\n",
              "      <td>2011-01-01</td>\n",
              "      <td>0</td>\n",
              "      <td>1</td>\n",
              "      <td>2</td>\n",
              "      <td>0</td>\n",
              "      <td>0</td>\n",
              "      <td>0.2727</td>\n",
              "      <td>0.80</td>\n",
              "      <td>0.0</td>\n",
              "      <td>32</td>\n",
              "      <td>Spring</td>\n",
              "      <td>Clear</td>\n",
              "      <td>Weekend-Saturday</td>\n",
              "      <td>Weekend</td>\n",
              "      <td>Saturday</td>\n",
              "    </tr>\n",
              "    <tr>\n",
              "      <th>4</th>\n",
              "      <td>2011-01-01</td>\n",
              "      <td>0</td>\n",
              "      <td>1</td>\n",
              "      <td>3</td>\n",
              "      <td>0</td>\n",
              "      <td>0</td>\n",
              "      <td>0.2879</td>\n",
              "      <td>0.75</td>\n",
              "      <td>0.0</td>\n",
              "      <td>13</td>\n",
              "      <td>Spring</td>\n",
              "      <td>Clear</td>\n",
              "      <td>Weekend-Saturday</td>\n",
              "      <td>Weekend</td>\n",
              "      <td>Saturday</td>\n",
              "    </tr>\n",
              "    <tr>\n",
              "      <th>5</th>\n",
              "      <td>2011-01-01</td>\n",
              "      <td>0</td>\n",
              "      <td>1</td>\n",
              "      <td>4</td>\n",
              "      <td>0</td>\n",
              "      <td>0</td>\n",
              "      <td>0.2879</td>\n",
              "      <td>0.75</td>\n",
              "      <td>0.0</td>\n",
              "      <td>1</td>\n",
              "      <td>Spring</td>\n",
              "      <td>Clear</td>\n",
              "      <td>Weekend-Saturday</td>\n",
              "      <td>Weekend</td>\n",
              "      <td>Saturday</td>\n",
              "    </tr>\n",
              "  </tbody>\n",
              "</table>\n",
              "</div>\n",
              "      <button class=\"colab-df-convert\" onclick=\"convertToInteractive('df-0c246d40-4353-451b-9fcb-372fc3448968')\"\n",
              "              title=\"Convert this dataframe to an interactive table.\"\n",
              "              style=\"display:none;\">\n",
              "        \n",
              "  <svg xmlns=\"http://www.w3.org/2000/svg\" height=\"24px\"viewBox=\"0 0 24 24\"\n",
              "       width=\"24px\">\n",
              "    <path d=\"M0 0h24v24H0V0z\" fill=\"none\"/>\n",
              "    <path d=\"M18.56 5.44l.94 2.06.94-2.06 2.06-.94-2.06-.94-.94-2.06-.94 2.06-2.06.94zm-11 1L8.5 8.5l.94-2.06 2.06-.94-2.06-.94L8.5 2.5l-.94 2.06-2.06.94zm10 10l.94 2.06.94-2.06 2.06-.94-2.06-.94-.94-2.06-.94 2.06-2.06.94z\"/><path d=\"M17.41 7.96l-1.37-1.37c-.4-.4-.92-.59-1.43-.59-.52 0-1.04.2-1.43.59L10.3 9.45l-7.72 7.72c-.78.78-.78 2.05 0 2.83L4 21.41c.39.39.9.59 1.41.59.51 0 1.02-.2 1.41-.59l7.78-7.78 2.81-2.81c.8-.78.8-2.07 0-2.86zM5.41 20L4 18.59l7.72-7.72 1.47 1.35L5.41 20z\"/>\n",
              "  </svg>\n",
              "      </button>\n",
              "      \n",
              "  <style>\n",
              "    .colab-df-container {\n",
              "      display:flex;\n",
              "      flex-wrap:wrap;\n",
              "      gap: 12px;\n",
              "    }\n",
              "\n",
              "    .colab-df-convert {\n",
              "      background-color: #E8F0FE;\n",
              "      border: none;\n",
              "      border-radius: 50%;\n",
              "      cursor: pointer;\n",
              "      display: none;\n",
              "      fill: #1967D2;\n",
              "      height: 32px;\n",
              "      padding: 0 0 0 0;\n",
              "      width: 32px;\n",
              "    }\n",
              "\n",
              "    .colab-df-convert:hover {\n",
              "      background-color: #E2EBFA;\n",
              "      box-shadow: 0px 1px 2px rgba(60, 64, 67, 0.3), 0px 1px 3px 1px rgba(60, 64, 67, 0.15);\n",
              "      fill: #174EA6;\n",
              "    }\n",
              "\n",
              "    [theme=dark] .colab-df-convert {\n",
              "      background-color: #3B4455;\n",
              "      fill: #D2E3FC;\n",
              "    }\n",
              "\n",
              "    [theme=dark] .colab-df-convert:hover {\n",
              "      background-color: #434B5C;\n",
              "      box-shadow: 0px 1px 3px 1px rgba(0, 0, 0, 0.15);\n",
              "      filter: drop-shadow(0px 1px 2px rgba(0, 0, 0, 0.3));\n",
              "      fill: #FFFFFF;\n",
              "    }\n",
              "  </style>\n",
              "\n",
              "      <script>\n",
              "        const buttonEl =\n",
              "          document.querySelector('#df-0c246d40-4353-451b-9fcb-372fc3448968 button.colab-df-convert');\n",
              "        buttonEl.style.display =\n",
              "          google.colab.kernel.accessAllowed ? 'block' : 'none';\n",
              "\n",
              "        async function convertToInteractive(key) {\n",
              "          const element = document.querySelector('#df-0c246d40-4353-451b-9fcb-372fc3448968');\n",
              "          const dataTable =\n",
              "            await google.colab.kernel.invokeFunction('convertToInteractive',\n",
              "                                                     [key], {});\n",
              "          if (!dataTable) return;\n",
              "\n",
              "          const docLinkHtml = 'Like what you see? Visit the ' +\n",
              "            '<a target=\"_blank\" href=https://colab.research.google.com/notebooks/data_table.ipynb>data table notebook</a>'\n",
              "            + ' to learn more about interactive tables.';\n",
              "          element.innerHTML = '';\n",
              "          dataTable['output_type'] = 'display_data';\n",
              "          await google.colab.output.renderOutput(dataTable, element);\n",
              "          const docLink = document.createElement('div');\n",
              "          docLink.innerHTML = docLinkHtml;\n",
              "          element.appendChild(docLink);\n",
              "        }\n",
              "      </script>\n",
              "    </div>\n",
              "  </div>\n",
              "  "
            ]
          },
          "metadata": {},
          "execution_count": 265
        }
      ],
      "source": [
        "df_hour.head()"
      ]
    },
    {
      "cell_type": "code",
      "execution_count": null,
      "id": "93aa3471",
      "metadata": {
        "colab": {
          "base_uri": "https://localhost:8080/",
          "height": 282
        },
        "id": "93aa3471",
        "outputId": "792f3a5a-f45a-4b7a-909a-ec1a77e05e7f"
      },
      "outputs": [
        {
          "output_type": "execute_result",
          "data": {
            "text/plain": [
              "<BarContainer object of 3 artists>"
            ]
          },
          "metadata": {},
          "execution_count": 266
        },
        {
          "output_type": "display_data",
          "data": {
            "text/plain": [
              "<Figure size 432x288 with 1 Axes>"
            ],
            "image/png": "[encoded data removed]"
          },
          "metadata": {
            "needs_background": "light"
          }
        }
      ],
      "source": [
        "d=df_hour.groupby('day')['cnt'].median().sort_values()\n",
        "plt.barh(d.index,d)"
      ]
    },
    {
      "cell_type": "markdown",
      "source": [
        "NOTE: Maximum bikes are hired during the working days."
      ],
      "metadata": {
        "id": "D428Kb2R88AD"
      },
      "id": "D428Kb2R88AD"
    },
    {
      "cell_type": "code",
      "execution_count": null,
      "id": "354f08ae",
      "metadata": {
        "colab": {
          "base_uri": "https://localhost:8080/",
          "height": 282
        },
        "id": "354f08ae",
        "outputId": "30a780b1-8f38-40e4-d604-f4a64c65e6e4"
      },
      "outputs": [
        {
          "output_type": "execute_result",
          "data": {
            "text/plain": [
              "<BarContainer object of 7 artists>"
            ]
          },
          "metadata": {},
          "execution_count": 267
        },
        {
          "output_type": "display_data",
          "data": {
            "text/plain": [
              "<Figure size 432x288 with 1 Axes>"
            ],
            "image/png": "[encoded data removed]"
          },
          "metadata": {
            "needs_background": "light"
          }
        }
      ],
      "source": [
        "d1=df_hour.groupby('type')['cnt'].median().sort_values()\n",
        "plt.barh(d1.index,d1)"
      ]
    },
    {
      "cell_type": "markdown",
      "source": [
        "NOTE: Friday , Thursdays are the days when more bikes are hired than the rest of weekdays."
      ],
      "metadata": {
        "id": "NVC-bkPk9YNV"
      },
      "id": "NVC-bkPk9YNV"
    },
    {
      "cell_type": "markdown",
      "id": "e77ffaf9",
      "metadata": {
        "id": "e77ffaf9"
      },
      "source": [
        "Summary: \n",
        "1. Season wise - Fall season has got the highest median \n",
        "2. Monthwise- May to October has max hiring\n",
        "3. Clear - max median hiring, for heavy rain, it is min\n",
        "4. Friday - median max hiring"
      ]
    },
    {
      "cell_type": "markdown",
      "id": "ceb071bd",
      "metadata": {
        "id": "ceb071bd"
      },
      "source": [
        "We have dropped 'atemp' since there is high correlation with temp. Our target variable is 'cnt'. \n",
        "\n",
        "We have seen before that hum and windspeed have weak correlation with cnt but the correlation is significant indicating that there linear relationship is significant. Hence, we are not dropping those variables.\n",
        "\n",
        "Hum and windspeed have weak negative correlation, therefore, we are not dropping any of them.\n"
      ]
    },
    {
      "cell_type": "code",
      "execution_count": null,
      "id": "a368f21f",
      "metadata": {
        "id": "a368f21f"
      },
      "outputs": [],
      "source": [
        "df_hour.drop(['dteday','holiday','workingday','day_type'],axis=1,inplace=True)\n",
        "#We have created variables for weathersit - WC, season-seaon_name, holiday-day, workingday-type. Hence, those variables are dropped"
      ]
    },
    {
      "cell_type": "code",
      "source": [
        "categorical_cols = df_hour.select_dtypes('object').columns.tolist()\n",
        "categorical_cols"
      ],
      "metadata": {
        "colab": {
          "base_uri": "https://localhost:8080/"
        },
        "id": "x3YhYE0O_xgZ",
        "outputId": "3266f14a-3483-4ce8-b48e-07ecbb8058b3"
      },
      "id": "x3YhYE0O_xgZ",
      "execution_count": null,
      "outputs": [
        {
          "output_type": "execute_result",
          "data": {
            "text/plain": [
              "['season_name', 'WC', 'day', 'type']"
            ]
          },
          "metadata": {},
          "execution_count": 269
        }
      ]
    },
    {
      "cell_type": "code",
      "execution_count": null,
      "id": "28a003dd",
      "metadata": {
        "colab": {
          "base_uri": "https://localhost:8080/"
        },
        "id": "28a003dd",
        "outputId": "d025dd18-8067-491a-d0a0-c9f7abeb7e87"
      },
      "outputs": [
        {
          "output_type": "execute_result",
          "data": {
            "text/plain": [
              "OneHotEncoder(handle_unknown='ignore', sparse=False)"
            ]
          },
          "metadata": {},
          "execution_count": 270
        }
      ],
      "source": [
        "#One hot encoding is done on the data\n",
        "from sklearn.preprocessing import OneHotEncoder\n",
        "encoder = OneHotEncoder(sparse=False, handle_unknown='ignore')\n",
        "encoder.fit(df_hour[categorical_cols])"
      ]
    },
    {
      "cell_type": "code",
      "source": [
        "encoded_cols = list(encoder.get_feature_names(categorical_cols))\n"
      ],
      "metadata": {
        "colab": {
          "base_uri": "https://localhost:8080/"
        },
        "id": "pKO2-S-u_-CW",
        "outputId": "b69d92d9-723c-43fc-89d1-0c6f4758113f"
      },
      "id": "pKO2-S-u_-CW",
      "execution_count": null,
      "outputs": [
        {
          "output_type": "stream",
          "name": "stderr",
          "text": [
            "/usr/local/lib/python3.7/dist-packages/sklearn/utils/deprecation.py:87: FutureWarning: Function get_feature_names is deprecated; get_feature_names is deprecated in 1.0 and will be removed in 1.2. Please use get_feature_names_out instead.\n",
            "  warnings.warn(msg, category=FutureWarning)\n"
          ]
        }
      ]
    },
    {
      "cell_type": "code",
      "source": [
        "df_hour[encoded_cols] = encoder.transform(df_hour[categorical_cols])"
      ],
      "metadata": {
        "id": "RehBPznaAEpr"
      },
      "id": "RehBPznaAEpr",
      "execution_count": null,
      "outputs": []
    },
    {
      "cell_type": "code",
      "source": [
        "df_hour.head(2)"
      ],
      "metadata": {
        "colab": {
          "base_uri": "https://localhost:8080/",
          "height": 237
        },
        "id": "lPueYIJaAL0y",
        "outputId": "339cb3c1-2614-4a5a-bbb0-025db15feb33"
      },
      "id": "lPueYIJaAL0y",
      "execution_count": null,
      "outputs": [
        {
          "output_type": "execute_result",
          "data": {
            "text/plain": [
              "         yr  mnth  hr   atemp   hum  windspeed  cnt season_name     WC  \\\n",
              "instant                                                                  \n",
              "1         0     1   0  0.2879  0.81        0.0   16      Spring  Clear   \n",
              "2         0     1   1  0.2727  0.80        0.0   40      Spring  Clear   \n",
              "\n",
              "             day  ... day_Holiday  day_Weekend  day_Work  type_Friday  \\\n",
              "instant           ...                                                   \n",
              "1        Weekend  ...         0.0          1.0       0.0          0.0   \n",
              "2        Weekend  ...         0.0          1.0       0.0          0.0   \n",
              "\n",
              "         type_Monday  type_Saturday  type_Sunday  type_Thursday  type_Tuesday  \\\n",
              "instant                                                                         \n",
              "1                0.0            1.0          0.0            0.0           0.0   \n",
              "2                0.0            1.0          0.0            0.0           0.0   \n",
              "\n",
              "         type_Wednesday  \n",
              "instant                  \n",
              "1                   0.0  \n",
              "2                   0.0  \n",
              "\n",
              "[2 rows x 29 columns]"
            ],
            "text/html": [
              "\n",
              "  <div id=\"df-3ce3a4d1-77bc-4472-85c8-ed4a59136620\">\n",
              "    <div class=\"colab-df-container\">\n",
              "      <div>\n",
              "<style scoped>\n",
              "    .dataframe tbody tr th:only-of-type {\n",
              "        vertical-align: middle;\n",
              "    }\n",
              "\n",
              "    .dataframe tbody tr th {\n",
              "        vertical-align: top;\n",
              "    }\n",
              "\n",
              "    .dataframe thead th {\n",
              "        text-align: right;\n",
              "    }\n",
              "</style>\n",
              "<table border=\"1\" class=\"dataframe\">\n",
              "  <thead>\n",
              "    <tr style=\"text-align: right;\">\n",
              "      <th></th>\n",
              "      <th>yr</th>\n",
              "      <th>mnth</th>\n",
              "      <th>hr</th>\n",
              "      <th>atemp</th>\n",
              "      <th>hum</th>\n",
              "      <th>windspeed</th>\n",
              "      <th>cnt</th>\n",
              "      <th>season_name</th>\n",
              "      <th>WC</th>\n",
              "      <th>day</th>\n",
              "      <th>...</th>\n",
              "      <th>day_Holiday</th>\n",
              "      <th>day_Weekend</th>\n",
              "      <th>day_Work</th>\n",
              "      <th>type_Friday</th>\n",
              "      <th>type_Monday</th>\n",
              "      <th>type_Saturday</th>\n",
              "      <th>type_Sunday</th>\n",
              "      <th>type_Thursday</th>\n",
              "      <th>type_Tuesday</th>\n",
              "      <th>type_Wednesday</th>\n",
              "    </tr>\n",
              "    <tr>\n",
              "      <th>instant</th>\n",
              "      <th></th>\n",
              "      <th></th>\n",
              "      <th></th>\n",
              "      <th></th>\n",
              "      <th></th>\n",
              "      <th></th>\n",
              "      <th></th>\n",
              "      <th></th>\n",
              "      <th></th>\n",
              "      <th></th>\n",
              "      <th></th>\n",
              "      <th></th>\n",
              "      <th></th>\n",
              "      <th></th>\n",
              "      <th></th>\n",
              "      <th></th>\n",
              "      <th></th>\n",
              "      <th></th>\n",
              "      <th></th>\n",
              "      <th></th>\n",
              "      <th></th>\n",
              "    </tr>\n",
              "  </thead>\n",
              "  <tbody>\n",
              "    <tr>\n",
              "      <th>1</th>\n",
              "      <td>0</td>\n",
              "      <td>1</td>\n",
              "      <td>0</td>\n",
              "      <td>0.2879</td>\n",
              "      <td>0.81</td>\n",
              "      <td>0.0</td>\n",
              "      <td>16</td>\n",
              "      <td>Spring</td>\n",
              "      <td>Clear</td>\n",
              "      <td>Weekend</td>\n",
              "      <td>...</td>\n",
              "      <td>0.0</td>\n",
              "      <td>1.0</td>\n",
              "      <td>0.0</td>\n",
              "      <td>0.0</td>\n",
              "      <td>0.0</td>\n",
              "      <td>1.0</td>\n",
              "      <td>0.0</td>\n",
              "      <td>0.0</td>\n",
              "      <td>0.0</td>\n",
              "      <td>0.0</td>\n",
              "    </tr>\n",
              "    <tr>\n",
              "      <th>2</th>\n",
              "      <td>0</td>\n",
              "      <td>1</td>\n",
              "      <td>1</td>\n",
              "      <td>0.2727</td>\n",
              "      <td>0.80</td>\n",
              "      <td>0.0</td>\n",
              "      <td>40</td>\n",
              "      <td>Spring</td>\n",
              "      <td>Clear</td>\n",
              "      <td>Weekend</td>\n",
              "      <td>...</td>\n",
              "      <td>0.0</td>\n",
              "      <td>1.0</td>\n",
              "      <td>0.0</td>\n",
              "      <td>0.0</td>\n",
              "      <td>0.0</td>\n",
              "      <td>1.0</td>\n",
              "      <td>0.0</td>\n",
              "      <td>0.0</td>\n",
              "      <td>0.0</td>\n",
              "      <td>0.0</td>\n",
              "    </tr>\n",
              "  </tbody>\n",
              "</table>\n",
              "<p>2 rows × 29 columns</p>\n",
              "</div>\n",
              "      <button class=\"colab-df-convert\" onclick=\"convertToInteractive('df-3ce3a4d1-77bc-4472-85c8-ed4a59136620')\"\n",
              "              title=\"Convert this dataframe to an interactive table.\"\n",
              "              style=\"display:none;\">\n",
              "        \n",
              "  <svg xmlns=\"http://www.w3.org/2000/svg\" height=\"24px\"viewBox=\"0 0 24 24\"\n",
              "       width=\"24px\">\n",
              "    <path d=\"M0 0h24v24H0V0z\" fill=\"none\"/>\n",
              "    <path d=\"M18.56 5.44l.94 2.06.94-2.06 2.06-.94-2.06-.94-.94-2.06-.94 2.06-2.06.94zm-11 1L8.5 8.5l.94-2.06 2.06-.94-2.06-.94L8.5 2.5l-.94 2.06-2.06.94zm10 10l.94 2.06.94-2.06 2.06-.94-2.06-.94-.94-2.06-.94 2.06-2.06.94z\"/><path d=\"M17.41 7.96l-1.37-1.37c-.4-.4-.92-.59-1.43-.59-.52 0-1.04.2-1.43.59L10.3 9.45l-7.72 7.72c-.78.78-.78 2.05 0 2.83L4 21.41c.39.39.9.59 1.41.59.51 0 1.02-.2 1.41-.59l7.78-7.78 2.81-2.81c.8-.78.8-2.07 0-2.86zM5.41 20L4 18.59l7.72-7.72 1.47 1.35L5.41 20z\"/>\n",
              "  </svg>\n",
              "      </button>\n",
              "      \n",
              "  <style>\n",
              "    .colab-df-container {\n",
              "      display:flex;\n",
              "      flex-wrap:wrap;\n",
              "      gap: 12px;\n",
              "    }\n",
              "\n",
              "    .colab-df-convert {\n",
              "      background-color: #E8F0FE;\n",
              "      border: none;\n",
              "      border-radius: 50%;\n",
              "      cursor: pointer;\n",
              "      display: none;\n",
              "      fill: #1967D2;\n",
              "      height: 32px;\n",
              "      padding: 0 0 0 0;\n",
              "      width: 32px;\n",
              "    }\n",
              "\n",
              "    .colab-df-convert:hover {\n",
              "      background-color: #E2EBFA;\n",
              "      box-shadow: 0px 1px 2px rgba(60, 64, 67, 0.3), 0px 1px 3px 1px rgba(60, 64, 67, 0.15);\n",
              "      fill: #174EA6;\n",
              "    }\n",
              "\n",
              "    [theme=dark] .colab-df-convert {\n",
              "      background-color: #3B4455;\n",
              "      fill: #D2E3FC;\n",
              "    }\n",
              "\n",
              "    [theme=dark] .colab-df-convert:hover {\n",
              "      background-color: #434B5C;\n",
              "      box-shadow: 0px 1px 3px 1px rgba(0, 0, 0, 0.15);\n",
              "      filter: drop-shadow(0px 1px 2px rgba(0, 0, 0, 0.3));\n",
              "      fill: #FFFFFF;\n",
              "    }\n",
              "  </style>\n",
              "\n",
              "      <script>\n",
              "        const buttonEl =\n",
              "          document.querySelector('#df-3ce3a4d1-77bc-4472-85c8-ed4a59136620 button.colab-df-convert');\n",
              "        buttonEl.style.display =\n",
              "          google.colab.kernel.accessAllowed ? 'block' : 'none';\n",
              "\n",
              "        async function convertToInteractive(key) {\n",
              "          const element = document.querySelector('#df-3ce3a4d1-77bc-4472-85c8-ed4a59136620');\n",
              "          const dataTable =\n",
              "            await google.colab.kernel.invokeFunction('convertToInteractive',\n",
              "                                                     [key], {});\n",
              "          if (!dataTable) return;\n",
              "\n",
              "          const docLinkHtml = 'Like what you see? Visit the ' +\n",
              "            '<a target=\"_blank\" href=https://colab.research.google.com/notebooks/data_table.ipynb>data table notebook</a>'\n",
              "            + ' to learn more about interactive tables.';\n",
              "          element.innerHTML = '';\n",
              "          dataTable['output_type'] = 'display_data';\n",
              "          await google.colab.output.renderOutput(dataTable, element);\n",
              "          const docLink = document.createElement('div');\n",
              "          docLink.innerHTML = docLinkHtml;\n",
              "          element.appendChild(docLink);\n",
              "        }\n",
              "      </script>\n",
              "    </div>\n",
              "  </div>\n",
              "  "
            ]
          },
          "metadata": {},
          "execution_count": 273
        }
      ]
    },
    {
      "cell_type": "code",
      "source": [
        "df_hour.drop(['season_name','WC','day','type'],axis=1,inplace=True)"
      ],
      "metadata": {
        "id": "11qEKGNnApYY"
      },
      "id": "11qEKGNnApYY",
      "execution_count": null,
      "outputs": []
    },
    {
      "cell_type": "markdown",
      "id": "9054f72d",
      "metadata": {
        "id": "9054f72d"
      },
      "source": [
        "MULTIVARIATE REGRESSION"
      ]
    },
    {
      "cell_type": "code",
      "execution_count": null,
      "id": "991fec50",
      "metadata": {
        "id": "991fec50"
      },
      "outputs": [],
      "source": [
        "from sklearn.model_selection import train_test_split\n",
        "X=df_hour.drop('cnt',axis=1)\n",
        "y=df_hour['cnt']\n",
        "X_train,X_test,y_train,y_test=train_test_split(X,y,random_state=42)"
      ]
    },
    {
      "cell_type": "code",
      "execution_count": null,
      "id": "89c41771",
      "metadata": {
        "colab": {
          "base_uri": "https://localhost:8080/"
        },
        "id": "89c41771",
        "outputId": "99bee8c5-5850-4d1b-b3a9-1a5c5a26c115"
      },
      "outputs": [
        {
          "output_type": "stream",
          "name": "stdout",
          "text": [
            "                            OLS Regression Results                            \n",
            "==============================================================================\n",
            "Dep. Variable:                    cnt   R-squared:                       0.398\n",
            "Model:                            OLS   Adj. R-squared:                  0.397\n",
            "Method:                 Least Squares   F-statistic:                     452.8\n",
            "Date:                Sun, 26 Jun 2022   Prob (F-statistic):               0.00\n",
            "Time:                        15:41:53   Log-Likelihood:                -83020.\n",
            "No. Observations:               13034   AIC:                         1.661e+05\n",
            "Df Residuals:                   13014   BIC:                         1.662e+05\n",
            "Df Model:                          19                                         \n",
            "Covariance Type:            nonrobust                                         \n",
            "======================================================================================\n",
            "                         coef    std err          t      P>|t|      [0.025      0.975]\n",
            "--------------------------------------------------------------------------------------\n",
            "yr                    81.4261      2.495     32.638      0.000      76.536      86.316\n",
            "mnth                   0.0857      0.665      0.129      0.897      -1.217       1.388\n",
            "hr                     7.5780      0.192     39.477      0.000       7.202       7.954\n",
            "atemp                372.2099     11.650     31.951      0.000     349.375     395.045\n",
            "hum                 -197.6475      7.999    -24.710      0.000    -213.326    -181.969\n",
            "windspeed             42.6868     10.869      3.927      0.000      21.381      63.992\n",
            "season_name_Fall     -19.0581      8.086     -2.357      0.018     -34.908      -3.208\n",
            "season_name_Spring   -24.8125      7.153     -3.469      0.001     -38.833     -10.792\n",
            "season_name_Summer     0.3182      7.384      0.043      0.966     -14.156      14.792\n",
            "season_name_Winter    41.1902      8.064      5.108      0.000      25.383      56.998\n",
            "WC_Clear              -7.3089     18.811     -0.389      0.698     -44.181      29.563\n",
            "WC_Heavy Rain         35.2697     81.500      0.433      0.665    -124.483     195.022\n",
            "WC_Light Snow        -31.3826     19.226     -1.632      0.103     -69.069       6.304\n",
            "WC_Mist                1.0595     18.903      0.056      0.955     -35.994      38.113\n",
            "day_Holiday          -17.9240     11.033     -1.625      0.104     -39.550       3.701\n",
            "day_Weekend            4.6300      8.928      0.519      0.604     -12.871      22.131\n",
            "day_Work              10.9318      9.682      1.129      0.259      -8.046      29.910\n",
            "type_Friday            2.5069      4.859      0.516      0.606      -7.018      12.032\n",
            "type_Monday           -5.3842      4.773     -1.128      0.259     -14.741       3.973\n",
            "type_Saturday          8.6670      5.010      1.730      0.084      -1.153      18.487\n",
            "type_Sunday           -4.0370      5.034     -0.802      0.423     -13.904       5.829\n",
            "type_Thursday         -3.9111      4.849     -0.807      0.420     -13.415       5.593\n",
            "type_Tuesday          -1.5786      4.937     -0.320      0.749     -11.256       8.099\n",
            "type_Wednesday         1.3748      4.874      0.282      0.778      -8.179      10.928\n",
            "==============================================================================\n",
            "Omnibus:                     2564.652   Durbin-Watson:                   1.998\n",
            "Prob(Omnibus):                  0.000   Jarque-Bera (JB):             4985.969\n",
            "Skew:                           1.199   Prob(JB):                         0.00\n",
            "Kurtosis:                       4.853   Cond. No.                     2.40e+17\n",
            "==============================================================================\n",
            "\n",
            "Warnings:\n",
            "[1] Standard Errors assume that the covariance matrix of the errors is correctly specified.\n",
            "[2] The smallest eigenvalue is 4.93e-29. This might indicate that there are\n",
            "strong multicollinearity problems or that the design matrix is singular.\n"
          ]
        }
      ],
      "source": [
        "#X2 = sm.add_constant(X_train)\n",
        "est = sm.OLS(y_train, X_train)\n",
        "est2 = est.fit()\n",
        "print(est2.summary())"
      ]
    },
    {
      "cell_type": "markdown",
      "id": "d2ec44a0",
      "metadata": {
        "id": "d2ec44a0"
      },
      "source": [
        "From the above regression, we can see that many features have insignificant p values and hence those variables are not affecting the prediction of our dependent variable cnt. Hence, they should be dropped."
      ]
    },
    {
      "cell_type": "code",
      "execution_count": null,
      "id": "ec0dcb1e",
      "metadata": {
        "colab": {
          "base_uri": "https://localhost:8080/"
        },
        "id": "ec0dcb1e",
        "outputId": "040869a2-9b04-4f9a-bb6d-50e69481fb8a"
      },
      "outputs": [
        {
          "output_type": "stream",
          "name": "stdout",
          "text": [
            "139.4905502182475\n"
          ]
        }
      ],
      "source": [
        "y_pred=est2.predict(X_test)\n",
        "\n",
        "\n",
        "rmse_test = mean_squared_error(y_test, y_pred, squared=False)\n",
        "\n",
        "print(rmse_test)"
      ]
    },
    {
      "cell_type": "code",
      "execution_count": null,
      "id": "cea9e3d7",
      "metadata": {
        "colab": {
          "base_uri": "https://localhost:8080/"
        },
        "id": "cea9e3d7",
        "outputId": "eba8068b-c471-4ddd-e569-eed4bb722f6d"
      },
      "outputs": [
        {
          "output_type": "execute_result",
          "data": {
            "text/plain": [
              "Index(['yr', 'mnth', 'hr', 'atemp', 'hum', 'windspeed', 'cnt',\n",
              "       'season_name_Fall', 'season_name_Spring', 'season_name_Summer',\n",
              "       'season_name_Winter', 'WC_Clear', 'WC_Heavy Rain', 'WC_Light Snow',\n",
              "       'WC_Mist', 'day_Holiday', 'day_Weekend', 'day_Work', 'type_Friday',\n",
              "       'type_Monday', 'type_Saturday', 'type_Sunday', 'type_Thursday',\n",
              "       'type_Tuesday', 'type_Wednesday'],\n",
              "      dtype='object')"
            ]
          },
          "metadata": {},
          "execution_count": 278
        }
      ],
      "source": [
        "df_hour.columns"
      ]
    },
    {
      "cell_type": "code",
      "execution_count": null,
      "id": "f73f6506",
      "metadata": {
        "id": "f73f6506"
      },
      "outputs": [],
      "source": [
        "df_hour.drop(['WC_Clear', 'WC_Heavy Rain', 'WC_Light Snow',\n",
        "       'WC_Mist', 'day_Holiday', 'day_Weekend', 'day_Work', 'type_Friday',\n",
        "       'type_Monday', 'type_Saturday', 'type_Sunday', 'type_Thursday',\n",
        "       'type_Tuesday', 'type_Wednesday','mnth','season_name_Summer','windspeed'],axis=1,inplace=True)"
      ]
    },
    {
      "cell_type": "code",
      "execution_count": null,
      "id": "7a634600",
      "metadata": {
        "id": "7a634600"
      },
      "outputs": [],
      "source": [
        "X=df_hour.drop('cnt',axis=1)\n",
        "y=df_hour['cnt']\n",
        "X_train,X_test,y_train,y_test=train_test_split(X,y,random_state=42)"
      ]
    },
    {
      "cell_type": "code",
      "execution_count": null,
      "id": "68d2114f",
      "metadata": {
        "colab": {
          "base_uri": "https://localhost:8080/"
        },
        "id": "68d2114f",
        "outputId": "c1233684-607f-4159-fec0-8a7fc291d6c3"
      },
      "outputs": [
        {
          "output_type": "stream",
          "name": "stdout",
          "text": [
            "                                 OLS Regression Results                                \n",
            "=======================================================================================\n",
            "Dep. Variable:                    cnt   R-squared (uncentered):                   0.711\n",
            "Model:                            OLS   Adj. R-squared (uncentered):              0.710\n",
            "Method:                 Least Squares   F-statistic:                              4569.\n",
            "Date:                Sun, 26 Jun 2022   Prob (F-statistic):                        0.00\n",
            "Time:                        15:41:53   Log-Likelihood:                         -83062.\n",
            "No. Observations:               13034   AIC:                                  1.661e+05\n",
            "Df Residuals:                   13027   BIC:                                  1.662e+05\n",
            "Df Model:                           7                                                  \n",
            "Covariance Type:            nonrobust                                                  \n",
            "======================================================================================\n",
            "                         coef    std err          t      P>|t|      [0.025      0.975]\n",
            "--------------------------------------------------------------------------------------\n",
            "yr                    82.4513      2.467     33.416      0.000      77.615      87.288\n",
            "hr                     7.6315      0.184     41.426      0.000       7.270       7.993\n",
            "atemp                390.9964      8.254     47.372      0.000     374.818     407.175\n",
            "hum                 -201.6137      5.177    -38.947      0.000    -211.760    -191.467\n",
            "season_name_Fall     -20.7620      3.783     -5.488      0.000     -28.177     -13.347\n",
            "season_name_Spring   -19.0986      3.470     -5.504      0.000     -25.900     -12.297\n",
            "season_name_Winter    44.0589      3.456     12.750      0.000      37.285      50.833\n",
            "==============================================================================\n",
            "Omnibus:                     2548.595   Durbin-Watson:                   1.999\n",
            "Prob(Omnibus):                  0.000   Jarque-Bera (JB):             4956.284\n",
            "Skew:                           1.191   Prob(JB):                         0.00\n",
            "Kurtosis:                       4.857   Cond. No.                         101.\n",
            "==============================================================================\n",
            "\n",
            "Warnings:\n",
            "[1] Standard Errors assume that the covariance matrix of the errors is correctly specified.\n"
          ]
        }
      ],
      "source": [
        "#X2 = sm.add_constant(X_train)\n",
        "est = sm.OLS(y_train, X_train)\n",
        "est2 = est.fit()\n",
        "print(est2.summary())"
      ]
    },
    {
      "cell_type": "markdown",
      "id": "d3e603cc",
      "metadata": {
        "id": "d3e603cc"
      },
      "source": [
        "Coeffiecient of Determination is quite high in this case and we will keep this regression as our predicting model. All the features are significant as well. "
      ]
    },
    {
      "cell_type": "code",
      "execution_count": null,
      "id": "cba96e21",
      "metadata": {
        "colab": {
          "base_uri": "https://localhost:8080/"
        },
        "id": "cba96e21",
        "outputId": "b6971826-f6d1-4ec0-fa25-5f800a72569b"
      },
      "outputs": [
        {
          "output_type": "stream",
          "name": "stdout",
          "text": [
            "140.130018015678\n"
          ]
        }
      ],
      "source": [
        "y_pred=est2.predict(X_test)\n",
        "\n",
        "\n",
        "rmse_test = mean_squared_error(y_test, y_pred, squared=False)\n",
        "\n",
        "print(rmse_test)"
      ]
    },
    {
      "cell_type": "markdown",
      "id": "9c5baba2",
      "metadata": {
        "id": "9c5baba2"
      },
      "source": [
        "RMSE value is slightly higher than the previous model, still this model would be better since we have all significant predictors with high R2 value."
      ]
    },
    {
      "cell_type": "markdown",
      "source": [
        "From the above Linear Regression model, we can see that the skewness is not 0 and kurtosis is not 3 which would indicate that the residuals obtained are not normally distributed. Also, from Jarque-Bera test which is coming significant, we can say that the residuals are not normally distributed.  "
      ],
      "metadata": {
        "id": "51WQbDNyXoX5"
      },
      "id": "51WQbDNyXoX5"
    },
    {
      "cell_type": "markdown",
      "source": [
        "This means that the data is not linear and the non-linearity part of the data is not captured by the Linear Regression model. Thus, we need to use non linear regression models for our prediction analysis like Decision Tree and Random Forest."
      ],
      "metadata": {
        "id": "zF7UFQhRYHu9"
      },
      "id": "zF7UFQhRYHu9"
    },
    {
      "cell_type": "markdown",
      "source": [
        "Function for other models"
      ],
      "metadata": {
        "id": "zfgjVzi1YwFZ"
      },
      "id": "zfgjVzi1YwFZ"
    },
    {
      "cell_type": "code",
      "source": [
        "from sklearn.metrics import r2_score,mean_absolute_error,mean_squared_error\n",
        "\n",
        "# call a function named 'ml_model' which will call all Regressor model\n",
        "def predict(ml_model):\n",
        "\n",
        "    # Define Models Name\n",
        "    print('Model: {}'.format(ml_model))\n",
        "\n",
        "    # fit all models with data\n",
        "    model= ml_model.fit(X_train,y_train)\n",
        "\n",
        "    # Model Training Score\n",
        "    print(\"Training score: {}\".format(model.score(X_train,y_train)))\n",
        "\n",
        "    #finding adjusted R2 for the model\n",
        "    adj_r2=1 - (1-model.score(X_train, y_train))*(len(y_train)-1)/(len(y_train)-X_train.shape[1]-1)\n",
        "    print(\"Training Adjusted R2: {}\".format(adj_r2))\n",
        "\n",
        "    # Model Predictions\n",
        "    predictions = model.predict(X_test)\n",
        "\n",
        "    # Define r2 score for Regressor Model\n",
        "    r2score=r2_score(y_test,predictions) \n",
        "    print(\"r2 score: {}\".format(r2score))\n",
        "          \n",
        "    # Model Evaluation with MAE, MSE, RMSE\n",
        "    print('MAE:{}'.format(mean_absolute_error(y_test,predictions)))\n",
        "    print('MSE:{}'.format(mean_squared_error(y_test,predictions)))\n",
        "    print('RMSE:{}'.format(np.sqrt(mean_squared_error(y_test,predictions))))"
      ],
      "metadata": {
        "id": "XemVqMxyYeHS"
      },
      "id": "XemVqMxyYeHS",
      "execution_count": null,
      "outputs": []
    },
    {
      "cell_type": "markdown",
      "source": [
        "# Decision Tree Regression"
      ],
      "metadata": {
        "id": "Q_pM5hXAY1E4"
      },
      "id": "Q_pM5hXAY1E4"
    },
    {
      "cell_type": "code",
      "source": [
        "predict(DecisionTreeRegressor(random_state=42))"
      ],
      "metadata": {
        "colab": {
          "base_uri": "https://localhost:8080/"
        },
        "id": "DKlTTLM6Y0if",
        "outputId": "55b58415-8009-4c43-e429-49a7b84103d1"
      },
      "id": "DKlTTLM6Y0if",
      "execution_count": null,
      "outputs": [
        {
          "output_type": "stream",
          "name": "stdout",
          "text": [
            "Model: DecisionTreeRegressor(random_state=42)\n",
            "Training score: 0.9636876917441071\n",
            "Training Adjusted R2: 0.9636681779902463\n",
            "r2 score: 0.5697261353539713\n",
            "MAE:71.16410433448408\n",
            "MSE:13836.881006009464\n",
            "RMSE:117.63027248973567\n"
          ]
        }
      ]
    },
    {
      "cell_type": "markdown",
      "source": [
        "The train R2 value and test R2 are largely different from each other indicating Decision Tree is largely overfitting the train data. \n",
        "Hence, hyper-parameter tuning would be required."
      ],
      "metadata": {
        "id": "tkdTQ8YHZIHQ"
      },
      "id": "tkdTQ8YHZIHQ"
    },
    {
      "cell_type": "markdown",
      "source": [
        "# Decision Tree Regression using Random SearchCV"
      ],
      "metadata": {
        "id": "JJVYlTaYZVyZ"
      },
      "id": "JJVYlTaYZVyZ"
    },
    {
      "cell_type": "code",
      "source": [
        "# Random SearchCV for Hyper Parameter Tuning\n",
        "\n",
        "# Maximum number of levels in tree\n",
        "max_depth = [int(x) for x in np.linspace(5, 25, num = 10)]\n",
        "\n",
        "max_features = ['auto', 'sqrt', 5, 6, 8, 10]\n",
        "\n",
        "\n",
        "random_grid = {'max_features': max_features,\n",
        "               'max_depth': max_depth}\n",
        "\n",
        "train_model = DecisionTreeRegressor(random_state = 42)\n",
        "\n",
        "# Random search of parameters, using 3 fold cross validation,\n",
        "# search across 100 different combinations, and use all available scores\n",
        "\n",
        "train_model_random = RandomizedSearchCV(estimator = train_model, param_distributions = random_grid, n_iter = 10, cv = 5, \n",
        "                                        verbose=2, random_state=42, n_jobs = -1)\n",
        "\n",
        "# Fit the random search model\n",
        "train_model_random.fit(X_train,y_train)\n",
        "\n",
        "print(train_model_random.best_params_)\n",
        "print(train_model_random.best_estimator_)"
      ],
      "metadata": {
        "colab": {
          "base_uri": "https://localhost:8080/"
        },
        "id": "DU3ZvHKtZZ3R",
        "outputId": "9abd3e98-027d-45d0-df8b-2fb7594acbf6"
      },
      "id": "DU3ZvHKtZZ3R",
      "execution_count": null,
      "outputs": [
        {
          "output_type": "stream",
          "name": "stdout",
          "text": [
            "Fitting 5 folds for each of 10 candidates, totalling 50 fits\n",
            "{'max_features': 'auto', 'max_depth': 9}\n",
            "DecisionTreeRegressor(max_depth=9, max_features='auto', random_state=42)\n"
          ]
        },
        {
          "output_type": "stream",
          "name": "stderr",
          "text": [
            "/usr/local/lib/python3.7/dist-packages/sklearn/model_selection/_validation.py:372: FitFailedWarning: \n",
            "5 fits failed out of a total of 50.\n",
            "The score on these train-test partitions for these parameters will be set to nan.\n",
            "If these failures are not expected, you can try to debug them by setting error_score='raise'.\n",
            "\n",
            "Below are more details about the failures:\n",
            "--------------------------------------------------------------------------------\n",
            "5 fits failed with the following error:\n",
            "Traceback (most recent call last):\n",
            "  File \"/usr/local/lib/python3.7/dist-packages/sklearn/model_selection/_validation.py\", line 680, in _fit_and_score\n",
            "    estimator.fit(X_train, y_train, **fit_params)\n",
            "  File \"/usr/local/lib/python3.7/dist-packages/sklearn/tree/_classes.py\", line 1320, in fit\n",
            "    X_idx_sorted=X_idx_sorted,\n",
            "  File \"/usr/local/lib/python3.7/dist-packages/sklearn/tree/_classes.py\", line 308, in fit\n",
            "    raise ValueError(\"max_features must be in (0, n_features]\")\n",
            "ValueError: max_features must be in (0, n_features]\n",
            "\n",
            "  warnings.warn(some_fits_failed_message, FitFailedWarning)\n",
            "/usr/local/lib/python3.7/dist-packages/sklearn/model_selection/_search.py:972: UserWarning: One or more of the test scores are non-finite: [0.64062068        nan 0.60256061 0.58994217 0.64372449 0.57452219\n",
            " 0.62900899 0.58225253 0.72246826 0.57350652]\n",
            "  category=UserWarning,\n"
          ]
        }
      ]
    },
    {
      "cell_type": "code",
      "source": [
        "predict(DecisionTreeRegressor(max_depth=9, max_features='auto', random_state=42))"
      ],
      "metadata": {
        "colab": {
          "base_uri": "https://localhost:8080/"
        },
        "id": "Y30dvoXSaCv0",
        "outputId": "31d3b9fc-0954-41a5-9411-1af38694dd99"
      },
      "id": "Y30dvoXSaCv0",
      "execution_count": null,
      "outputs": [
        {
          "output_type": "stream",
          "name": "stdout",
          "text": [
            "Model: DecisionTreeRegressor(max_depth=9, max_features='auto', random_state=42)\n",
            "Training score: 0.7726269961149963\n",
            "Training Adjusted R2: 0.7725048088720057\n",
            "r2 score: 0.7410324289394203\n",
            "MAE:61.23123793447387\n",
            "MSE:8327.959840480667\n",
            "RMSE:91.25765633896516\n"
          ]
        }
      ]
    },
    {
      "cell_type": "markdown",
      "source": [
        "The Decision Tree Regression model, after hyper-parameter tuning, gives lesser MAE, MSE and RMSE scores and the problem of over-fitting is also solved."
      ],
      "metadata": {
        "id": "SrS8t18LaQAk"
      },
      "id": "SrS8t18LaQAk"
    },
    {
      "cell_type": "markdown",
      "source": [
        "Next, we will check with Random Forest regression model and see if the results are improved further."
      ],
      "metadata": {
        "id": "C-Cnyj8DaddQ"
      },
      "id": "C-Cnyj8DaddQ"
    },
    {
      "cell_type": "markdown",
      "source": [
        "#Random Forest Regression"
      ],
      "metadata": {
        "id": "r_-zjBnbam80"
      },
      "id": "r_-zjBnbam80"
    },
    {
      "cell_type": "code",
      "source": [
        "predict(RandomForestRegressor(random_state = 42))"
      ],
      "metadata": {
        "colab": {
          "base_uri": "https://localhost:8080/"
        },
        "id": "2Bw7oLAxapcu",
        "outputId": "b1ed66c7-f4d9-4dad-ec29-0baccbab5625"
      },
      "id": "2Bw7oLAxapcu",
      "execution_count": null,
      "outputs": [
        {
          "output_type": "stream",
          "name": "stdout",
          "text": [
            "Model: RandomForestRegressor(random_state=42)\n",
            "Training score: 0.9370503888161182\n",
            "Training Adjusted R2: 0.9370165605282104\n",
            "r2 score: 0.7205349824453304\n",
            "MAE:60.42608905036914\n",
            "MSE:8987.12311152687\n",
            "RMSE:94.80043835092151\n"
          ]
        }
      ]
    },
    {
      "cell_type": "markdown",
      "source": [
        "Without any hyper-parameter tuning, we can see that RF model is not able to overcome the problem of overfitting properly. Hence, I will do with RF modeling using Random SearchCV."
      ],
      "metadata": {
        "id": "pCFg3qWma12g"
      },
      "id": "pCFg3qWma12g"
    },
    {
      "cell_type": "markdown",
      "source": [
        "#Random Forest Regression using Random SearchCV"
      ],
      "metadata": {
        "id": "rQdc4F1nbDE6"
      },
      "id": "rQdc4F1nbDE6"
    },
    {
      "cell_type": "code",
      "source": [
        "# Random SearchCV for Hyper Parameter Tuning\n",
        "\n",
        "# Maximum number of levels in tree\n",
        "# Number of trees in random forest\n",
        "n_estimators = [int(x) for x in np.linspace(start = 100, stop = 800, num = 8)]\n",
        "max_depth = [int(x) for x in np.linspace(5, 25, num = 10)]\n",
        "max_features = ['auto', 'sqrt', 5, 6, 8, 10]\n",
        "\n",
        "random_grid = {'n_estimators': n_estimators,\n",
        "               'max_features': max_features,\n",
        "               'max_depth': max_depth}\n",
        "\n",
        "train_model = RandomForestRegressor(random_state = 42)\n",
        "\n",
        "# Random search of parameters, using 3 fold cross validation,\n",
        "# search across 100 different combinations, and use all available cores\n",
        "\n",
        "train_model_random = RandomizedSearchCV(estimator = train_model, param_distributions = random_grid, n_iter = 10, cv = 5, \n",
        "                                        verbose=2, random_state=42, n_jobs = -1)\n",
        "\n",
        "# Fit the random search model\n",
        "train_model_random.fit(X_train,y_train)\n",
        "\n",
        "print(train_model_random.best_params_)\n",
        "print(train_model_random.best_estimator_)"
      ],
      "metadata": {
        "colab": {
          "base_uri": "https://localhost:8080/"
        },
        "id": "GpCLcpSCbKdW",
        "outputId": "3cd4e56d-9ebd-41c8-e118-25928da8d712"
      },
      "id": "GpCLcpSCbKdW",
      "execution_count": null,
      "outputs": [
        {
          "output_type": "stream",
          "name": "stdout",
          "text": [
            "Fitting 5 folds for each of 10 candidates, totalling 50 fits\n"
          ]
        },
        {
          "output_type": "stream",
          "name": "stderr",
          "text": [
            "/usr/local/lib/python3.7/dist-packages/joblib/externals/loky/process_executor.py:705: UserWarning: A worker stopped while some jobs were given to the executor. This can be caused by a too short worker timeout or by a memory leak.\n",
            "  \"timeout or by a memory leak.\", UserWarning\n",
            "/usr/local/lib/python3.7/dist-packages/sklearn/model_selection/_validation.py:372: FitFailedWarning: \n",
            "10 fits failed out of a total of 50.\n",
            "The score on these train-test partitions for these parameters will be set to nan.\n",
            "If these failures are not expected, you can try to debug them by setting error_score='raise'.\n",
            "\n",
            "Below are more details about the failures:\n",
            "--------------------------------------------------------------------------------\n",
            "10 fits failed with the following error:\n",
            "Traceback (most recent call last):\n",
            "  File \"/usr/local/lib/python3.7/dist-packages/sklearn/model_selection/_validation.py\", line 680, in _fit_and_score\n",
            "    estimator.fit(X_train, y_train, **fit_params)\n",
            "  File \"/usr/local/lib/python3.7/dist-packages/sklearn/ensemble/_forest.py\", line 467, in fit\n",
            "    for i, t in enumerate(trees)\n",
            "  File \"/usr/local/lib/python3.7/dist-packages/joblib/parallel.py\", line 1043, in __call__\n",
            "    if self.dispatch_one_batch(iterator):\n",
            "  File \"/usr/local/lib/python3.7/dist-packages/joblib/parallel.py\", line 861, in dispatch_one_batch\n",
            "    self._dispatch(tasks)\n",
            "  File \"/usr/local/lib/python3.7/dist-packages/joblib/parallel.py\", line 779, in _dispatch\n",
            "    job = self._backend.apply_async(batch, callback=cb)\n",
            "  File \"/usr/local/lib/python3.7/dist-packages/joblib/_parallel_backends.py\", line 208, in apply_async\n",
            "    result = ImmediateResult(func)\n",
            "  File \"/usr/local/lib/python3.7/dist-packages/joblib/_parallel_backends.py\", line 572, in __init__\n",
            "    self.results = batch()\n",
            "  File \"/usr/local/lib/python3.7/dist-packages/joblib/parallel.py\", line 263, in __call__\n",
            "    for func, args, kwargs in self.items]\n",
            "  File \"/usr/local/lib/python3.7/dist-packages/joblib/parallel.py\", line 263, in <listcomp>\n",
            "    for func, args, kwargs in self.items]\n",
            "  File \"/usr/local/lib/python3.7/dist-packages/sklearn/utils/fixes.py\", line 216, in __call__\n",
            "    return self.function(*args, **kwargs)\n",
            "  File \"/usr/local/lib/python3.7/dist-packages/sklearn/ensemble/_forest.py\", line 185, in _parallel_build_trees\n",
            "    tree.fit(X, y, sample_weight=curr_sample_weight, check_input=False)\n",
            "  File \"/usr/local/lib/python3.7/dist-packages/sklearn/tree/_classes.py\", line 1320, in fit\n",
            "    X_idx_sorted=X_idx_sorted,\n",
            "  File \"/usr/local/lib/python3.7/dist-packages/sklearn/tree/_classes.py\", line 308, in fit\n",
            "    raise ValueError(\"max_features must be in (0, n_features]\")\n",
            "ValueError: max_features must be in (0, n_features]\n",
            "\n",
            "  warnings.warn(some_fits_failed_message, FitFailedWarning)\n",
            "/usr/local/lib/python3.7/dist-packages/sklearn/model_selection/_search.py:972: UserWarning: One or more of the test scores are non-finite: [0.72842776 0.72823058 0.72869876        nan 0.72873691 0.76097518\n",
            " 0.74047025        nan 0.7287466  0.72829626]\n",
            "  category=UserWarning,\n"
          ]
        },
        {
          "output_type": "stream",
          "name": "stdout",
          "text": [
            "{'n_estimators': 500, 'max_features': 6, 'max_depth': 11}\n",
            "RandomForestRegressor(max_depth=11, max_features=6, n_estimators=500,\n",
            "                      random_state=42)\n"
          ]
        }
      ]
    },
    {
      "cell_type": "code",
      "source": [
        "predict(RandomForestRegressor(max_depth=11, max_features=6, n_estimators=500,\n",
        "                      random_state=42))"
      ],
      "metadata": {
        "colab": {
          "base_uri": "https://localhost:8080/"
        },
        "id": "U8VX7bgYcdnh",
        "outputId": "63f56d09-e20a-4a49-c326-72e5d9cad23c"
      },
      "id": "U8VX7bgYcdnh",
      "execution_count": null,
      "outputs": [
        {
          "output_type": "stream",
          "name": "stdout",
          "text": [
            "Model: RandomForestRegressor(max_depth=11, max_features=6, n_estimators=500,\n",
            "                      random_state=42)\n",
            "Training score: 0.8306202212512882\n",
            "Training Adjusted R2: 0.8305291987999416\n",
            "r2 score: 0.7689289047638156\n",
            "MAE:57.79175920473683\n",
            "MSE:7430.856278806695\n",
            "RMSE:86.2024145764299\n"
          ]
        }
      ]
    },
    {
      "cell_type": "markdown",
      "source": [
        "The performance metrics scores have decreased further and R2 value has increased, thereby we can conclude that Random Forest Regression model is performing better than Decision Tree. Thus, the model that I will use for predicting the bike rental behaviour is Random Forest Regression."
      ],
      "metadata": {
        "id": "VJlUJ8BOcw9l"
      },
      "id": "VJlUJ8BOcw9l"
    },
    {
      "cell_type": "markdown",
      "source": [
        "# CONCLUSION:\n",
        "\n"
      ],
      "metadata": {
        "id": "BrmsF_IxB8Dq"
      },
      "id": "BrmsF_IxB8Dq"
    },
    {
      "cell_type": "markdown",
      "source": [
        "This model would help any rental business to get an estimate of the number of bikes that would be rented based on the features like year, hour, temperature, season,etc. They would understand the hourly demand of bikes in a day and grow their business accordingly. \n",
        "\n",
        "The model used here is Random Forest Regression which is able to predict the number of bikes that could be rented in an hourly basis."
      ],
      "metadata": {
        "id": "8zB0LvOzCuM2"
      },
      "id": "8zB0LvOzCuM2"
    },
    {
      "cell_type": "code",
      "source": [
        ""
      ],
      "metadata": {
        "id": "RThMokR9CkOG"
      },
      "id": "RThMokR9CkOG",
      "execution_count": null,
      "outputs": []
    }
  ],
  "metadata": {
    "kernelspec": {
      "display_name": "Python 3",
      "language": "python",
      "name": "python3"
    },
    "language_info": {
      "codemirror_mode": {
        "name": "ipython",
        "version": 3
      },
      "file_extension": ".py",
      "mimetype": "text/x-python",
      "name": "python",
      "nbconvert_exporter": "python",
      "pygments_lexer": "ipython3",
      "version": "3.8.8"
    },
    "colab": {
      "name": "Bike Rental Data Analysis.ipynb",
      "provenance": [],
      "collapsed_sections": []
    }
  },
  "nbformat": 4,
  "nbformat_minor": 5
}